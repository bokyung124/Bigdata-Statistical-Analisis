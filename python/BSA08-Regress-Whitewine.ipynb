{
 "cells": [
  {
   "cell_type": "markdown",
   "metadata": {},
   "source": [
    "## Libear Regression & Logistic Regression"
   ]
  },
  {
   "cell_type": "code",
   "execution_count": 1,
   "metadata": {},
   "outputs": [],
   "source": [
    "import numpy as np\n",
    "import pandas as pd\n",
    "import matplotlib.pyplot as plt\n",
    "from sklearn.linear_model import LinearRegression\n",
    "import statsmodels.api as sm\n"
   ]
  },
  {
   "cell_type": "code",
   "execution_count": 2,
   "metadata": {},
   "outputs": [
    {
     "data": {
      "text/plain": [
       "x1     0\n",
       "x2     0\n",
       "x3     0\n",
       "x4     0\n",
       "x5     0\n",
       "x6     0\n",
       "x7     0\n",
       "x8     0\n",
       "x9     0\n",
       "x10    0\n",
       "x11    0\n",
       "y      0\n",
       "dtype: int64"
      ]
     },
     "execution_count": 2,
     "metadata": {},
     "output_type": "execute_result"
    }
   ],
   "source": [
    "whitedata = pd.read_csv(\"white.csv\")   # dataframe\n",
    "whitedata.isna().sum()"
   ]
  },
  {
   "cell_type": "code",
   "execution_count": 3,
   "metadata": {},
   "outputs": [
    {
     "data": {
      "text/html": [
       "<div>\n",
       "<style scoped>\n",
       "    .dataframe tbody tr th:only-of-type {\n",
       "        vertical-align: middle;\n",
       "    }\n",
       "\n",
       "    .dataframe tbody tr th {\n",
       "        vertical-align: top;\n",
       "    }\n",
       "\n",
       "    .dataframe thead th {\n",
       "        text-align: right;\n",
       "    }\n",
       "</style>\n",
       "<table border=\"1\" class=\"dataframe\">\n",
       "  <thead>\n",
       "    <tr style=\"text-align: right;\">\n",
       "      <th></th>\n",
       "      <th>x1</th>\n",
       "      <th>x2</th>\n",
       "      <th>x3</th>\n",
       "      <th>x4</th>\n",
       "      <th>x5</th>\n",
       "      <th>x6</th>\n",
       "      <th>x7</th>\n",
       "      <th>x8</th>\n",
       "      <th>x9</th>\n",
       "      <th>x10</th>\n",
       "      <th>x11</th>\n",
       "      <th>y</th>\n",
       "    </tr>\n",
       "  </thead>\n",
       "  <tbody>\n",
       "    <tr>\n",
       "      <th>0</th>\n",
       "      <td>7.0</td>\n",
       "      <td>0.27</td>\n",
       "      <td>0.36</td>\n",
       "      <td>20.7</td>\n",
       "      <td>0.045</td>\n",
       "      <td>45.0</td>\n",
       "      <td>170.0</td>\n",
       "      <td>1.0010</td>\n",
       "      <td>3.00</td>\n",
       "      <td>0.45</td>\n",
       "      <td>8.8</td>\n",
       "      <td>6</td>\n",
       "    </tr>\n",
       "    <tr>\n",
       "      <th>1</th>\n",
       "      <td>6.3</td>\n",
       "      <td>0.30</td>\n",
       "      <td>0.34</td>\n",
       "      <td>1.6</td>\n",
       "      <td>0.049</td>\n",
       "      <td>14.0</td>\n",
       "      <td>132.0</td>\n",
       "      <td>0.9940</td>\n",
       "      <td>3.30</td>\n",
       "      <td>0.49</td>\n",
       "      <td>9.5</td>\n",
       "      <td>6</td>\n",
       "    </tr>\n",
       "    <tr>\n",
       "      <th>2</th>\n",
       "      <td>8.1</td>\n",
       "      <td>0.28</td>\n",
       "      <td>0.40</td>\n",
       "      <td>6.9</td>\n",
       "      <td>0.050</td>\n",
       "      <td>30.0</td>\n",
       "      <td>97.0</td>\n",
       "      <td>0.9951</td>\n",
       "      <td>3.26</td>\n",
       "      <td>0.44</td>\n",
       "      <td>10.1</td>\n",
       "      <td>6</td>\n",
       "    </tr>\n",
       "    <tr>\n",
       "      <th>3</th>\n",
       "      <td>7.2</td>\n",
       "      <td>0.23</td>\n",
       "      <td>0.32</td>\n",
       "      <td>8.5</td>\n",
       "      <td>0.058</td>\n",
       "      <td>47.0</td>\n",
       "      <td>186.0</td>\n",
       "      <td>0.9956</td>\n",
       "      <td>3.19</td>\n",
       "      <td>0.40</td>\n",
       "      <td>9.9</td>\n",
       "      <td>6</td>\n",
       "    </tr>\n",
       "    <tr>\n",
       "      <th>4</th>\n",
       "      <td>7.2</td>\n",
       "      <td>0.23</td>\n",
       "      <td>0.32</td>\n",
       "      <td>8.5</td>\n",
       "      <td>0.058</td>\n",
       "      <td>47.0</td>\n",
       "      <td>186.0</td>\n",
       "      <td>0.9956</td>\n",
       "      <td>3.19</td>\n",
       "      <td>0.40</td>\n",
       "      <td>9.9</td>\n",
       "      <td>6</td>\n",
       "    </tr>\n",
       "  </tbody>\n",
       "</table>\n",
       "</div>"
      ],
      "text/plain": [
       "    x1    x2    x3    x4     x5    x6     x7      x8    x9   x10   x11  y\n",
       "0  7.0  0.27  0.36  20.7  0.045  45.0  170.0  1.0010  3.00  0.45   8.8  6\n",
       "1  6.3  0.30  0.34   1.6  0.049  14.0  132.0  0.9940  3.30  0.49   9.5  6\n",
       "2  8.1  0.28  0.40   6.9  0.050  30.0   97.0  0.9951  3.26  0.44  10.1  6\n",
       "3  7.2  0.23  0.32   8.5  0.058  47.0  186.0  0.9956  3.19  0.40   9.9  6\n",
       "4  7.2  0.23  0.32   8.5  0.058  47.0  186.0  0.9956  3.19  0.40   9.9  6"
      ]
     },
     "execution_count": 3,
     "metadata": {},
     "output_type": "execute_result"
    }
   ],
   "source": [
    "whitedata.head()  # whitedata.tail()"
   ]
  },
  {
   "cell_type": "markdown",
   "metadata": {},
   "source": [
    "### Linear Regression "
   ]
  },
  {
   "cell_type": "code",
   "execution_count": 4,
   "metadata": {},
   "outputs": [
    {
     "data": {
      "image/png": "[encoded data removed]",
      "text/plain": [
       "<Figure size 640x480 with 1 Axes>"
      ]
     },
     "metadata": {},
     "output_type": "display_data"
    }
   ],
   "source": [
    "y = whitedata.y  # whitedata[\"y\"]\n",
    "x = whitedata.x1\n",
    "plt.scatter(x,y,color=\"blue\"); plt.show()       # 산점도"
   ]
  },
  {
   "cell_type": "code",
   "execution_count": 5,
   "metadata": {},
   "outputs": [],
   "source": [
    "x = whitedata[\"x1\"].to_frame()\n",
    "y = whitedata.y"
   ]
  },
  {
   "cell_type": "code",
   "execution_count": 6,
   "metadata": {},
   "outputs": [
    {
     "name": "stdout",
     "output_type": "stream",
     "text": [
      "-0.1192889886319587 6.695610039009974\n"
     ]
    }
   ],
   "source": [
    "slm = LinearRegression().fit(x,y)        \n",
    "w, b = slm.coef_[0], slm.intercept_\n",
    "print(w,b)"
   ]
  },
  {
   "cell_type": "code",
   "execution_count": 7,
   "metadata": {},
   "outputs": [
    {
     "name": "stdout",
     "output_type": "stream",
     "text": [
      "3.8 14.2\n"
     ]
    }
   ],
   "source": [
    "x0, x1 = x[\"x1\"].min(), x[\"x1\"].max()\n",
    "print(x0, x1)"
   ]
  },
  {
   "cell_type": "code",
   "execution_count": 8,
   "metadata": {},
   "outputs": [
    {
     "data": {
      "image/png": "[encoded data removed]",
      "text/plain": [
       "<Figure size 640x480 with 1 Axes>"
      ]
     },
     "metadata": {},
     "output_type": "display_data"
    }
   ],
   "source": [
    "plt.scatter(x,y,color=\"blue\")\n",
    "plt.plot([x0,x1],[w*x0+b,w*x1+b],'r'); plt.show()"
   ]
  },
  {
   "cell_type": "code",
   "execution_count": 9,
   "metadata": {},
   "outputs": [
    {
     "name": "stdout",
     "output_type": "stream",
     "text": [
      "                            OLS Regression Results                            \n",
      "==============================================================================\n",
      "Dep. Variable:                      y   R-squared:                       0.013\n",
      "Model:                            OLS   Adj. R-squared:                  0.013\n",
      "Method:                 Least Squares   F-statistic:                     64.08\n",
      "Date:                Mon, 22 May 2023   Prob (F-statistic):           1.48e-15\n",
      "Time:                        15:03:24   Log-Likelihood:                -6322.8\n",
      "No. Observations:                4898   AIC:                         1.265e+04\n",
      "Df Residuals:                    4896   BIC:                         1.266e+04\n",
      "Df Model:                           1                                         \n",
      "Covariance Type:            nonrobust                                         \n",
      "==============================================================================\n",
      "                 coef    std err          t      P>|t|      [0.025      0.975]\n",
      "------------------------------------------------------------------------------\n",
      "const          6.6956      0.103     65.057      0.000       6.494       6.897\n",
      "x1            -0.1193      0.015     -8.005      0.000      -0.149      -0.090\n",
      "==============================================================================\n",
      "Omnibus:                       29.986   Durbin-Watson:                   1.657\n",
      "Prob(Omnibus):                  0.000   Jarque-Bera (JB):               31.513\n",
      "Skew:                           0.166   Prob(JB):                     1.44e-07\n",
      "Kurtosis:                       3.211   Cond. No.                         57.7\n",
      "==============================================================================\n",
      "\n",
      "Notes:\n",
      "[1] Standard Errors assume that the covariance matrix of the errors is correctly specified.\n"
     ]
    }
   ],
   "source": [
    "model = sm.OLS(y, sm.add_constant(x))   # sm.OLS(y,x)와 비교\n",
    "results = model.fit()   # sm.OLS(y, sm.add_constant(x)).fit()\n",
    "print(results.summary())\n"
   ]
  },
  {
   "cell_type": "code",
   "execution_count": 10,
   "metadata": {},
   "outputs": [],
   "source": [
    "## Multiple linear regression\n",
    "X = whitedata.drop([\"y\"],axis=1)\n",
    "y = whitedata[\"y\"]"
   ]
  },
  {
   "cell_type": "code",
   "execution_count": 11,
   "metadata": {},
   "outputs": [],
   "source": [
    "from sklearn.model_selection import train_test_split\n",
    "\n",
    "X_train, X_test, y_train, y_test = train_test_split(X, y, test_size=0.3, random_state=100)"
   ]
  },
  {
   "cell_type": "code",
   "execution_count": 12,
   "metadata": {},
   "outputs": [
    {
     "name": "stdout",
     "output_type": "stream",
     "text": [
      "[ 8.00846101e-02 -1.70374343e+00  5.69767648e-02  8.17351234e-02\n",
      " -1.64381383e-02  4.96141486e-03 -4.74149230e-04 -1.48223181e+02\n",
      "  7.49786197e-01  7.33900620e-01  2.08766177e-01]\n"
     ]
    }
   ],
   "source": [
    "lrm = LinearRegression(n_jobs=-1)      # fit_intercept=True\n",
    "result = lrm.fit(X_train, y_train)\n",
    "print(result.coef_)"
   ]
  },
  {
   "cell_type": "code",
   "execution_count": 13,
   "metadata": {},
   "outputs": [
    {
     "name": "stdout",
     "output_type": "stream",
     "text": [
      "['x1' 'x2' 'x3' 'x4' 'x5' 'x6' 'x7' 'x8' 'x9' 'x10' 'x11']\n"
     ]
    }
   ],
   "source": [
    "print(result.feature_names_in_)"
   ]
  },
  {
   "cell_type": "code",
   "execution_count": 14,
   "metadata": {},
   "outputs": [
    {
     "name": "stdout",
     "output_type": "stream",
     "text": [
      "[6.13867211 4.87485387 5.80282258 6.02253147 6.30505131 6.55048122\n",
      " 5.98089896 6.06284824 5.56466996 5.94534116]\n"
     ]
    }
   ],
   "source": [
    "forecast = lrm.predict(X_test)\n",
    "print(forecast[0:10])"
   ]
  },
  {
   "cell_type": "code",
   "execution_count": 15,
   "metadata": {},
   "outputs": [
    {
     "name": "stdout",
     "output_type": "stream",
     "text": [
      "0.24803962262650736\n"
     ]
    }
   ],
   "source": [
    "accuracy = lrm.score(X_test, y_test)    # 결정계수\n",
    "print(accuracy)"
   ]
  },
  {
   "cell_type": "code",
   "execution_count": 16,
   "metadata": {},
   "outputs": [
    {
     "name": "stdout",
     "output_type": "stream",
     "text": [
      "                            OLS Regression Results                            \n",
      "==============================================================================\n",
      "Dep. Variable:                      y   R-squared:                       0.294\n",
      "Model:                            OLS   Adj. R-squared:                  0.291\n",
      "Method:                 Least Squares   F-statistic:                     129.1\n",
      "Date:                Mon, 22 May 2023   Prob (F-statistic):          3.70e-248\n",
      "Time:                        15:03:24   Log-Likelihood:                -3878.0\n",
      "No. Observations:                3428   AIC:                             7780.\n",
      "Df Residuals:                    3416   BIC:                             7854.\n",
      "Df Model:                          11                                         \n",
      "Covariance Type:            nonrobust                                         \n",
      "==============================================================================\n",
      "                 coef    std err          t      P>|t|      [0.025      0.975]\n",
      "------------------------------------------------------------------------------\n",
      "const        147.5394     21.311      6.923      0.000     105.755     189.324\n",
      "x1             0.0801      0.025      3.246      0.001       0.032       0.128\n",
      "x2            -1.7037      0.136    -12.503      0.000      -1.971      -1.437\n",
      "x3             0.0570      0.117      0.489      0.625      -0.172       0.286\n",
      "x4             0.0817      0.009      9.368      0.000       0.065       0.099\n",
      "x5            -0.0164      0.687     -0.024      0.981      -1.363       1.330\n",
      "x6             0.0050      0.001      4.790      0.000       0.003       0.007\n",
      "x7            -0.0005      0.000     -1.061      0.289      -0.001       0.000\n",
      "x8          -148.2232     21.632     -6.852      0.000    -190.635    -105.811\n",
      "x9             0.7498      0.124      6.048      0.000       0.507       0.993\n",
      "x10            0.7339      0.121      6.082      0.000       0.497       0.971\n",
      "x11            0.2088      0.028      7.557      0.000       0.155       0.263\n",
      "==============================================================================\n",
      "Omnibus:                       65.953   Durbin-Watson:                   1.982\n",
      "Prob(Omnibus):                  0.000   Jarque-Bera (JB):              123.067\n",
      "Skew:                           0.114   Prob(JB):                     1.89e-27\n",
      "Kurtosis:                       3.900   Cond. No.                     3.54e+05\n",
      "==============================================================================\n",
      "\n",
      "Notes:\n",
      "[1] Standard Errors assume that the covariance matrix of the errors is correctly specified.\n",
      "[2] The condition number is large, 3.54e+05. This might indicate that there are\n",
      "strong multicollinearity or other numerical problems.\n"
     ]
    }
   ],
   "source": [
    "model = sm.OLS(y_train, sm.add_constant(X_train))   # sm.OLS(y,x)와 비교\n",
    "results = model.fit()   # sm.OLS(y, sm.add_constant(x)).fit()\n",
    "print(results.summary())"
   ]
  },
  {
   "cell_type": "markdown",
   "metadata": {},
   "source": [
    "### LASSO, Ridge regression\n",
    "\n",
    "- Elastic net\n",
    "$$ \\min_{\\beta \\in R^p} \\left\\{ ||y- X \\beta||_2^2 + \\lambda_1 ||\\beta||_1 + \\lambda_2 ||\\beta||_2^2 \\right\\} $$\n",
    "- Lasso : $\\lambda_2 = 0$\n",
    "- Ridge : $\\lambda_1 = 0$"
   ]
  },
  {
   "cell_type": "code",
   "execution_count": 17,
   "metadata": {},
   "outputs": [],
   "source": [
    "from sklearn.linear_model import Lasso, Ridge"
   ]
  },
  {
   "cell_type": "code",
   "execution_count": 18,
   "metadata": {},
   "outputs": [],
   "source": [
    "lasso = Lasso(alpha=0.1)\n",
    "ridge = Ridge(alpha=0.1)  # alpha=0: OLS"
   ]
  },
  {
   "cell_type": "code",
   "execution_count": 19,
   "metadata": {},
   "outputs": [
    {
     "name": "stdout",
     "output_type": "stream",
     "text": [
      "3.1350119050228873 [-0.         -0.          0.          0.00658765 -0.          0.00931903\n",
      " -0.0026721  -0.          0.          0.          0.26000292]\n"
     ]
    }
   ],
   "source": [
    "lasso.fit(X_train, y_train)\n",
    "print(lasso.intercept_ , lasso.coef_ )"
   ]
  },
  {
   "cell_type": "code",
   "execution_count": 20,
   "metadata": {},
   "outputs": [
    {
     "name": "stdout",
     "output_type": "stream",
     "text": [
      "[5.98542298 5.39795764 5.75828732 5.94075017 6.3486235  6.35493312\n",
      " 5.74667097 6.083002   5.67070478 5.79674228]\n"
     ]
    }
   ],
   "source": [
    "forecast = lasso.predict(X_test)\n",
    "print(forecast[0:10])"
   ]
  },
  {
   "cell_type": "code",
   "execution_count": 21,
   "metadata": {},
   "outputs": [
    {
     "name": "stdout",
     "output_type": "stream",
     "text": [
      "[[0.55654338 0.55754247 0.55895592 0.56078362 0.56287797]\n",
      " [0.61139232 0.61249228 0.6140055  0.61593186 0.6182691 ]\n",
      " [0.58296263 0.58362729 0.5847119  0.58621639 0.58799306]\n",
      " [0.55206037 0.55356372 0.55552747 0.55782555 0.56025438]\n",
      " [0.56305668 0.56489902 0.5671934  0.56993981 0.57313065]\n",
      " [0.5373921  0.53742798 0.53775101 0.53813259 0.53889269]\n",
      " [0.53446593 0.53528381 0.53650822 0.53813912 0.54014986]\n",
      " [0.55256412 0.55258589 0.55297556 0.55373315 0.55454691]\n",
      " [0.56251776 0.56363335 0.56519428 0.56697298 0.56896089]\n",
      " [0.60054967 0.60002101 0.59996607 0.60038494 0.60097645]]\n"
     ]
    }
   ],
   "source": [
    "## training-validation procedure(반복 with train-test-split)\n",
    "from sklearn.metrics import mean_squared_error\n",
    "\n",
    "result = np.zeros((10,5))\n",
    "a = [0.001, 0.002, 0.003, 0.004, 0.005]\n",
    "for step in range(10):\n",
    "    X0, X1, y0, y1 = train_test_split(X, y, test_size=0.3)\n",
    "    for choice in range(len(a)):\n",
    "        lasso = Lasso(alpha=a[choice])      # sklearn.preprocessing.StandardScaler\n",
    "        lasso.fit(X0, y0); forecast = lasso.predict(X1)\n",
    "        result[step,choice] = mean_squared_error(y1,forecast)\n",
    "print(result)"
   ]
  },
  {
   "cell_type": "code",
   "execution_count": 22,
   "metadata": {},
   "outputs": [
    {
     "data": {
      "text/plain": [
       "0    0.565350\n",
       "1    0.566108\n",
       "2    0.567279\n",
       "3    0.568806\n",
       "4    0.570605\n",
       "dtype: float64"
      ]
     },
     "execution_count": 22,
     "metadata": {},
     "output_type": "execute_result"
    }
   ],
   "source": [
    "result = pd.DataFrame(result)\n",
    "result.mean()"
   ]
  },
  {
   "cell_type": "markdown",
   "metadata": {},
   "source": [
    "### Logistic Regression"
   ]
  },
  {
   "cell_type": "code",
   "execution_count": 23,
   "metadata": {},
   "outputs": [],
   "source": [
    "whitedata[\"good\"] = (whitedata.y > 5).astype(float)\n",
    "\n",
    "y_binary = whitedata[\"good\"]\n",
    "X_train, X_test, y_train, y_test = train_test_split(X, y_binary, test_size=0.3, random_state=100)"
   ]
  },
  {
   "cell_type": "code",
   "execution_count": 53,
   "metadata": {},
   "outputs": [
    {
     "data": {
      "text/html": [
       "<div>\n",
       "<style scoped>\n",
       "    .dataframe tbody tr th:only-of-type {\n",
       "        vertical-align: middle;\n",
       "    }\n",
       "\n",
       "    .dataframe tbody tr th {\n",
       "        vertical-align: top;\n",
       "    }\n",
       "\n",
       "    .dataframe thead th {\n",
       "        text-align: right;\n",
       "    }\n",
       "</style>\n",
       "<table border=\"1\" class=\"dataframe\">\n",
       "  <thead>\n",
       "    <tr style=\"text-align: right;\">\n",
       "      <th></th>\n",
       "      <th>x1</th>\n",
       "      <th>x2</th>\n",
       "      <th>x3</th>\n",
       "      <th>x4</th>\n",
       "      <th>x5</th>\n",
       "      <th>x6</th>\n",
       "      <th>x7</th>\n",
       "      <th>x8</th>\n",
       "      <th>x9</th>\n",
       "      <th>x10</th>\n",
       "      <th>x11</th>\n",
       "      <th>y</th>\n",
       "      <th>good</th>\n",
       "    </tr>\n",
       "  </thead>\n",
       "  <tbody>\n",
       "    <tr>\n",
       "      <th>0</th>\n",
       "      <td>7.0</td>\n",
       "      <td>0.27</td>\n",
       "      <td>0.36</td>\n",
       "      <td>20.7</td>\n",
       "      <td>0.045</td>\n",
       "      <td>45.0</td>\n",
       "      <td>170.0</td>\n",
       "      <td>1.00100</td>\n",
       "      <td>3.00</td>\n",
       "      <td>0.45</td>\n",
       "      <td>8.8</td>\n",
       "      <td>6</td>\n",
       "      <td>1.0</td>\n",
       "    </tr>\n",
       "    <tr>\n",
       "      <th>1</th>\n",
       "      <td>6.3</td>\n",
       "      <td>0.30</td>\n",
       "      <td>0.34</td>\n",
       "      <td>1.6</td>\n",
       "      <td>0.049</td>\n",
       "      <td>14.0</td>\n",
       "      <td>132.0</td>\n",
       "      <td>0.99400</td>\n",
       "      <td>3.30</td>\n",
       "      <td>0.49</td>\n",
       "      <td>9.5</td>\n",
       "      <td>6</td>\n",
       "      <td>1.0</td>\n",
       "    </tr>\n",
       "    <tr>\n",
       "      <th>2</th>\n",
       "      <td>8.1</td>\n",
       "      <td>0.28</td>\n",
       "      <td>0.40</td>\n",
       "      <td>6.9</td>\n",
       "      <td>0.050</td>\n",
       "      <td>30.0</td>\n",
       "      <td>97.0</td>\n",
       "      <td>0.99510</td>\n",
       "      <td>3.26</td>\n",
       "      <td>0.44</td>\n",
       "      <td>10.1</td>\n",
       "      <td>6</td>\n",
       "      <td>1.0</td>\n",
       "    </tr>\n",
       "    <tr>\n",
       "      <th>3</th>\n",
       "      <td>7.2</td>\n",
       "      <td>0.23</td>\n",
       "      <td>0.32</td>\n",
       "      <td>8.5</td>\n",
       "      <td>0.058</td>\n",
       "      <td>47.0</td>\n",
       "      <td>186.0</td>\n",
       "      <td>0.99560</td>\n",
       "      <td>3.19</td>\n",
       "      <td>0.40</td>\n",
       "      <td>9.9</td>\n",
       "      <td>6</td>\n",
       "      <td>1.0</td>\n",
       "    </tr>\n",
       "    <tr>\n",
       "      <th>4</th>\n",
       "      <td>7.2</td>\n",
       "      <td>0.23</td>\n",
       "      <td>0.32</td>\n",
       "      <td>8.5</td>\n",
       "      <td>0.058</td>\n",
       "      <td>47.0</td>\n",
       "      <td>186.0</td>\n",
       "      <td>0.99560</td>\n",
       "      <td>3.19</td>\n",
       "      <td>0.40</td>\n",
       "      <td>9.9</td>\n",
       "      <td>6</td>\n",
       "      <td>1.0</td>\n",
       "    </tr>\n",
       "    <tr>\n",
       "      <th>...</th>\n",
       "      <td>...</td>\n",
       "      <td>...</td>\n",
       "      <td>...</td>\n",
       "      <td>...</td>\n",
       "      <td>...</td>\n",
       "      <td>...</td>\n",
       "      <td>...</td>\n",
       "      <td>...</td>\n",
       "      <td>...</td>\n",
       "      <td>...</td>\n",
       "      <td>...</td>\n",
       "      <td>...</td>\n",
       "      <td>...</td>\n",
       "    </tr>\n",
       "    <tr>\n",
       "      <th>4893</th>\n",
       "      <td>6.2</td>\n",
       "      <td>0.21</td>\n",
       "      <td>0.29</td>\n",
       "      <td>1.6</td>\n",
       "      <td>0.039</td>\n",
       "      <td>24.0</td>\n",
       "      <td>92.0</td>\n",
       "      <td>0.99114</td>\n",
       "      <td>3.27</td>\n",
       "      <td>0.50</td>\n",
       "      <td>11.2</td>\n",
       "      <td>6</td>\n",
       "      <td>1.0</td>\n",
       "    </tr>\n",
       "    <tr>\n",
       "      <th>4894</th>\n",
       "      <td>6.6</td>\n",
       "      <td>0.32</td>\n",
       "      <td>0.36</td>\n",
       "      <td>8.0</td>\n",
       "      <td>0.047</td>\n",
       "      <td>57.0</td>\n",
       "      <td>168.0</td>\n",
       "      <td>0.99490</td>\n",
       "      <td>3.15</td>\n",
       "      <td>0.46</td>\n",
       "      <td>9.6</td>\n",
       "      <td>5</td>\n",
       "      <td>0.0</td>\n",
       "    </tr>\n",
       "    <tr>\n",
       "      <th>4895</th>\n",
       "      <td>6.5</td>\n",
       "      <td>0.24</td>\n",
       "      <td>0.19</td>\n",
       "      <td>1.2</td>\n",
       "      <td>0.041</td>\n",
       "      <td>30.0</td>\n",
       "      <td>111.0</td>\n",
       "      <td>0.99254</td>\n",
       "      <td>2.99</td>\n",
       "      <td>0.46</td>\n",
       "      <td>9.4</td>\n",
       "      <td>6</td>\n",
       "      <td>1.0</td>\n",
       "    </tr>\n",
       "    <tr>\n",
       "      <th>4896</th>\n",
       "      <td>5.5</td>\n",
       "      <td>0.29</td>\n",
       "      <td>0.30</td>\n",
       "      <td>1.1</td>\n",
       "      <td>0.022</td>\n",
       "      <td>20.0</td>\n",
       "      <td>110.0</td>\n",
       "      <td>0.98869</td>\n",
       "      <td>3.34</td>\n",
       "      <td>0.38</td>\n",
       "      <td>12.8</td>\n",
       "      <td>7</td>\n",
       "      <td>1.0</td>\n",
       "    </tr>\n",
       "    <tr>\n",
       "      <th>4897</th>\n",
       "      <td>6.0</td>\n",
       "      <td>0.21</td>\n",
       "      <td>0.38</td>\n",
       "      <td>0.8</td>\n",
       "      <td>0.020</td>\n",
       "      <td>22.0</td>\n",
       "      <td>98.0</td>\n",
       "      <td>0.98941</td>\n",
       "      <td>3.26</td>\n",
       "      <td>0.32</td>\n",
       "      <td>11.8</td>\n",
       "      <td>6</td>\n",
       "      <td>1.0</td>\n",
       "    </tr>\n",
       "  </tbody>\n",
       "</table>\n",
       "<p>4898 rows × 13 columns</p>\n",
       "</div>"
      ],
      "text/plain": [
       "       x1    x2    x3    x4     x5    x6     x7       x8    x9   x10   x11  y  \\\n",
       "0     7.0  0.27  0.36  20.7  0.045  45.0  170.0  1.00100  3.00  0.45   8.8  6   \n",
       "1     6.3  0.30  0.34   1.6  0.049  14.0  132.0  0.99400  3.30  0.49   9.5  6   \n",
       "2     8.1  0.28  0.40   6.9  0.050  30.0   97.0  0.99510  3.26  0.44  10.1  6   \n",
       "3     7.2  0.23  0.32   8.5  0.058  47.0  186.0  0.99560  3.19  0.40   9.9  6   \n",
       "4     7.2  0.23  0.32   8.5  0.058  47.0  186.0  0.99560  3.19  0.40   9.9  6   \n",
       "...   ...   ...   ...   ...    ...   ...    ...      ...   ...   ...   ... ..   \n",
       "4893  6.2  0.21  0.29   1.6  0.039  24.0   92.0  0.99114  3.27  0.50  11.2  6   \n",
       "4894  6.6  0.32  0.36   8.0  0.047  57.0  168.0  0.99490  3.15  0.46   9.6  5   \n",
       "4895  6.5  0.24  0.19   1.2  0.041  30.0  111.0  0.99254  2.99  0.46   9.4  6   \n",
       "4896  5.5  0.29  0.30   1.1  0.022  20.0  110.0  0.98869  3.34  0.38  12.8  7   \n",
       "4897  6.0  0.21  0.38   0.8  0.020  22.0   98.0  0.98941  3.26  0.32  11.8  6   \n",
       "\n",
       "      good  \n",
       "0      1.0  \n",
       "1      1.0  \n",
       "2      1.0  \n",
       "3      1.0  \n",
       "4      1.0  \n",
       "...    ...  \n",
       "4893   1.0  \n",
       "4894   0.0  \n",
       "4895   1.0  \n",
       "4896   1.0  \n",
       "4897   1.0  \n",
       "\n",
       "[4898 rows x 13 columns]"
      ]
     },
     "execution_count": 53,
     "metadata": {},
     "output_type": "execute_result"
    }
   ],
   "source": [
    "whitedata"
   ]
  },
  {
   "cell_type": "code",
   "execution_count": 24,
   "metadata": {},
   "outputs": [
    {
     "name": "stdout",
     "output_type": "stream",
     "text": [
      "Optimization terminated successfully.\n",
      "         Current function value: 0.508625\n",
      "         Iterations 8\n"
     ]
    }
   ],
   "source": [
    "# statmodels\n",
    "logit_sm = sm.Logit(y_train, sm.add_constant(X_train)).fit()"
   ]
  },
  {
   "cell_type": "code",
   "execution_count": 25,
   "metadata": {},
   "outputs": [
    {
     "name": "stdout",
     "output_type": "stream",
     "text": [
      "                           Logit Regression Results                           \n",
      "==============================================================================\n",
      "Dep. Variable:                   good   No. Observations:                 3428\n",
      "Model:                          Logit   Df Residuals:                     3416\n",
      "Method:                           MLE   Df Model:                           11\n",
      "Date:                Mon, 22 May 2023   Pseudo R-squ.:                  0.2100\n",
      "Time:                        15:03:25   Log-Likelihood:                -1743.6\n",
      "converged:                       True   LL-Null:                       -2206.9\n",
      "Covariance Type:            nonrobust   LLR p-value:                1.101e-191\n",
      "==============================================================================\n",
      "                 coef    std err          z      P>|z|      [0.025      0.975]\n",
      "------------------------------------------------------------------------------\n",
      "const        202.1746     77.031      2.625      0.009      51.196     353.153\n",
      "x1             0.0022      0.083      0.026      0.979      -0.160       0.164\n",
      "x2            -5.8583      0.487    -12.033      0.000      -6.813      -4.904\n",
      "x3             0.1649      0.371      0.445      0.657      -0.562       0.892\n",
      "x4             0.1498      0.030      4.962      0.000       0.091       0.209\n",
      "x5             0.9854      2.091      0.471      0.637      -3.113       5.083\n",
      "x6             0.0112      0.003      3.344      0.001       0.005       0.018\n",
      "x7            -0.0022      0.001     -1.564      0.118      -0.005       0.001\n",
      "x8          -215.0109     78.140     -2.752      0.006    -368.163     -61.859\n",
      "x9             1.0349      0.417      2.479      0.013       0.217       1.853\n",
      "x10            2.3811      0.434      5.481      0.000       1.530       3.233\n",
      "x11            0.8020      0.103      7.779      0.000       0.600       1.004\n",
      "==============================================================================\n"
     ]
    }
   ],
   "source": [
    "print(logit_sm.summary())"
   ]
  },
  {
   "cell_type": "code",
   "execution_count": 26,
   "metadata": {},
   "outputs": [
    {
     "name": "stdout",
     "output_type": "stream",
     "text": [
      "Parameters: const    202.174579\n",
      "x1         0.002172\n",
      "x2        -5.858328\n",
      "x3         0.164871\n",
      "x4         0.149811\n",
      "x5         0.985393\n",
      "x6         0.011172\n",
      "x7        -0.002212\n",
      "x8      -215.010948\n",
      "x9         1.034857\n",
      "x10        2.381093\n",
      "x11        0.801961\n",
      "dtype: float64\n",
      "Eta: 1044    1.135539\n",
      "3224    2.072523\n",
      "2808   -0.131601\n",
      "3382    2.380944\n",
      "295    -0.762854\n",
      "728     1.427865\n",
      "4772   -0.486029\n",
      "4053   -0.015095\n",
      "361    -1.930199\n",
      "1466    1.976535\n",
      "dtype: float64\n"
     ]
    }
   ],
   "source": [
    "print(\"Parameters:\",logit_sm.params)\n",
    "print(\"Eta:\", logit_sm.fittedvalues[0:10])"
   ]
  },
  {
   "cell_type": "code",
   "execution_count": 27,
   "metadata": {},
   "outputs": [
    {
     "name": "stdout",
     "output_type": "stream",
     "text": [
      "prob: 828     0.871299\n",
      "1621    0.131395\n",
      "3091    0.633535\n",
      "2010    0.793015\n",
      "1433    0.876213\n",
      "1101    0.943365\n",
      "3349    0.782047\n",
      "2262    0.800305\n",
      "4600    0.524013\n",
      "1318    0.772940\n",
      "dtype: float64\n"
     ]
    }
   ],
   "source": [
    "muhat = logit_sm.predict(sm.add_constant(X_test))\n",
    "print(\"prob:\", muhat[0:10])"
   ]
  },
  {
   "cell_type": "code",
   "execution_count": 28,
   "metadata": {},
   "outputs": [
    {
     "name": "stdout",
     "output_type": "stream",
     "text": [
      "828     1\n",
      "1621    0\n",
      "3091    1\n",
      "2010    1\n",
      "1433    1\n",
      "1101    1\n",
      "3349    1\n",
      "2262    1\n",
      "4600    1\n",
      "1318    1\n",
      "dtype: int32\n"
     ]
    }
   ],
   "source": [
    "yhat = (muhat > 0.5).astype(int)\n",
    "print(yhat[0:10])"
   ]
  },
  {
   "cell_type": "code",
   "execution_count": 29,
   "metadata": {},
   "outputs": [
    {
     "name": "stdout",
     "output_type": "stream",
     "text": [
      "Confusion Matrix : \n",
      " [[238 222]\n",
      " [151 859]]\n"
     ]
    }
   ],
   "source": [
    "from sklearn.metrics import confusion_matrix, accuracy_score\n",
    "\n",
    "cm = confusion_matrix(y_test, yhat) \n",
    "print (\"Confusion Matrix : \\n\", cm) "
   ]
  },
  {
   "cell_type": "code",
   "execution_count": 30,
   "metadata": {},
   "outputs": [
    {
     "name": "stdout",
     "output_type": "stream",
     "text": [
      "Test accuracy =  0.7462585034013606\n"
     ]
    }
   ],
   "source": [
    "# accuracy score of the model\n",
    "print('Test accuracy = ', accuracy_score(y_test, yhat))"
   ]
  },
  {
   "cell_type": "code",
   "execution_count": 55,
   "metadata": {},
   "outputs": [
    {
     "name": "stdout",
     "output_type": "stream",
     "text": [
      "Optimization terminated successfully.\n",
      "         Current function value: 0.503737\n",
      "         Iterations 7\n"
     ]
    },
    {
     "data": {
      "text/html": [
       "<table class=\"simpletable\">\n",
       "<caption>Logit Regression Results</caption>\n",
       "<tr>\n",
       "  <th>Dep. Variable:</th>         <td>good</td>       <th>  No. Observations:  </th>   <td>  4898</td>  \n",
       "</tr>\n",
       "<tr>\n",
       "  <th>Model:</th>                 <td>Logit</td>      <th>  Df Residuals:      </th>   <td>  4890</td>  \n",
       "</tr>\n",
       "<tr>\n",
       "  <th>Method:</th>                 <td>MLE</td>       <th>  Df Model:          </th>   <td>     7</td>  \n",
       "</tr>\n",
       "<tr>\n",
       "  <th>Date:</th>            <td>Mon, 22 May 2023</td> <th>  Pseudo R-squ.:     </th>   <td>0.2099</td>  \n",
       "</tr>\n",
       "<tr>\n",
       "  <th>Time:</th>                <td>15:22:23</td>     <th>  Log-Likelihood:    </th>  <td> -2467.3</td> \n",
       "</tr>\n",
       "<tr>\n",
       "  <th>converged:</th>             <td>True</td>       <th>  LL-Null:           </th>  <td> -3122.7</td> \n",
       "</tr>\n",
       "<tr>\n",
       "  <th>Covariance Type:</th>     <td>nonrobust</td>    <th>  LLR p-value:       </th> <td>7.668e-279</td>\n",
       "</tr>\n",
       "</table>\n",
       "<table class=\"simpletable\">\n",
       "<tr>\n",
       "      <td></td>         <th>coef</th>     <th>std err</th>      <th>z</th>      <th>P>|z|</th>  <th>[0.025</th>    <th>0.975]</th>  \n",
       "</tr>\n",
       "<tr>\n",
       "  <th>Intercept</th> <td>  239.0020</td> <td>   44.356</td> <td>    5.388</td> <td> 0.000</td> <td>  152.065</td> <td>  325.939</td>\n",
       "</tr>\n",
       "<tr>\n",
       "  <th>x2</th>        <td>   -6.5823</td> <td>    0.397</td> <td>  -16.593</td> <td> 0.000</td> <td>   -7.360</td> <td>   -5.805</td>\n",
       "</tr>\n",
       "<tr>\n",
       "  <th>x4</th>        <td>    0.1611</td> <td>    0.018</td> <td>    8.976</td> <td> 0.000</td> <td>    0.126</td> <td>    0.196</td>\n",
       "</tr>\n",
       "<tr>\n",
       "  <th>x6</th>        <td>    0.0079</td> <td>    0.002</td> <td>    3.531</td> <td> 0.000</td> <td>    0.003</td> <td>    0.012</td>\n",
       "</tr>\n",
       "<tr>\n",
       "  <th>x8</th>        <td> -250.9899</td> <td>   44.429</td> <td>   -5.649</td> <td> 0.000</td> <td> -338.069</td> <td> -163.911</td>\n",
       "</tr>\n",
       "<tr>\n",
       "  <th>x9</th>        <td>    0.9292</td> <td>    0.253</td> <td>    3.675</td> <td> 0.000</td> <td>    0.434</td> <td>    1.425</td>\n",
       "</tr>\n",
       "<tr>\n",
       "  <th>x10</th>       <td>    1.7212</td> <td>    0.350</td> <td>    4.913</td> <td> 0.000</td> <td>    1.035</td> <td>    2.408</td>\n",
       "</tr>\n",
       "<tr>\n",
       "  <th>x11</th>       <td>    0.7730</td> <td>    0.067</td> <td>   11.527</td> <td> 0.000</td> <td>    0.642</td> <td>    0.904</td>\n",
       "</tr>\n",
       "</table>"
      ],
      "text/plain": [
       "<class 'statsmodels.iolib.summary.Summary'>\n",
       "\"\"\"\n",
       "                           Logit Regression Results                           \n",
       "==============================================================================\n",
       "Dep. Variable:                   good   No. Observations:                 4898\n",
       "Model:                          Logit   Df Residuals:                     4890\n",
       "Method:                           MLE   Df Model:                            7\n",
       "Date:                Mon, 22 May 2023   Pseudo R-squ.:                  0.2099\n",
       "Time:                        15:22:23   Log-Likelihood:                -2467.3\n",
       "converged:                       True   LL-Null:                       -3122.7\n",
       "Covariance Type:            nonrobust   LLR p-value:                7.668e-279\n",
       "==============================================================================\n",
       "                 coef    std err          z      P>|z|      [0.025      0.975]\n",
       "------------------------------------------------------------------------------\n",
       "Intercept    239.0020     44.356      5.388      0.000     152.065     325.939\n",
       "x2            -6.5823      0.397    -16.593      0.000      -7.360      -5.805\n",
       "x4             0.1611      0.018      8.976      0.000       0.126       0.196\n",
       "x6             0.0079      0.002      3.531      0.000       0.003       0.012\n",
       "x8          -250.9899     44.429     -5.649      0.000    -338.069    -163.911\n",
       "x9             0.9292      0.253      3.675      0.000       0.434       1.425\n",
       "x10            1.7212      0.350      4.913      0.000       1.035       2.408\n",
       "x11            0.7730      0.067     11.527      0.000       0.642       0.904\n",
       "==============================================================================\n",
       "\"\"\""
      ]
     },
     "execution_count": 55,
     "metadata": {},
     "output_type": "execute_result"
    }
   ],
   "source": [
    "## 변수지정\n",
    "import statsmodels.formula.api as smf\n",
    "model = \"good ~ x2+x4+x6++x8+x9+x10+x11\"\n",
    "logit_smf = smf.logit(formula=str(model),data=whitedata).fit()\n",
    "logit_smf.summary()"
   ]
  },
  {
   "cell_type": "code",
   "execution_count": 32,
   "metadata": {},
   "outputs": [],
   "source": [
    "#sklearn : “statsmodels”과 다른 설정\n",
    "\n",
    "from sklearn.linear_model import LogisticRegression"
   ]
  },
  {
   "cell_type": "code",
   "execution_count": 33,
   "metadata": {},
   "outputs": [
    {
     "name": "stderr",
     "output_type": "stream",
     "text": [
      "C:\\Users\\SM-PC\\AppData\\Local\\Programs\\Python\\Python39\\lib\\site-packages\\sklearn\\linear_model\\_logistic.py:458: ConvergenceWarning: lbfgs failed to converge (status=1):\n",
      "STOP: TOTAL NO. of ITERATIONS REACHED LIMIT.\n",
      "\n",
      "Increase the number of iterations (max_iter) or scale the data as shown in:\n",
      "    https://scikit-learn.org/stable/modules/preprocessing.html\n",
      "Please also refer to the documentation for alternative solver options:\n",
      "    https://scikit-learn.org/stable/modules/linear_model.html#logistic-regression\n",
      "  n_iter_i = _check_optimize_result(\n"
     ]
    },
    {
     "data": {
      "text/html": [
       "<style>#sk-container-id-1 {color: black;background-color: white;}#sk-container-id-1 pre{padding: 0;}#sk-container-id-1 div.sk-toggleable {background-color: white;}#sk-container-id-1 label.sk-toggleable__label {cursor: pointer;display: block;width: 100%;margin-bottom: 0;padding: 0.3em;box-sizing: border-box;text-align: center;}#sk-container-id-1 label.sk-toggleable__label-arrow:before {content: \"▸\";float: left;margin-right: 0.25em;color: #696969;}#sk-container-id-1 label.sk-toggleable__label-arrow:hover:before {color: black;}#sk-container-id-1 div.sk-estimator:hover label.sk-toggleable__label-arrow:before {color: black;}#sk-container-id-1 div.sk-toggleable__content {max-height: 0;max-width: 0;overflow: hidden;text-align: left;background-color: #f0f8ff;}#sk-container-id-1 div.sk-toggleable__content pre {margin: 0.2em;color: black;border-radius: 0.25em;background-color: #f0f8ff;}#sk-container-id-1 input.sk-toggleable__control:checked~div.sk-toggleable__content {max-height: 200px;max-width: 100%;overflow: auto;}#sk-container-id-1 input.sk-toggleable__control:checked~label.sk-toggleable__label-arrow:before {content: \"▾\";}#sk-container-id-1 div.sk-estimator input.sk-toggleable__control:checked~label.sk-toggleable__label {background-color: #d4ebff;}#sk-container-id-1 div.sk-label input.sk-toggleable__control:checked~label.sk-toggleable__label {background-color: #d4ebff;}#sk-container-id-1 input.sk-hidden--visually {border: 0;clip: rect(1px 1px 1px 1px);clip: rect(1px, 1px, 1px, 1px);height: 1px;margin: -1px;overflow: hidden;padding: 0;position: absolute;width: 1px;}#sk-container-id-1 div.sk-estimator {font-family: monospace;background-color: #f0f8ff;border: 1px dotted black;border-radius: 0.25em;box-sizing: border-box;margin-bottom: 0.5em;}#sk-container-id-1 div.sk-estimator:hover {background-color: #d4ebff;}#sk-container-id-1 div.sk-parallel-item::after {content: \"\";width: 100%;border-bottom: 1px solid gray;flex-grow: 1;}#sk-container-id-1 div.sk-label:hover label.sk-toggleable__label {background-color: #d4ebff;}#sk-container-id-1 div.sk-serial::before {content: \"\";position: absolute;border-left: 1px solid gray;box-sizing: border-box;top: 0;bottom: 0;left: 50%;z-index: 0;}#sk-container-id-1 div.sk-serial {display: flex;flex-direction: column;align-items: center;background-color: white;padding-right: 0.2em;padding-left: 0.2em;position: relative;}#sk-container-id-1 div.sk-item {position: relative;z-index: 1;}#sk-container-id-1 div.sk-parallel {display: flex;align-items: stretch;justify-content: center;background-color: white;position: relative;}#sk-container-id-1 div.sk-item::before, #sk-container-id-1 div.sk-parallel-item::before {content: \"\";position: absolute;border-left: 1px solid gray;box-sizing: border-box;top: 0;bottom: 0;left: 50%;z-index: -1;}#sk-container-id-1 div.sk-parallel-item {display: flex;flex-direction: column;z-index: 1;position: relative;background-color: white;}#sk-container-id-1 div.sk-parallel-item:first-child::after {align-self: flex-end;width: 50%;}#sk-container-id-1 div.sk-parallel-item:last-child::after {align-self: flex-start;width: 50%;}#sk-container-id-1 div.sk-parallel-item:only-child::after {width: 0;}#sk-container-id-1 div.sk-dashed-wrapped {border: 1px dashed gray;margin: 0 0.4em 0.5em 0.4em;box-sizing: border-box;padding-bottom: 0.4em;background-color: white;}#sk-container-id-1 div.sk-label label {font-family: monospace;font-weight: bold;display: inline-block;line-height: 1.2em;}#sk-container-id-1 div.sk-label-container {text-align: center;}#sk-container-id-1 div.sk-container {/* jupyter's `normalize.less` sets `[hidden] { display: none; }` but bootstrap.min.css set `[hidden] { display: none !important; }` so we also need the `!important` here to be able to override the default hidden behavior on the sphinx rendered scikit-learn.org. See: https://github.com/scikit-learn/scikit-learn/issues/21755 */display: inline-block !important;position: relative;}#sk-container-id-1 div.sk-text-repr-fallback {display: none;}</style><div id=\"sk-container-id-1\" class=\"sk-top-container\"><div class=\"sk-text-repr-fallback\"><pre>LogisticRegression(penalty=None)</pre><b>In a Jupyter environment, please rerun this cell to show the HTML representation or trust the notebook. <br />On GitHub, the HTML representation is unable to render, please try loading this page with nbviewer.org.</b></div><div class=\"sk-container\" hidden><div class=\"sk-item\"><div class=\"sk-estimator sk-toggleable\"><input class=\"sk-toggleable__control sk-hidden--visually\" id=\"sk-estimator-id-1\" type=\"checkbox\" checked><label for=\"sk-estimator-id-1\" class=\"sk-toggleable__label sk-toggleable__label-arrow\">LogisticRegression</label><div class=\"sk-toggleable__content\"><pre>LogisticRegression(penalty=None)</pre></div></div></div></div></div>"
      ],
      "text/plain": [
       "LogisticRegression(penalty=None)"
      ]
     },
     "execution_count": 33,
     "metadata": {},
     "output_type": "execute_result"
    }
   ],
   "source": [
    "logitS = LogisticRegression(penalty=None)  ## C=1/alpha=1, penality=\"l2\" {\"l1\",\"l2\",\"elasticnet\",None}\n",
    "logitS.fit(X_train, y_train)    "
   ]
  },
  {
   "cell_type": "code",
   "execution_count": 34,
   "metadata": {},
   "outputs": [
    {
     "name": "stdout",
     "output_type": "stream",
     "text": [
      "[[-2.65420102e-01 -6.60264109e+00 -4.50129172e-01  6.12026995e-02\n",
      "  -5.53446455e-01  1.11728591e-02 -2.73227133e-03 -2.40636507e+00\n",
      "  -7.43561172e-01  2.20721866e+00  9.87457642e-01]] [-2.41440867]\n"
     ]
    }
   ],
   "source": [
    "print(logitS.coef_, logitS.intercept_)      "
   ]
  },
  {
   "cell_type": "markdown",
   "metadata": {},
   "source": [
    "#### The choice of the algorithm depends on the penalty chosen. Supported penalties by solver:\n",
    "- 'lbfgs' - ['l2', None]\n",
    "- 'liblinear' - ['l1', 'l2']\n",
    "- 'newton-cg' - ['l2', None]\n",
    "- 'newton-cholesky' - ['l2', None]\n",
    "- 'sag' - ['l2', None]\n",
    "- 'saga' - ['elasticnet', 'l1', 'l2', None]"
   ]
  },
  {
   "cell_type": "code",
   "execution_count": 40,
   "metadata": {},
   "outputs": [
    {
     "name": "stderr",
     "output_type": "stream",
     "text": [
      "C:\\Users\\SM-PC\\AppData\\Local\\Programs\\Python\\Python39\\lib\\site-packages\\sklearn\\linear_model\\_sag.py:350: ConvergenceWarning: The max_iter was reached which means the coef_ did not converge\n",
      "  warnings.warn(\n"
     ]
    },
    {
     "data": {
      "text/html": [
       "<style>#sk-container-id-2 {color: black;background-color: white;}#sk-container-id-2 pre{padding: 0;}#sk-container-id-2 div.sk-toggleable {background-color: white;}#sk-container-id-2 label.sk-toggleable__label {cursor: pointer;display: block;width: 100%;margin-bottom: 0;padding: 0.3em;box-sizing: border-box;text-align: center;}#sk-container-id-2 label.sk-toggleable__label-arrow:before {content: \"▸\";float: left;margin-right: 0.25em;color: #696969;}#sk-container-id-2 label.sk-toggleable__label-arrow:hover:before {color: black;}#sk-container-id-2 div.sk-estimator:hover label.sk-toggleable__label-arrow:before {color: black;}#sk-container-id-2 div.sk-toggleable__content {max-height: 0;max-width: 0;overflow: hidden;text-align: left;background-color: #f0f8ff;}#sk-container-id-2 div.sk-toggleable__content pre {margin: 0.2em;color: black;border-radius: 0.25em;background-color: #f0f8ff;}#sk-container-id-2 input.sk-toggleable__control:checked~div.sk-toggleable__content {max-height: 200px;max-width: 100%;overflow: auto;}#sk-container-id-2 input.sk-toggleable__control:checked~label.sk-toggleable__label-arrow:before {content: \"▾\";}#sk-container-id-2 div.sk-estimator input.sk-toggleable__control:checked~label.sk-toggleable__label {background-color: #d4ebff;}#sk-container-id-2 div.sk-label input.sk-toggleable__control:checked~label.sk-toggleable__label {background-color: #d4ebff;}#sk-container-id-2 input.sk-hidden--visually {border: 0;clip: rect(1px 1px 1px 1px);clip: rect(1px, 1px, 1px, 1px);height: 1px;margin: -1px;overflow: hidden;padding: 0;position: absolute;width: 1px;}#sk-container-id-2 div.sk-estimator {font-family: monospace;background-color: #f0f8ff;border: 1px dotted black;border-radius: 0.25em;box-sizing: border-box;margin-bottom: 0.5em;}#sk-container-id-2 div.sk-estimator:hover {background-color: #d4ebff;}#sk-container-id-2 div.sk-parallel-item::after {content: \"\";width: 100%;border-bottom: 1px solid gray;flex-grow: 1;}#sk-container-id-2 div.sk-label:hover label.sk-toggleable__label {background-color: #d4ebff;}#sk-container-id-2 div.sk-serial::before {content: \"\";position: absolute;border-left: 1px solid gray;box-sizing: border-box;top: 0;bottom: 0;left: 50%;z-index: 0;}#sk-container-id-2 div.sk-serial {display: flex;flex-direction: column;align-items: center;background-color: white;padding-right: 0.2em;padding-left: 0.2em;position: relative;}#sk-container-id-2 div.sk-item {position: relative;z-index: 1;}#sk-container-id-2 div.sk-parallel {display: flex;align-items: stretch;justify-content: center;background-color: white;position: relative;}#sk-container-id-2 div.sk-item::before, #sk-container-id-2 div.sk-parallel-item::before {content: \"\";position: absolute;border-left: 1px solid gray;box-sizing: border-box;top: 0;bottom: 0;left: 50%;z-index: -1;}#sk-container-id-2 div.sk-parallel-item {display: flex;flex-direction: column;z-index: 1;position: relative;background-color: white;}#sk-container-id-2 div.sk-parallel-item:first-child::after {align-self: flex-end;width: 50%;}#sk-container-id-2 div.sk-parallel-item:last-child::after {align-self: flex-start;width: 50%;}#sk-container-id-2 div.sk-parallel-item:only-child::after {width: 0;}#sk-container-id-2 div.sk-dashed-wrapped {border: 1px dashed gray;margin: 0 0.4em 0.5em 0.4em;box-sizing: border-box;padding-bottom: 0.4em;background-color: white;}#sk-container-id-2 div.sk-label label {font-family: monospace;font-weight: bold;display: inline-block;line-height: 1.2em;}#sk-container-id-2 div.sk-label-container {text-align: center;}#sk-container-id-2 div.sk-container {/* jupyter's `normalize.less` sets `[hidden] { display: none; }` but bootstrap.min.css set `[hidden] { display: none !important; }` so we also need the `!important` here to be able to override the default hidden behavior on the sphinx rendered scikit-learn.org. See: https://github.com/scikit-learn/scikit-learn/issues/21755 */display: inline-block !important;position: relative;}#sk-container-id-2 div.sk-text-repr-fallback {display: none;}</style><div id=\"sk-container-id-2\" class=\"sk-top-container\"><div class=\"sk-text-repr-fallback\"><pre>LogisticRegression(penalty=&#x27;l1&#x27;, solver=&#x27;saga&#x27;)</pre><b>In a Jupyter environment, please rerun this cell to show the HTML representation or trust the notebook. <br />On GitHub, the HTML representation is unable to render, please try loading this page with nbviewer.org.</b></div><div class=\"sk-container\" hidden><div class=\"sk-item\"><div class=\"sk-estimator sk-toggleable\"><input class=\"sk-toggleable__control sk-hidden--visually\" id=\"sk-estimator-id-2\" type=\"checkbox\" checked><label for=\"sk-estimator-id-2\" class=\"sk-toggleable__label sk-toggleable__label-arrow\">LogisticRegression</label><div class=\"sk-toggleable__content\"><pre>LogisticRegression(penalty=&#x27;l1&#x27;, solver=&#x27;saga&#x27;)</pre></div></div></div></div></div>"
      ],
      "text/plain": [
       "LogisticRegression(penalty='l1', solver='saga')"
      ]
     },
     "execution_count": 40,
     "metadata": {},
     "output_type": "execute_result"
    }
   ],
   "source": [
    "logitL = LogisticRegression(penalty=\"l1\",solver=\"saga\")  # LASSO , C = 1/alpha    \n",
    "logitL.fit(X_train, y_train)   "
   ]
  },
  {
   "cell_type": "code",
   "execution_count": 41,
   "metadata": {},
   "outputs": [
    {
     "name": "stdout",
     "output_type": "stream",
     "text": [
      "[[0.24486554 0.75513446]\n",
      " [0.58455693 0.41544307]\n",
      " [0.3685746  0.6314254 ]\n",
      " [0.25657334 0.74342666]\n",
      " [0.16572461 0.83427539]\n",
      " [0.13913014 0.86086986]\n",
      " [0.28383324 0.71616676]\n",
      " [0.23961254 0.76038746]\n",
      " [0.42761097 0.57238903]\n",
      " [0.26209162 0.73790838]]\n",
      "[1. 0. 1. 1. 1. 1. 1. 1. 1. 1.]\n"
     ]
    }
   ],
   "source": [
    "muL = logitL.predict_proba(X_test)\n",
    "yhat = logitL.predict(X_test)\n",
    "print(muL[0:10])\n",
    "print(yhat[0:10])"
   ]
  },
  {
   "cell_type": "code",
   "execution_count": 42,
   "metadata": {},
   "outputs": [
    {
     "data": {
      "text/plain": [
       "0.6843537414965987"
      ]
     },
     "execution_count": 42,
     "metadata": {},
     "output_type": "execute_result"
    }
   ],
   "source": [
    "logitL.score(X_test, y_test)  "
   ]
  },
  {
   "cell_type": "markdown",
   "metadata": {},
   "source": [
    "### 다범주 로짓 모형"
   ]
  },
  {
   "cell_type": "code",
   "execution_count": 98,
   "metadata": {},
   "outputs": [],
   "source": [
    "from sklearn import datasets   \n",
    "# iris data\n",
    "iris = datasets.load_iris()\n",
    "X = iris.data[:, 0:2]\n",
    "Y = iris.target"
   ]
  },
  {
   "cell_type": "code",
   "execution_count": 99,
   "metadata": {},
   "outputs": [
    {
     "data": {
      "text/plain": [
       "array([0, 0, 0, 0, 0, 0, 0, 0, 0, 0, 0, 0, 0, 0, 0, 0, 0, 0, 0, 0, 0, 0,\n",
       "       0, 0, 0, 0, 0, 0, 0, 0, 0, 0, 0, 0, 0, 0, 0, 0, 0, 0, 0, 0, 0, 0,\n",
       "       0, 0, 0, 0, 0, 0, 1, 1, 1, 1, 1, 1, 1, 1, 1, 1, 1, 1, 1, 1, 1, 1,\n",
       "       1, 1, 1, 1, 1, 1, 1, 1, 1, 1, 1, 1, 1, 1, 1, 1, 1, 1, 1, 1, 1, 1,\n",
       "       1, 1, 1, 1, 1, 1, 1, 1, 1, 1, 1, 1, 2, 2, 2, 2, 2, 2, 2, 2, 2, 2,\n",
       "       2, 2, 2, 2, 2, 2, 2, 2, 2, 2, 2, 2, 2, 2, 2, 2, 2, 2, 2, 2, 2, 2,\n",
       "       2, 2, 2, 2, 2, 2, 2, 2, 2, 2, 2, 2, 2, 2, 2, 2, 2, 2])"
      ]
     },
     "execution_count": 99,
     "metadata": {},
     "output_type": "execute_result"
    }
   ],
   "source": [
    "iris.target"
   ]
  },
  {
   "cell_type": "code",
   "execution_count": 100,
   "metadata": {},
   "outputs": [],
   "source": [
    "from statsmodels.discrete.discrete_model import MNLogit"
   ]
  },
  {
   "cell_type": "code",
   "execution_count": 101,
   "metadata": {},
   "outputs": [
    {
     "name": "stdout",
     "output_type": "stream",
     "text": [
      "Optimization terminated successfully.\n",
      "         Current function value: 0.367753\n",
      "         Iterations: 76\n",
      "         Function evaluations: 79\n",
      "         Gradient evaluations: 79\n"
     ]
    },
    {
     "data": {
      "text/html": [
       "<table class=\"simpletable\">\n",
       "<caption>MNLogit Regression Results</caption>\n",
       "<tr>\n",
       "  <th>Dep. Variable:</th>           <td>y</td>        <th>  No. Observations:  </th>  <td>   150</td>  \n",
       "</tr>\n",
       "<tr>\n",
       "  <th>Model:</th>                <td>MNLogit</td>     <th>  Df Residuals:      </th>  <td>   144</td>  \n",
       "</tr>\n",
       "<tr>\n",
       "  <th>Method:</th>                 <td>MLE</td>       <th>  Df Model:          </th>  <td>     4</td>  \n",
       "</tr>\n",
       "<tr>\n",
       "  <th>Date:</th>            <td>Mon, 22 May 2023</td> <th>  Pseudo R-squ.:     </th>  <td>0.6653</td>  \n",
       "</tr>\n",
       "<tr>\n",
       "  <th>Time:</th>                <td>16:19:52</td>     <th>  Log-Likelihood:    </th> <td> -55.163</td> \n",
       "</tr>\n",
       "<tr>\n",
       "  <th>converged:</th>             <td>True</td>       <th>  LL-Null:           </th> <td> -164.79</td> \n",
       "</tr>\n",
       "<tr>\n",
       "  <th>Covariance Type:</th>     <td>nonrobust</td>    <th>  LLR p-value:       </th> <td>2.708e-46</td>\n",
       "</tr>\n",
       "</table>\n",
       "<table class=\"simpletable\">\n",
       "<tr>\n",
       "   <th>y=1</th>     <th>coef</th>     <th>std err</th>      <th>z</th>      <th>P>|z|</th>  <th>[0.025</th>    <th>0.975]</th>  \n",
       "</tr>\n",
       "<tr>\n",
       "  <th>const</th> <td> -450.5300</td> <td> 2.15e+05</td> <td>   -0.002</td> <td> 0.998</td> <td>-4.22e+05</td> <td> 4.21e+05</td>\n",
       "</tr>\n",
       "<tr>\n",
       "  <th>x1</th>    <td>  151.9857</td> <td> 6.33e+04</td> <td>    0.002</td> <td> 0.998</td> <td>-1.24e+05</td> <td> 1.24e+05</td>\n",
       "</tr>\n",
       "<tr>\n",
       "  <th>x2</th>    <td> -113.7996</td> <td> 3.79e+04</td> <td>   -0.003</td> <td> 0.998</td> <td>-7.44e+04</td> <td> 7.42e+04</td>\n",
       "</tr>\n",
       "<tr>\n",
       "   <th>y=2</th>     <th>coef</th>     <th>std err</th>      <th>z</th>      <th>P>|z|</th>  <th>[0.025</th>    <th>0.975]</th>  \n",
       "</tr>\n",
       "<tr>\n",
       "  <th>const</th> <td> -463.5753</td> <td> 2.15e+05</td> <td>   -0.002</td> <td> 0.998</td> <td>-4.22e+05</td> <td> 4.21e+05</td>\n",
       "</tr>\n",
       "<tr>\n",
       "  <th>x1</th>    <td>  153.8879</td> <td> 6.33e+04</td> <td>    0.002</td> <td> 0.998</td> <td>-1.24e+05</td> <td> 1.24e+05</td>\n",
       "</tr>\n",
       "<tr>\n",
       "  <th>x2</th>    <td> -113.3949</td> <td> 3.79e+04</td> <td>   -0.003</td> <td> 0.998</td> <td>-7.44e+04</td> <td> 7.42e+04</td>\n",
       "</tr>\n",
       "</table>"
      ],
      "text/plain": [
       "<class 'statsmodels.iolib.summary.Summary'>\n",
       "\"\"\"\n",
       "                          MNLogit Regression Results                          \n",
       "==============================================================================\n",
       "Dep. Variable:                      y   No. Observations:                  150\n",
       "Model:                        MNLogit   Df Residuals:                      144\n",
       "Method:                           MLE   Df Model:                            4\n",
       "Date:                Mon, 22 May 2023   Pseudo R-squ.:                  0.6653\n",
       "Time:                        16:19:52   Log-Likelihood:                -55.163\n",
       "converged:                       True   LL-Null:                       -164.79\n",
       "Covariance Type:            nonrobust   LLR p-value:                 2.708e-46\n",
       "==============================================================================\n",
       "       y=1       coef    std err          z      P>|z|      [0.025      0.975]\n",
       "------------------------------------------------------------------------------\n",
       "const       -450.5300   2.15e+05     -0.002      0.998   -4.22e+05    4.21e+05\n",
       "x1           151.9857   6.33e+04      0.002      0.998   -1.24e+05    1.24e+05\n",
       "x2          -113.7996   3.79e+04     -0.003      0.998   -7.44e+04    7.42e+04\n",
       "------------------------------------------------------------------------------\n",
       "       y=2       coef    std err          z      P>|z|      [0.025      0.975]\n",
       "------------------------------------------------------------------------------\n",
       "const       -463.5753   2.15e+05     -0.002      0.998   -4.22e+05    4.21e+05\n",
       "x1           153.8879   6.33e+04      0.002      0.998   -1.24e+05    1.24e+05\n",
       "x2          -113.3949   3.79e+04     -0.003      0.998   -7.44e+04    7.42e+04\n",
       "==============================================================================\n",
       "\"\"\""
      ]
     },
     "execution_count": 101,
     "metadata": {},
     "output_type": "execute_result"
    }
   ],
   "source": [
    "mlogit_sm = MNLogit(Y,sm.add_constant(X)).fit(maxiter=100,method=\"bfgs\")\n",
    "mlogit_sm.summary()"
   ]
  },
  {
   "cell_type": "code",
   "execution_count": 102,
   "metadata": {},
   "outputs": [
    {
     "name": "stdout",
     "output_type": "stream",
     "text": [
      "[[1.00000000e+000 9.81333892e-033 1.42800007e-033]\n",
      " [1.00000000e+000 3.17519120e-021 2.57977662e-022]\n",
      " [1.00000000e+000 2.60590487e-044 1.56924803e-045]\n",
      " [1.00000000e+000 5.72212068e-046 2.73591042e-047]\n",
      " [1.00000000e+000 2.81132553e-044 3.52194827e-045]\n",
      " [1.00000000e+000 1.05869138e-032 3.20493784e-033]\n",
      " [1.00000000e+000 8.52708982e-061 4.60329244e-062]\n",
      " [1.00000000e+000 2.15484111e-034 2.48965123e-035]\n",
      " [1.00000000e+000 2.75901411e-049 8.31615241e-051]\n",
      " [1.00000000e+000 3.62675171e-026 3.06834602e-027]\n",
      " [1.00000000e+000 8.11471913e-023 2.26555781e-023]\n",
      " [1.00000000e+000 1.35552660e-047 1.07054158e-048]\n",
      " [1.00000000e+000 7.96372544e-028 5.34951755e-029]\n",
      " [1.00000000e+000 7.90402418e-061 2.05105442e-062]\n",
      " [1.00000000e+000 3.05584789e-011 2.06163504e-011]\n",
      " [1.00000000e+000 1.30457753e-037 8.55526020e-038]\n",
      " [1.00000000e+000 1.05869138e-032 3.20493784e-033]\n",
      " [1.00000000e+000 9.81333892e-033 1.42800007e-033]\n",
      " [9.99999911e-001 5.87465283e-008 3.02203716e-008]\n",
      " [1.00000000e+000 1.46238129e-047 2.40267440e-048]\n",
      " [9.99999932e-001 5.44539813e-008 1.34650642e-008]\n",
      " [1.00000000e+000 1.28030276e-042 2.02009917e-043]\n",
      " [1.00000000e+000 1.11249155e-070 6.51197953e-072]\n",
      " [1.00000000e+000 7.52178499e-023 1.00944757e-023]\n",
      " [1.00000000e+000 1.35552660e-047 1.07054158e-048]\n",
      " [1.00000000e+000 1.26597021e-014 1.24408367e-015]\n",
      " [1.00000000e+000 2.15484111e-034 2.48965123e-035]\n",
      " [1.00000000e+000 3.91264461e-026 6.88645502e-027]\n",
      " [1.00000000e+000 3.42548808e-021 5.78993229e-022]\n",
      " [1.00000000e+000 2.60590487e-044 1.56924803e-045]\n",
      " [1.00000000e+000 9.09628838e-033 6.36263261e-034]\n",
      " [9.99999932e-001 5.44539813e-008 1.34650642e-008]\n",
      " [1.00000000e+000 8.68876501e-056 1.94952630e-056]\n",
      " [1.00000000e+000 6.29023404e-041 2.60048162e-041]\n",
      " [1.00000000e+000 3.62675171e-026 3.06834602e-027]\n",
      " [1.00000000e+000 1.65165513e-024 1.75992455e-025]\n",
      " [9.99996748e-001 2.47987506e-006 7.72319077e-007]\n",
      " [1.00000000e+000 7.05111069e-051 7.30323855e-052]\n",
      " [1.00000000e+000 3.15138790e-054 9.89110177e-056]\n",
      " [1.00000000e+000 8.59149727e-028 1.20062117e-028]\n",
      " [1.00000000e+000 2.46129231e-039 2.96115228e-040]\n",
      " [1.00000000e+000 4.95358793e-013 1.41663035e-014]\n",
      " [1.00000000e+000 4.11147588e-064 1.39923008e-065]\n",
      " [1.00000000e+000 2.46129231e-039 2.96115228e-040]\n",
      " [1.00000000e+000 1.46238129e-047 2.40267440e-048]\n",
      " [1.00000000e+000 7.96372544e-028 5.34951755e-029]\n",
      " [1.00000000e+000 1.46238129e-047 2.40267440e-048]\n",
      " [1.00000000e+000 6.53589331e-051 3.25404912e-052]\n",
      " [1.00000000e+000 2.03525996e-029 4.69794213e-030]\n",
      " [1.00000000e+000 1.88654562e-029 2.09322677e-030]\n",
      " [1.01561634e-109 1.72870594e-001 8.27129406e-001]\n",
      " [9.33524014e-070 3.95544469e-001 6.04455531e-001]\n",
      " [5.57523800e-108 2.08378693e-001 7.91621307e-001]\n",
      " [1.66878631e-054 8.39182933e-001 1.60817067e-001]\n",
      " [3.91721194e-096 3.88784309e-001 6.11215691e-001]\n",
      " [4.79015405e-043 7.44478756e-001 2.55521244e-001]\n",
      " [3.55769840e-058 4.31850362e-001 5.68149638e-001]\n",
      " [6.57483725e-010 9.40085253e-001 5.99147466e-002]\n",
      " [7.42411548e-098 3.35565979e-001 6.64434021e-001]\n",
      " [6.56843697e-015 8.87051646e-001 1.12948354e-001]\n",
      " [2.80204623e-036 9.38467780e-001 6.15322196e-002]\n",
      " [2.00873515e-046 6.47483340e-001 3.52516660e-001]\n",
      " [1.52693426e-092 6.77323789e-001 3.22676211e-001]\n",
      " [1.26303321e-064 5.66604417e-001 4.33395583e-001]\n",
      " [1.73368631e-031 7.71911811e-001 2.28088189e-001]\n",
      " [1.18250378e-094 2.78025883e-001 7.21974117e-001]\n",
      " [1.50366477e-026 7.64708882e-001 2.35291118e-001]\n",
      " [1.31788052e-054 7.14964583e-001 2.85035417e-001]\n",
      " [8.35697466e-106 5.89294359e-001 4.10705641e-001]\n",
      " [3.05509010e-051 7.99152061e-001 2.00847939e-001]\n",
      " [1.49523403e-036 6.28797747e-001 3.71202253e-001]\n",
      " [1.46788548e-069 5.76513418e-001 4.23486582e-001]\n",
      " [1.22289512e-097 5.12353655e-001 4.87646345e-001]\n",
      " [1.46788548e-069 5.76513418e-001 4.23486582e-001]\n",
      " [1.49439963e-084 4.24905888e-001 5.75094112e-001]\n",
      " [6.32617054e-093 3.26604408e-001 6.73395592e-001]\n",
      " [4.20346910e-116 2.64423671e-001 7.35576329e-001]\n",
      " [1.39048677e-099 2.86221076e-001 7.13778924e-001]\n",
      " [5.44455393e-058 6.12595619e-001 3.87404381e-001]\n",
      " [6.37616562e-053 7.59567782e-001 2.40432218e-001]\n",
      " [1.45136991e-049 8.33646573e-001 1.66353427e-001]\n",
      " [1.45136991e-049 8.33646573e-001 1.66353427e-001]\n",
      " [1.31788052e-054 7.14964583e-001 2.85035417e-001]\n",
      " [7.32385061e-068 6.31618985e-001 3.68381015e-001]\n",
      " [2.58262710e-013 8.26227424e-001 1.73772576e-001]\n",
      " [2.57657176e-033 5.63629263e-001 4.36370737e-001]\n",
      " [1.18250378e-094 2.78025883e-001 7.21974117e-001]\n",
      " [1.65832687e-107 5.32543247e-001 4.67456753e-001]\n",
      " [1.50366477e-026 7.64708882e-001 2.35291118e-001]\n",
      " [1.26199278e-044 8.27958690e-001 1.72041310e-001]\n",
      " [1.09706997e-039 8.22117827e-001 1.77882173e-001]\n",
      " [1.08633242e-059 5.56641866e-001 4.43358134e-001]\n",
      " [1.52251378e-059 7.23138995e-001 2.76861005e-001]\n",
      " [1.86550238e-021 9.31072935e-001 6.89270646e-002]\n",
      " [2.30269616e-041 7.85846857e-001 2.14153143e-001]\n",
      " [3.59416716e-033 7.28780903e-001 2.71219097e-001]\n",
      " [4.14994983e-038 7.36705000e-001 2.63295000e-001]\n",
      " [2.90411380e-071 5.19436449e-001 4.80563551e-001]\n",
      " [3.51091964e-018 9.11503354e-001 8.84966462e-002]\n",
      " [4.79015405e-043 7.44478756e-001 2.55521244e-001]\n",
      " [3.55769840e-058 4.31850362e-001 5.68149638e-001]\n",
      " [1.31788052e-054 7.14964583e-001 2.85035417e-001]\n",
      " [3.03354132e-126 1.57797123e-001 8.42202877e-001]\n",
      " [6.61752341e-078 4.71919453e-001 5.28080547e-001]\n",
      " [2.85536702e-086 3.69734078e-001 6.30265922e-001]\n",
      " [1.28779708e-159 6.74939149e-002 9.32506085e-001]\n",
      " [5.74167892e-005 9.37711143e-001 6.22314403e-002]\n",
      " [1.62536979e-144 1.17668607e-001 8.82331393e-001]\n",
      " [3.11000015e-124 3.29272493e-001 6.70727507e-001]\n",
      " [2.35249123e-103 1.08347384e-001 8.91652616e-001]\n",
      " [2.07818429e-076 3.51081127e-001 6.48918873e-001]\n",
      " [2.04092711e-094 4.44792656e-001 5.55207344e-001]\n",
      " [3.03378225e-106 2.48984757e-001 7.51015243e-001]\n",
      " [7.35306616e-058 7.66880117e-001 2.33119883e-001]\n",
      " [1.14037035e-049 7.06646726e-001 2.93353274e-001]\n",
      " [9.33524014e-070 3.95544469e-001 6.04455531e-001]\n",
      " [2.85536702e-086 3.69734078e-001 6.30265922e-001]\n",
      " [6.85400905e-127 4.14953082e-002 9.58504692e-001]\n",
      " [5.35413445e-186 6.57307055e-002 9.34269294e-001]\n",
      " [1.52693426e-092 6.77323789e-001 3.22676211e-001]\n",
      " [4.72655911e-103 2.01782238e-001 7.98217762e-001]\n",
      " [1.99831893e-036 7.78957975e-001 2.21042025e-001]\n",
      " [3.80425678e-176 6.09319010e-002 9.39068099e-001]\n",
      " [9.00321761e-088 4.92123674e-001 5.07876326e-001]\n",
      " [8.54374424e-085 2.62075736e-001 7.37924264e-001]\n",
      " [4.61984130e-123 1.25004518e-001 8.74995482e-001]\n",
      " [3.38157035e-076 5.29528421e-001 4.70471579e-001]\n",
      " [1.08633242e-059 5.56641866e-001 4.43358134e-001]\n",
      " [1.74676508e-089 4.34823050e-001 5.65176950e-001]\n",
      " [6.46724090e-133 1.34128728e-001 8.65871272e-001]\n",
      " [4.07542921e-156 1.02988195e-001 8.97011805e-001]\n",
      " [2.98641544e-140 2.87416535e-002 9.71258346e-001]\n",
      " [1.74676508e-089 4.34823050e-001 5.65176950e-001]\n",
      " [7.72032159e-083 4.82014212e-001 5.17985788e-001]\n",
      " [1.98028307e-079 5.96140510e-001 4.03859490e-001]\n",
      " [2.70201370e-166 5.64622699e-002 9.43537730e-001]\n",
      " [3.04333165e-053 4.21950382e-001 5.78049618e-001]\n",
      " [1.09247388e-074 4.05259255e-001 5.94740745e-001]\n",
      " [4.69160420e-053 6.02949432e-001 3.97050568e-001]\n",
      " [5.57523800e-108 2.08378693e-001 7.91621307e-001]\n",
      " [1.18250378e-094 2.78025883e-001 7.21974117e-001]\n",
      " [5.57523800e-108 2.08378693e-001 7.91621307e-001]\n",
      " [1.31788052e-054 7.14964583e-001 2.85035417e-001]\n",
      " [2.18690068e-096 2.34160316e-001 7.65839684e-001]\n",
      " [8.54374424e-085 2.62075736e-001 7.37924264e-001]\n",
      " [1.39048677e-099 2.86221076e-001 7.13778924e-001]\n",
      " [1.22289512e-097 5.12353655e-001 4.87646345e-001]\n",
      " [2.85536702e-086 3.69734078e-001 6.30265922e-001]\n",
      " [1.34841954e-046 4.68903565e-001 5.31096435e-001]\n",
      " [2.00873515e-046 6.47483340e-001 3.52516660e-001]]\n"
     ]
    }
   ],
   "source": [
    "prob = mlogit_sm.predict(sm.add_constant(X))\n",
    "print(prob)"
   ]
  },
  {
   "cell_type": "code",
   "execution_count": 103,
   "metadata": {},
   "outputs": [
    {
     "name": "stdout",
     "output_type": "stream",
     "text": [
      "[0 0 0 0 0 0 0 0 0 0 0 0 0 0 0 0 0 0 0 0 0 0 0 0 0 0 0 0 0 0 0 0 0 0 0 0 0\n",
      " 0 0 0 0 0 0 0 0 0 0 0 0 0 2 2 2 1 2 1 2 1 2 1 1 1 1 1 1 2 1 1 1 1 1 1 1 1\n",
      " 2 2 2 2 1 1 1 1 1 1 1 1 2 1 1 1 1 1 1 1 1 1 1 1 1 1 2 1 2 2 2 2 1 2 2 2 2\n",
      " 2 2 1 1 2 2 2 2 1 2 1 2 2 2 2 1 1 2 2 2 2 2 2 1 2 2 2 1 2 2 2 1 2 2 2 1 2\n",
      " 2 1]\n"
     ]
    }
   ],
   "source": [
    "yhat = np.argmax(prob,1)\n",
    "print(yhat)"
   ]
  },
  {
   "cell_type": "markdown",
   "metadata": {},
   "source": [
    "### LASSO with statsmodels"
   ]
  },
  {
   "cell_type": "code",
   "execution_count": 104,
   "metadata": {},
   "outputs": [
    {
     "name": "stdout",
     "output_type": "stream",
     "text": [
      "Optimization terminated successfully    (Exit mode 0)\n",
      "            Current function value: 0.5298536248758988\n",
      "            Iterations: 60\n",
      "            Function evaluations: 61\n",
      "            Gradient evaluations: 60\n"
     ]
    },
    {
     "data": {
      "text/html": [
       "<table class=\"simpletable\">\n",
       "<caption>MNLogit Regression Results</caption>\n",
       "<tr>\n",
       "  <th>Dep. Variable:</th>           <td>y</td>        <th>  No. Observations:  </th>  <td>   150</td>  \n",
       "</tr>\n",
       "<tr>\n",
       "  <th>Model:</th>                <td>MNLogit</td>     <th>  Df Residuals:      </th>  <td>   145</td>  \n",
       "</tr>\n",
       "<tr>\n",
       "  <th>Method:</th>                 <td>MLE</td>       <th>  Df Model:          </th>  <td>     3</td>  \n",
       "</tr>\n",
       "<tr>\n",
       "  <th>Date:</th>            <td>Mon, 22 May 2023</td> <th>  Pseudo R-squ.:     </th>  <td>0.6105</td>  \n",
       "</tr>\n",
       "<tr>\n",
       "  <th>Time:</th>                <td>16:19:53</td>     <th>  Log-Likelihood:    </th> <td> -64.191</td> \n",
       "</tr>\n",
       "<tr>\n",
       "  <th>converged:</th>             <td>True</td>       <th>  LL-Null:           </th> <td> -164.79</td> \n",
       "</tr>\n",
       "<tr>\n",
       "  <th>Covariance Type:</th>     <td>nonrobust</td>    <th>  LLR p-value:       </th> <td>2.320e-43</td>\n",
       "</tr>\n",
       "</table>\n",
       "<table class=\"simpletable\">\n",
       "<tr>\n",
       "   <th>y=1</th>     <th>coef</th>     <th>std err</th>      <th>z</th>      <th>P>|z|</th>  <th>[0.025</th>    <th>0.975]</th>  \n",
       "</tr>\n",
       "<tr>\n",
       "  <th>const</th> <td>         0</td> <td>      nan</td> <td>      nan</td> <td>   nan</td> <td>      nan</td> <td>      nan</td>\n",
       "</tr>\n",
       "<tr>\n",
       "  <th>x1</th>    <td>    3.6876</td> <td>    0.681</td> <td>    5.417</td> <td> 0.000</td> <td>    2.353</td> <td>    5.022</td>\n",
       "</tr>\n",
       "<tr>\n",
       "  <th>x2</th>    <td>   -6.4977</td> <td>    1.193</td> <td>   -5.445</td> <td> 0.000</td> <td>   -8.837</td> <td>   -4.159</td>\n",
       "</tr>\n",
       "<tr>\n",
       "   <th>y=2</th>     <th>coef</th>     <th>std err</th>      <th>z</th>      <th>P>|z|</th>  <th>[0.025</th>    <th>0.975]</th>  \n",
       "</tr>\n",
       "<tr>\n",
       "  <th>const</th> <td>   -9.3080</td> <td>    2.586</td> <td>   -3.599</td> <td> 0.000</td> <td>  -14.377</td> <td>   -4.239</td>\n",
       "</tr>\n",
       "<tr>\n",
       "  <th>x1</th>    <td>    4.9952</td> <td>    0.773</td> <td>    6.460</td> <td> 0.000</td> <td>    3.480</td> <td>    6.511</td>\n",
       "</tr>\n",
       "<tr>\n",
       "  <th>x2</th>    <td>   -6.0856</td> <td>    1.363</td> <td>   -4.464</td> <td> 0.000</td> <td>   -8.758</td> <td>   -3.413</td>\n",
       "</tr>\n",
       "</table>"
      ],
      "text/plain": [
       "<class 'statsmodels.iolib.summary.Summary'>\n",
       "\"\"\"\n",
       "                          MNLogit Regression Results                          \n",
       "==============================================================================\n",
       "Dep. Variable:                      y   No. Observations:                  150\n",
       "Model:                        MNLogit   Df Residuals:                      145\n",
       "Method:                           MLE   Df Model:                            3\n",
       "Date:                Mon, 22 May 2023   Pseudo R-squ.:                  0.6105\n",
       "Time:                        16:19:53   Log-Likelihood:                -64.191\n",
       "converged:                       True   LL-Null:                       -164.79\n",
       "Covariance Type:            nonrobust   LLR p-value:                 2.320e-43\n",
       "==============================================================================\n",
       "       y=1       coef    std err          z      P>|z|      [0.025      0.975]\n",
       "------------------------------------------------------------------------------\n",
       "const               0        nan        nan        nan         nan         nan\n",
       "x1             3.6876      0.681      5.417      0.000       2.353       5.022\n",
       "x2            -6.4977      1.193     -5.445      0.000      -8.837      -4.159\n",
       "------------------------------------------------------------------------------\n",
       "       y=2       coef    std err          z      P>|z|      [0.025      0.975]\n",
       "------------------------------------------------------------------------------\n",
       "const         -9.3080      2.586     -3.599      0.000     -14.377      -4.239\n",
       "x1             4.9952      0.773      6.460      0.000       3.480       6.511\n",
       "x2            -6.0856      1.363     -4.464      0.000      -8.758      -3.413\n",
       "==============================================================================\n",
       "\"\"\""
      ]
     },
     "execution_count": 104,
     "metadata": {},
     "output_type": "execute_result"
    }
   ],
   "source": [
    "mlogit_sm = MNLogit(Y,sm.add_constant(X))\n",
    "mlogit_smL = mlogit_sm.fit_regularized(method=\"l1\", alpha=0.5)\n",
    "mlogit_smL.summary()"
   ]
  },
  {
   "cell_type": "code",
   "execution_count": 105,
   "metadata": {},
   "outputs": [
    {
     "name": "stdout",
     "output_type": "stream",
     "text": [
      "[0 0 0 0 0 0 0 0 0 0 0 0 0 0 0 0 0 0 0 0 0 0 0 0 0 0 0 0 0 0 0 0 0 0 0 0 0\n",
      " 0 0 0 0 1 0 0 0 0 0 0 0 0 2 2 2 1 2 1 2 1 2 1 1 1 1 1 1 2 1 1 1 1 1 1 1 1\n",
      " 2 2 2 2 1 1 1 1 1 1 1 1 2 1 1 1 1 1 1 1 1 1 1 1 1 1 2 1 2 2 2 2 1 2 2 2 2\n",
      " 2 2 1 1 2 2 2 2 1 2 1 2 2 2 2 1 1 2 2 2 2 2 2 1 2 2 2 1 2 2 2 1 2 2 2 1 2\n",
      " 2 1]\n"
     ]
    }
   ],
   "source": [
    "yhatL = np.argmax(mlogit_smL.predict(sm.add_constant(X)),1)\n",
    "print(yhatL)"
   ]
  },
  {
   "cell_type": "code",
   "execution_count": 106,
   "metadata": {},
   "outputs": [
    {
     "data": {
      "text/html": [
       "<style>#sk-container-id-7 {color: black;background-color: white;}#sk-container-id-7 pre{padding: 0;}#sk-container-id-7 div.sk-toggleable {background-color: white;}#sk-container-id-7 label.sk-toggleable__label {cursor: pointer;display: block;width: 100%;margin-bottom: 0;padding: 0.3em;box-sizing: border-box;text-align: center;}#sk-container-id-7 label.sk-toggleable__label-arrow:before {content: \"▸\";float: left;margin-right: 0.25em;color: #696969;}#sk-container-id-7 label.sk-toggleable__label-arrow:hover:before {color: black;}#sk-container-id-7 div.sk-estimator:hover label.sk-toggleable__label-arrow:before {color: black;}#sk-container-id-7 div.sk-toggleable__content {max-height: 0;max-width: 0;overflow: hidden;text-align: left;background-color: #f0f8ff;}#sk-container-id-7 div.sk-toggleable__content pre {margin: 0.2em;color: black;border-radius: 0.25em;background-color: #f0f8ff;}#sk-container-id-7 input.sk-toggleable__control:checked~div.sk-toggleable__content {max-height: 200px;max-width: 100%;overflow: auto;}#sk-container-id-7 input.sk-toggleable__control:checked~label.sk-toggleable__label-arrow:before {content: \"▾\";}#sk-container-id-7 div.sk-estimator input.sk-toggleable__control:checked~label.sk-toggleable__label {background-color: #d4ebff;}#sk-container-id-7 div.sk-label input.sk-toggleable__control:checked~label.sk-toggleable__label {background-color: #d4ebff;}#sk-container-id-7 input.sk-hidden--visually {border: 0;clip: rect(1px 1px 1px 1px);clip: rect(1px, 1px, 1px, 1px);height: 1px;margin: -1px;overflow: hidden;padding: 0;position: absolute;width: 1px;}#sk-container-id-7 div.sk-estimator {font-family: monospace;background-color: #f0f8ff;border: 1px dotted black;border-radius: 0.25em;box-sizing: border-box;margin-bottom: 0.5em;}#sk-container-id-7 div.sk-estimator:hover {background-color: #d4ebff;}#sk-container-id-7 div.sk-parallel-item::after {content: \"\";width: 100%;border-bottom: 1px solid gray;flex-grow: 1;}#sk-container-id-7 div.sk-label:hover label.sk-toggleable__label {background-color: #d4ebff;}#sk-container-id-7 div.sk-serial::before {content: \"\";position: absolute;border-left: 1px solid gray;box-sizing: border-box;top: 0;bottom: 0;left: 50%;z-index: 0;}#sk-container-id-7 div.sk-serial {display: flex;flex-direction: column;align-items: center;background-color: white;padding-right: 0.2em;padding-left: 0.2em;position: relative;}#sk-container-id-7 div.sk-item {position: relative;z-index: 1;}#sk-container-id-7 div.sk-parallel {display: flex;align-items: stretch;justify-content: center;background-color: white;position: relative;}#sk-container-id-7 div.sk-item::before, #sk-container-id-7 div.sk-parallel-item::before {content: \"\";position: absolute;border-left: 1px solid gray;box-sizing: border-box;top: 0;bottom: 0;left: 50%;z-index: -1;}#sk-container-id-7 div.sk-parallel-item {display: flex;flex-direction: column;z-index: 1;position: relative;background-color: white;}#sk-container-id-7 div.sk-parallel-item:first-child::after {align-self: flex-end;width: 50%;}#sk-container-id-7 div.sk-parallel-item:last-child::after {align-self: flex-start;width: 50%;}#sk-container-id-7 div.sk-parallel-item:only-child::after {width: 0;}#sk-container-id-7 div.sk-dashed-wrapped {border: 1px dashed gray;margin: 0 0.4em 0.5em 0.4em;box-sizing: border-box;padding-bottom: 0.4em;background-color: white;}#sk-container-id-7 div.sk-label label {font-family: monospace;font-weight: bold;display: inline-block;line-height: 1.2em;}#sk-container-id-7 div.sk-label-container {text-align: center;}#sk-container-id-7 div.sk-container {/* jupyter's `normalize.less` sets `[hidden] { display: none; }` but bootstrap.min.css set `[hidden] { display: none !important; }` so we also need the `!important` here to be able to override the default hidden behavior on the sphinx rendered scikit-learn.org. See: https://github.com/scikit-learn/scikit-learn/issues/21755 */display: inline-block !important;position: relative;}#sk-container-id-7 div.sk-text-repr-fallback {display: none;}</style><div id=\"sk-container-id-7\" class=\"sk-top-container\"><div class=\"sk-text-repr-fallback\"><pre>LogisticRegression(C=100000.0)</pre><b>In a Jupyter environment, please rerun this cell to show the HTML representation or trust the notebook. <br />On GitHub, the HTML representation is unable to render, please try loading this page with nbviewer.org.</b></div><div class=\"sk-container\" hidden><div class=\"sk-item\"><div class=\"sk-estimator sk-toggleable\"><input class=\"sk-toggleable__control sk-hidden--visually\" id=\"sk-estimator-id-7\" type=\"checkbox\" checked><label for=\"sk-estimator-id-7\" class=\"sk-toggleable__label sk-toggleable__label-arrow\">LogisticRegression</label><div class=\"sk-toggleable__content\"><pre>LogisticRegression(C=100000.0)</pre></div></div></div></div></div>"
      ],
      "text/plain": [
       "LogisticRegression(C=100000.0)"
      ]
     },
     "execution_count": 106,
     "metadata": {},
     "output_type": "execute_result"
    }
   ],
   "source": [
    "# Sklearn\n",
    "mlogitR = LogisticRegression(C=1e5)  # multi_class=\"auto\" {'ovr','multinomial','auto'}  \n",
    "mlogitR.fit(X,Y)"
   ]
  },
  {
   "cell_type": "code",
   "execution_count": 107,
   "metadata": {},
   "outputs": [
    {
     "name": "stdout",
     "output_type": "stream",
     "text": [
      "[[1.00000000e+00 1.31551595e-13 1.91419886e-14]\n",
      " [9.99999965e-01 3.24521189e-08 2.63646594e-09]\n",
      " [1.00000000e+00 6.61527282e-17 3.98332517e-18]\n",
      " [1.00000000e+00 3.15405544e-17 1.50790901e-18]\n",
      " [1.00000000e+00 5.93948049e-18 7.44044384e-19]\n",
      " [1.00000000e+00 1.18112760e-14 3.57552761e-15]\n",
      " [1.00000000e+00 2.90646764e-23 1.56891262e-24]\n",
      " [1.00000000e+00 6.27216797e-14 7.24630197e-15]\n",
      " [1.00000000e+00 7.16988928e-18 2.16089610e-19]\n",
      " [1.00000000e+00 3.15797337e-10 2.67155050e-11]]\n",
      "[0 0 0 0 0 0 0 0 0 0]\n"
     ]
    }
   ],
   "source": [
    "muR = mlogitR.predict_proba(X)\n",
    "yhatR = np.argmax(muR,1)\n",
    "print(muR[0:10])\n",
    "print(yhatR[0:10])"
   ]
  },
  {
   "cell_type": "code",
   "execution_count": 108,
   "metadata": {},
   "outputs": [
    {
     "data": {
      "image/png": "[encoded data removed]",
      "text/plain": [
       "<Figure size 800x700 with 1 Axes>"
      ]
     },
     "metadata": {},
     "output_type": "display_data"
    }
   ],
   "source": [
    "## 그림으로 표시\n",
    "h = .02  # step size in the mesh\n",
    "x_min, x_max = X[:, 0].min() - .5, X[:, 0].max() + .5\n",
    "y_min, y_max = X[:, 1].min() - .5, X[:, 1].max() + .5\n",
    "xx, yy = np.meshgrid(np.arange(x_min, x_max, h), np.arange(y_min, y_max, h))\n",
    "Z = mlogitR.predict(np.c_[xx.ravel(), yy.ravel()])\n",
    "# put the result into a color plot\n",
    "Z = Z.reshape(xx.shape)\n",
    "plt.figure(1, figsize=(8, 7))\n",
    "plt.pcolormesh(xx, yy, Z, cmap=plt.cm.Paired)\n",
    "# Plot also the training points\n",
    "plt.scatter(X[:, 0], X[:, 1], c=Y, edgecolors='k', cmap=plt.cm.Paired)\n",
    "plt.xlabel('Sepal length'); plt.ylabel('Sepal width')\n",
    "plt.xlim(xx.min(), xx.max());  plt.ylim(yy.min(), yy.max())\n",
    "plt.xticks(()); plt.yticks(())\n",
    "plt.show()"
   ]
  },
  {
   "cell_type": "code",
   "execution_count": null,
   "metadata": {},
   "outputs": [],
   "source": []
  },
  {
   "cell_type": "code",
   "execution_count": null,
   "metadata": {},
   "outputs": [],
   "source": []
  }
 ],
 "metadata": {
  "kernelspec": {
   "display_name": "Python 3 (ipykernel)",
   "language": "python",
   "name": "python3"
  },
  "language_info": {
   "codemirror_mode": {
    "name": "ipython",
    "version": 3
   },
   "file_extension": ".py",
   "mimetype": "text/x-python",
   "name": "python",
   "nbconvert_exporter": "python",
   "pygments_lexer": "ipython3",
   "version": "3.9.13"
  }
 },
 "nbformat": 4,
 "nbformat_minor": 2
}
