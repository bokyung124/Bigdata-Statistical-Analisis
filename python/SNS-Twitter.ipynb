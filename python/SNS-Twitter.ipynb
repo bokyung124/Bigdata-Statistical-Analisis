{
 "cells": [
  {
   "cell_type": "markdown",
   "id": "0cba9935",
   "metadata": {},
   "source": [
    "## SNS 데이터 가져오기\n",
    "\n",
    "- package: snscrape\n",
    "    - a scraper for social networking services (SNS)\n",
    "    - Facebook, Instagram, Mastodon, Reddit, Telegram, Twitter, VKontakte, Weibo\n",
    "https://github.com/JustAnotherArchivist/snscrape"
   ]
  },
  {
   "cell_type": "code",
   "execution_count": 1,
   "id": "25b55b6b",
   "metadata": {},
   "outputs": [
    {
     "name": "stdout",
     "output_type": "stream",
     "text": [
      "Requirement already satisfied: snscrape in /opt/homebrew/lib/python3.11/site-packages (0.6.2.20230320)\n",
      "Requirement already satisfied: requests[socks] in /opt/homebrew/lib/python3.11/site-packages (from snscrape) (2.28.2)\n",
      "Requirement already satisfied: lxml in /opt/homebrew/lib/python3.11/site-packages (from snscrape) (4.9.2)\n",
      "Requirement already satisfied: beautifulsoup4 in /opt/homebrew/lib/python3.11/site-packages (from snscrape) (4.11.2)\n",
      "Requirement already satisfied: filelock in /opt/homebrew/lib/python3.11/site-packages (from snscrape) (3.10.6)\n",
      "Requirement already satisfied: soupsieve>1.2 in /opt/homebrew/lib/python3.11/site-packages (from beautifulsoup4->snscrape) (2.4)\n",
      "Requirement already satisfied: charset-normalizer<4,>=2 in /opt/homebrew/lib/python3.11/site-packages (from requests[socks]->snscrape) (3.1.0)\n",
      "Requirement already satisfied: idna<4,>=2.5 in /opt/homebrew/lib/python3.11/site-packages (from requests[socks]->snscrape) (3.4)\n",
      "Requirement already satisfied: urllib3<1.27,>=1.21.1 in /opt/homebrew/lib/python3.11/site-packages (from requests[socks]->snscrape) (1.26.15)\n",
      "Requirement already satisfied: certifi>=2017.4.17 in /opt/homebrew/lib/python3.11/site-packages (from requests[socks]->snscrape) (2022.12.7)\n",
      "Requirement already satisfied: PySocks!=1.5.7,>=1.5.6 in /opt/homebrew/lib/python3.11/site-packages (from requests[socks]->snscrape) (1.7.1)\n"
     ]
    }
   ],
   "source": [
    "!pip install snscrape"
   ]
  },
  {
   "cell_type": "markdown",
   "id": "6ae9cde1",
   "metadata": {},
   "source": [
    "### Twitter 데이터 가져오기"
   ]
  },
  {
   "cell_type": "code",
   "execution_count": 2,
   "id": "af18b0cf",
   "metadata": {},
   "outputs": [],
   "source": [
    "import pandas as pd\n",
    "import snscrape.modules.twitter as sntwitter"
   ]
  },
  {
   "cell_type": "code",
   "execution_count": 3,
   "id": "5fc7d75b",
   "metadata": {},
   "outputs": [],
   "source": [
    "스크레이퍼 = sntwitter.TwitterSearchScraper(\"#python\")"
   ]
  },
  {
   "cell_type": "code",
   "execution_count": 4,
   "id": "f3cf3579",
   "metadata": {},
   "outputs": [
    {
     "data": {
      "text/plain": [
       "<snscrape.modules.twitter.TwitterSearchScraper at 0x117a39e50>"
      ]
     },
     "execution_count": 4,
     "metadata": {},
     "output_type": "execute_result"
    }
   ],
   "source": [
    "스크레이퍼"
   ]
  },
  {
   "cell_type": "code",
   "execution_count": 5,
   "id": "96155046",
   "metadata": {},
   "outputs": [],
   "source": [
    "for 트위 in 스크레이퍼.get_items():\n",
    "    break"
   ]
  },
  {
   "cell_type": "code",
   "execution_count": 6,
   "id": "4ccbae29",
   "metadata": {},
   "outputs": [
    {
     "data": {
      "text/plain": [
       "Tweet(url='https://twitter.com/appletreege/status/1640266260377108488', date=datetime.datetime(2023, 3, 27, 8, 15, 25, tzinfo=datetime.timezone.utc), rawContent='#codeart #pygame #pyopengl #fibonaccisphere #digitalart #python https://t.co/Lyun8wgsnI', renderedContent='#codeart #pygame #pyopengl #fibonaccisphere #digitalart #python https://t.co/Lyun8wgsnI', id=1640266260377108488, user=User(username='appletreege', id=314790051, displayname='verkannter niemand', rawDescription='', renderedDescription='', descriptionLinks=None, verified=False, created=datetime.datetime(2011, 6, 10, 20, 25, 8, tzinfo=datetime.timezone.utc), followersCount=298, friendsCount=180, statusesCount=4076, favouritesCount=5874, listedCount=1, mediaCount=130, location='', protected=False, link=None, profileImageUrl='https://pbs.twimg.com/profile_images/1551972520680644610/EYpuMgcL_normal.jpg', profileBannerUrl='https://pbs.twimg.com/profile_banners/314790051/1658854058', label=None), replyCount=0, retweetCount=0, likeCount=0, quoteCount=0, conversationId=1640266260377108488, lang='qme', source='<a href=\"http://twitter.com/download/android\" rel=\"nofollow\">Twitter for Android</a>', sourceUrl='http://twitter.com/download/android', sourceLabel='Twitter for Android', links=None, media=[Video(thumbnailUrl='https://pbs.twimg.com/ext_tw_video_thumb/1640266162377306114/pu/img/QLTIn6mxBRs1XPFD.jpg', variants=[VideoVariant(url='https://video.twimg.com/ext_tw_video/1640266162377306114/pu/vid/432x270/Uzl_G7NXUInhqyLc.mp4?tag=12', contentType='video/mp4', bitrate=256000), VideoVariant(url='https://video.twimg.com/ext_tw_video/1640266162377306114/pu/vid/1152x720/v5ozPjR1i5MGA_Zb.mp4?tag=12', contentType='video/mp4', bitrate=2176000), VideoVariant(url='https://video.twimg.com/ext_tw_video/1640266162377306114/pu/pl/SWDFiKecQSGrrrMj.m3u8?tag=12&container=fmp4', contentType='application/x-mpegURL', bitrate=None), VideoVariant(url='https://video.twimg.com/ext_tw_video/1640266162377306114/pu/vid/576x360/i0HiEQaz1SXKeKUp.mp4?tag=12', contentType='video/mp4', bitrate=832000)], duration=44.999, views=0, altText=None)], retweetedTweet=None, quotedTweet=None, inReplyToTweetId=None, inReplyToUser=None, mentionedUsers=None, coordinates=None, place=None, hashtags=['codeart', 'pygame', 'pyopengl', 'fibonaccisphere', 'digitalart', 'python'], cashtags=None, card=None, viewCount=1, vibe=None)"
      ]
     },
     "execution_count": 6,
     "metadata": {},
     "output_type": "execute_result"
    }
   ],
   "source": [
    "트위"
   ]
  },
  {
   "cell_type": "code",
   "execution_count": 7,
   "id": "9e96682f",
   "metadata": {},
   "outputs": [
    {
     "name": "stdout",
     "output_type": "stream",
     "text": [
      "[datetime.datetime(2023, 3, 27, 8, 15, 25, tzinfo=datetime.timezone.utc), 1640266260377108488, '#codeart #pygame #pyopengl #fibonaccisphere #digitalart #python https://t.co/Lyun8wgsnI', 'appletreege', 0, 0]\n"
     ]
    }
   ],
   "source": [
    "트위자료 = [트위.date, 트위.id, 트위.rawContent, 트위.user.username, 트위.likeCount, 트위.retweetCount]\n",
    "print(트위자료)"
   ]
  },
  {
   "cell_type": "code",
   "execution_count": 8,
   "id": "a17b36c5",
   "metadata": {},
   "outputs": [],
   "source": [
    "스크레이퍼 = sntwitter.TwitterSearchScraper(\"#python\")\n",
    "트윗묶음 = []\n",
    "# enumerate : 인덱스와 원소를 차례대로 접근하게 해주는 반복자(iterator) 객체를 반환\n",
    "for i, 트윗 in enumerate(스크레이퍼.get_items()):\n",
    "    트윗자료 = [트윗.date, 트윗.id, 트윗.rawContent, 트윗.user.username, 트윗.likeCount, 트윗.retweetCount]\n",
    "    트윗묶음.append(트윗자료)\n",
    "    if i > 50: break"
   ]
  },
  {
   "cell_type": "code",
   "execution_count": 9,
   "id": "db34595b",
   "metadata": {},
   "outputs": [
    {
     "data": {
      "text/plain": [
       "52"
      ]
     },
     "execution_count": 9,
     "metadata": {},
     "output_type": "execute_result"
    }
   ],
   "source": [
    "len(트윗묶음)"
   ]
  },
  {
   "cell_type": "code",
   "execution_count": 10,
   "id": "6d294416",
   "metadata": {},
   "outputs": [
    {
     "data": {
      "text/html": [
       "<div>\n",
       "<style scoped>\n",
       "    .dataframe tbody tr th:only-of-type {\n",
       "        vertical-align: middle;\n",
       "    }\n",
       "\n",
       "    .dataframe tbody tr th {\n",
       "        vertical-align: top;\n",
       "    }\n",
       "\n",
       "    .dataframe thead th {\n",
       "        text-align: right;\n",
       "    }\n",
       "</style>\n",
       "<table border=\"1\" class=\"dataframe\">\n",
       "  <thead>\n",
       "    <tr style=\"text-align: right;\">\n",
       "      <th></th>\n",
       "      <th>date</th>\n",
       "      <th>id</th>\n",
       "      <th>content</th>\n",
       "      <th>username</th>\n",
       "      <th>likeCount</th>\n",
       "      <th>retweetCount</th>\n",
       "    </tr>\n",
       "  </thead>\n",
       "  <tbody>\n",
       "    <tr>\n",
       "      <th>0</th>\n",
       "      <td>2023-03-27 08:15:25+00:00</td>\n",
       "      <td>1640266260377108488</td>\n",
       "      <td>#codeart #pygame #pyopengl #fibonaccisphere #d...</td>\n",
       "      <td>appletreege</td>\n",
       "      <td>0</td>\n",
       "      <td>0</td>\n",
       "    </tr>\n",
       "    <tr>\n",
       "      <th>1</th>\n",
       "      <td>2023-03-27 08:15:09+00:00</td>\n",
       "      <td>1640266190919544834</td>\n",
       "      <td>If you're not taking advantage of the interact...</td>\n",
       "      <td>solomonuche42</td>\n",
       "      <td>0</td>\n",
       "      <td>1</td>\n",
       "    </tr>\n",
       "    <tr>\n",
       "      <th>2</th>\n",
       "      <td>2023-03-27 08:15:03+00:00</td>\n",
       "      <td>1640266167242702850</td>\n",
       "      <td>Exception Handling in Python: https://t.co/Hnn...</td>\n",
       "      <td>PY_PlainEnglish</td>\n",
       "      <td>0</td>\n",
       "      <td>1</td>\n",
       "    </tr>\n",
       "    <tr>\n",
       "      <th>3</th>\n",
       "      <td>2023-03-27 08:15:02+00:00</td>\n",
       "      <td>1640266163857899520</td>\n",
       "      <td>vasarely | d:18 h:29  #generative #geometric #...</td>\n",
       "      <td>GeometricBot</td>\n",
       "      <td>0</td>\n",
       "      <td>1</td>\n",
       "    </tr>\n",
       "    <tr>\n",
       "      <th>4</th>\n",
       "      <td>2023-03-27 08:14:30+00:00</td>\n",
       "      <td>1640266027320635393</td>\n",
       "      <td>🔒Protect your Python code from vulnerabilities...</td>\n",
       "      <td>THyasser1</td>\n",
       "      <td>0</td>\n",
       "      <td>0</td>\n",
       "    </tr>\n",
       "  </tbody>\n",
       "</table>\n",
       "</div>"
      ],
      "text/plain": [
       "                       date                   id  \\\n",
       "0 2023-03-27 08:15:25+00:00  1640266260377108488   \n",
       "1 2023-03-27 08:15:09+00:00  1640266190919544834   \n",
       "2 2023-03-27 08:15:03+00:00  1640266167242702850   \n",
       "3 2023-03-27 08:15:02+00:00  1640266163857899520   \n",
       "4 2023-03-27 08:14:30+00:00  1640266027320635393   \n",
       "\n",
       "                                             content         username  \\\n",
       "0  #codeart #pygame #pyopengl #fibonaccisphere #d...      appletreege   \n",
       "1  If you're not taking advantage of the interact...    solomonuche42   \n",
       "2  Exception Handling in Python: https://t.co/Hnn...  PY_PlainEnglish   \n",
       "3  vasarely | d:18 h:29  #generative #geometric #...     GeometricBot   \n",
       "4  🔒Protect your Python code from vulnerabilities...        THyasser1   \n",
       "\n",
       "   likeCount  retweetCount  \n",
       "0          0             0  \n",
       "1          0             1  \n",
       "2          0             1  \n",
       "3          0             1  \n",
       "4          0             0  "
      ]
     },
     "execution_count": 10,
     "metadata": {},
     "output_type": "execute_result"
    }
   ],
   "source": [
    "트윗_df  = pd.DataFrame(트윗묶음,columns=[\"date\",\"id\",\"content\",\"username\",\"likeCount\",\"retweetCount\"])\n",
    "트윗_df.head()"
   ]
  },
  {
   "cell_type": "markdown",
   "id": "76dec9fe",
   "metadata": {},
   "source": [
    "### 진행바(Progress Bar) 추가"
   ]
  },
  {
   "cell_type": "code",
   "execution_count": 11,
   "id": "031c0243",
   "metadata": {},
   "outputs": [
    {
     "name": "stdout",
     "output_type": "stream",
     "text": [
      "Collecting tqdm\n",
      "  Downloading tqdm-4.65.0-py3-none-any.whl (77 kB)\n",
      "\u001b[2K     \u001b[38;2;114;156;31m━━━━━━━━━━━━━━━━━━━━━━━━━━━━━━━━━━━━━━━━\u001b[0m \u001b[32m77.1/77.1 kB\u001b[0m \u001b[31m1.9 MB/s\u001b[0m eta \u001b[36m0:00:00\u001b[0m\n",
      "\u001b[?25hInstalling collected packages: tqdm\n",
      "Successfully installed tqdm-4.65.0\n"
     ]
    }
   ],
   "source": [
    "!pip install tqdm"
   ]
  },
  {
   "cell_type": "code",
   "execution_count": 12,
   "id": "e10147a3",
   "metadata": {},
   "outputs": [],
   "source": [
    "from tqdm.notebook import tqdm"
   ]
  },
  {
   "cell_type": "code",
   "execution_count": 13,
   "id": "74c6ed3b",
   "metadata": {},
   "outputs": [
    {
     "data": {
      "application/vnd.jupyter.widget-view+json": {
       "model_id": "7b2930995e1a498ca7ba9e270f7249e6",
       "version_major": 2,
       "version_minor": 0
      },
      "text/plain": [
       "진행률:   0%|          | 0/1000 [00:00<?, ?it/s]"
      ]
     },
     "metadata": {},
     "output_type": "display_data"
    },
    {
     "data": {
      "text/html": [
       "<div>\n",
       "<style scoped>\n",
       "    .dataframe tbody tr th:only-of-type {\n",
       "        vertical-align: middle;\n",
       "    }\n",
       "\n",
       "    .dataframe tbody tr th {\n",
       "        vertical-align: top;\n",
       "    }\n",
       "\n",
       "    .dataframe thead th {\n",
       "        text-align: right;\n",
       "    }\n",
       "</style>\n",
       "<table border=\"1\" class=\"dataframe\">\n",
       "  <thead>\n",
       "    <tr style=\"text-align: right;\">\n",
       "      <th></th>\n",
       "      <th>date</th>\n",
       "      <th>id</th>\n",
       "      <th>content</th>\n",
       "      <th>username</th>\n",
       "      <th>likeCount</th>\n",
       "      <th>retweetCount</th>\n",
       "    </tr>\n",
       "  </thead>\n",
       "  <tbody>\n",
       "    <tr>\n",
       "      <th>0</th>\n",
       "      <td>2023-03-27 08:16:06+00:00</td>\n",
       "      <td>1640266431399882752</td>\n",
       "      <td>Specializzati nell'analisi dei dati con #Pytho...</td>\n",
       "      <td>GeeksAcademyEu</td>\n",
       "      <td>0</td>\n",
       "      <td>0</td>\n",
       "    </tr>\n",
       "    <tr>\n",
       "      <th>1</th>\n",
       "      <td>2023-03-27 08:15:25+00:00</td>\n",
       "      <td>1640266260377108488</td>\n",
       "      <td>#codeart #pygame #pyopengl #fibonaccisphere #d...</td>\n",
       "      <td>appletreege</td>\n",
       "      <td>0</td>\n",
       "      <td>0</td>\n",
       "    </tr>\n",
       "    <tr>\n",
       "      <th>2</th>\n",
       "      <td>2023-03-27 08:15:09+00:00</td>\n",
       "      <td>1640266190919544834</td>\n",
       "      <td>If you're not taking advantage of the interact...</td>\n",
       "      <td>solomonuche42</td>\n",
       "      <td>0</td>\n",
       "      <td>1</td>\n",
       "    </tr>\n",
       "    <tr>\n",
       "      <th>3</th>\n",
       "      <td>2023-03-27 08:15:03+00:00</td>\n",
       "      <td>1640266167242702850</td>\n",
       "      <td>Exception Handling in Python: https://t.co/Hnn...</td>\n",
       "      <td>PY_PlainEnglish</td>\n",
       "      <td>0</td>\n",
       "      <td>1</td>\n",
       "    </tr>\n",
       "    <tr>\n",
       "      <th>4</th>\n",
       "      <td>2023-03-27 08:15:02+00:00</td>\n",
       "      <td>1640266163857899520</td>\n",
       "      <td>vasarely | d:18 h:29  #generative #geometric #...</td>\n",
       "      <td>GeometricBot</td>\n",
       "      <td>0</td>\n",
       "      <td>1</td>\n",
       "    </tr>\n",
       "  </tbody>\n",
       "</table>\n",
       "</div>"
      ],
      "text/plain": [
       "                       date                   id  \\\n",
       "0 2023-03-27 08:16:06+00:00  1640266431399882752   \n",
       "1 2023-03-27 08:15:25+00:00  1640266260377108488   \n",
       "2 2023-03-27 08:15:09+00:00  1640266190919544834   \n",
       "3 2023-03-27 08:15:03+00:00  1640266167242702850   \n",
       "4 2023-03-27 08:15:02+00:00  1640266163857899520   \n",
       "\n",
       "                                             content         username  \\\n",
       "0  Specializzati nell'analisi dei dati con #Pytho...   GeeksAcademyEu   \n",
       "1  #codeart #pygame #pyopengl #fibonaccisphere #d...      appletreege   \n",
       "2  If you're not taking advantage of the interact...    solomonuche42   \n",
       "3  Exception Handling in Python: https://t.co/Hnn...  PY_PlainEnglish   \n",
       "4  vasarely | d:18 h:29  #generative #geometric #...     GeometricBot   \n",
       "\n",
       "   likeCount  retweetCount  \n",
       "0          0             0  \n",
       "1          0             0  \n",
       "2          0             1  \n",
       "3          0             1  \n",
       "4          0             1  "
      ]
     },
     "execution_count": 13,
     "metadata": {},
     "output_type": "execute_result"
    }
   ],
   "source": [
    "스크레이퍼 = sntwitter.TwitterSearchScraper(\"#python\")\n",
    "트윗묶음 = []\n",
    "n_트윗묶음 = 1_000 # 1_000 == 1,000\n",
    "for i, 트윗 in tqdm(enumerate(스크레이퍼.get_items()),desc=\"진행률\",total=n_트윗묶음):\n",
    "    트윗자료 = [트윗.date, 트윗.id, 트윗.rawContent, 트윗.user.username, 트윗.likeCount, 트윗.retweetCount]\n",
    "    트윗묶음.append(트윗자료)\n",
    "    if i > n_트윗묶음: break\n",
    "\n",
    "\n",
    "트윗_df  = pd.DataFrame(트윗묶음,columns=[\"date\",\"id\",\"content\",\"username\",\"likeCount\",\"retweetCount\"])\n",
    "트윗_df.head()\n",
    "        "
   ]
  }
 ],
 "metadata": {
  "kernelspec": {
   "display_name": "Python 3 (ipykernel)",
   "language": "python",
   "name": "python3"
  },
  "language_info": {
   "codemirror_mode": {
    "name": "ipython",
    "version": 3
   },
   "file_extension": ".py",
   "mimetype": "text/x-python",
   "name": "python",
   "nbconvert_exporter": "python",
   "pygments_lexer": "ipython3",
   "version": "3.11.2"
  }
 },
 "nbformat": 4,
 "nbformat_minor": 5
}
