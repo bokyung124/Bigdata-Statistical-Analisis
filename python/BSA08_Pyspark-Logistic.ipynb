{
 "cells": [
  {
   "cell_type": "markdown",
   "id": "390ffede",
   "metadata": {},
   "source": [
    "### Telco Customer Churn\n",
    "Focused customer retention programs\n",
    "\n",
    "#### Context\n",
    "\"Predict behavior to retain customers. You can analyze all relevant customer data and develop focused customer retention programs.\" [IBM Sample Data Sets]\n",
    "\n",
    "#### Content\n",
    "Each row represents a customer, each column contains customer’s attributes described on the column Metadata.\n",
    "\n",
    "The data set includes information about:\n",
    "\n",
    "-Customers who left within the last month – the column is called Churn\n",
    "-Services that each customer has signed up for – phone, multiple lines, internet, online security, online backup, device protection, tech support, and streaming TV and movies\n",
    "-Customer account information – how long they’ve been a customer, contract, payment method, paperless billing, monthly charges, and total charges\n",
    "-Demographic info about customers – gender, age range, and if they have partners and dependents\n",
    "\n",
    "#### Inspiration\n",
    "To explore this type of models and learn more about the subject.\n",
    "\n",
    "#### New version from IBM:\n",
    "https://community.ibm.com/community/user/businessanalytics/blogs/steven-macko/2019/07/11/telco-customer-churn-1113"
   ]
  },
  {
   "cell_type": "code",
   "execution_count": 1,
   "id": "9e3e6d8d",
   "metadata": {},
   "outputs": [],
   "source": [
    "from pyspark.sql import SparkSession\n",
    "\n",
    "spark =  SparkSession.builder.appName(\"churn\").getOrCreate()\n",
    "spark.conf.set(\"spark.sql.execution.arrow.pyspark.enabled\",\"true\")"
   ]
  },
  {
   "cell_type": "code",
   "execution_count": 2,
   "id": "468805c5",
   "metadata": {},
   "outputs": [
    {
     "name": "stdout",
     "output_type": "stream",
     "text": [
      "+----------+------+-------------+-------+----------+------+------------+----------------+---------------+-------------------+-------------------+-------------------+-------------------+-------------------+-------------------+--------------+----------------+--------------------+--------------+------------+-----+\n",
      "|customerID|gender|SeniorCitizen|Partner|Dependents|tenure|PhoneService|   MultipleLines|InternetService|     OnlineSecurity|       OnlineBackup|   DeviceProtection|        TechSupport|        StreamingTV|    StreamingMovies|      Contract|PaperlessBilling|       PaymentMethod|MonthlyCharges|TotalCharges|Churn|\n",
      "+----------+------+-------------+-------+----------+------+------------+----------------+---------------+-------------------+-------------------+-------------------+-------------------+-------------------+-------------------+--------------+----------------+--------------------+--------------+------------+-----+\n",
      "|7590-VHVEG|Female|            0|    Yes|        No|     1|          No|No phone service|            DSL|                 No|                Yes|                 No|                 No|                 No|                 No|Month-to-month|             Yes|    Electronic check|         29.85|       29.85|   No|\n",
      "|5575-GNVDE|  Male|            0|     No|        No|    34|         Yes|              No|            DSL|                Yes|                 No|                Yes|                 No|                 No|                 No|      One year|              No|        Mailed check|         56.95|      1889.5|   No|\n",
      "|3668-QPYBK|  Male|            0|     No|        No|     2|         Yes|              No|            DSL|                Yes|                Yes|                 No|                 No|                 No|                 No|Month-to-month|             Yes|        Mailed check|         53.85|      108.15|  Yes|\n",
      "|7795-CFOCW|  Male|            0|     No|        No|    45|          No|No phone service|            DSL|                Yes|                 No|                Yes|                Yes|                 No|                 No|      One year|              No|Bank transfer (au...|          42.3|     1840.75|   No|\n",
      "|9237-HQITU|Female|            0|     No|        No|     2|         Yes|              No|    Fiber optic|                 No|                 No|                 No|                 No|                 No|                 No|Month-to-month|             Yes|    Electronic check|          70.7|      151.65|  Yes|\n",
      "|9305-CDSKC|Female|            0|     No|        No|     8|         Yes|             Yes|    Fiber optic|                 No|                 No|                Yes|                 No|                Yes|                Yes|Month-to-month|             Yes|    Electronic check|         99.65|       820.5|  Yes|\n",
      "|1452-KIOVK|  Male|            0|     No|       Yes|    22|         Yes|             Yes|    Fiber optic|                 No|                Yes|                 No|                 No|                Yes|                 No|Month-to-month|             Yes|Credit card (auto...|          89.1|      1949.4|   No|\n",
      "|6713-OKOMC|Female|            0|     No|        No|    10|          No|No phone service|            DSL|                Yes|                 No|                 No|                 No|                 No|                 No|Month-to-month|              No|        Mailed check|         29.75|       301.9|   No|\n",
      "|7892-POOKP|Female|            0|    Yes|        No|    28|         Yes|             Yes|    Fiber optic|                 No|                 No|                Yes|                Yes|                Yes|                Yes|Month-to-month|             Yes|    Electronic check|         104.8|     3046.05|  Yes|\n",
      "|6388-TABGU|  Male|            0|     No|       Yes|    62|         Yes|              No|            DSL|                Yes|                Yes|                 No|                 No|                 No|                 No|      One year|              No|Bank transfer (au...|         56.15|     3487.95|   No|\n",
      "|9763-GRSKD|  Male|            0|    Yes|       Yes|    13|         Yes|              No|            DSL|                Yes|                 No|                 No|                 No|                 No|                 No|Month-to-month|             Yes|        Mailed check|         49.95|      587.45|   No|\n",
      "|7469-LKBCI|  Male|            0|     No|        No|    16|         Yes|              No|             No|No internet service|No internet service|No internet service|No internet service|No internet service|No internet service|      Two year|              No|Credit card (auto...|         18.95|       326.8|   No|\n",
      "|8091-TTVAX|  Male|            0|    Yes|        No|    58|         Yes|             Yes|    Fiber optic|                 No|                 No|                Yes|                 No|                Yes|                Yes|      One year|              No|Credit card (auto...|        100.35|      5681.1|   No|\n",
      "|0280-XJGEX|  Male|            0|     No|        No|    49|         Yes|             Yes|    Fiber optic|                 No|                Yes|                Yes|                 No|                Yes|                Yes|Month-to-month|             Yes|Bank transfer (au...|         103.7|      5036.3|  Yes|\n",
      "|5129-JLPIS|  Male|            0|     No|        No|    25|         Yes|              No|    Fiber optic|                Yes|                 No|                Yes|                Yes|                Yes|                Yes|Month-to-month|             Yes|    Electronic check|         105.5|     2686.05|   No|\n",
      "|3655-SNQYZ|Female|            0|    Yes|       Yes|    69|         Yes|             Yes|    Fiber optic|                Yes|                Yes|                Yes|                Yes|                Yes|                Yes|      Two year|              No|Credit card (auto...|        113.25|     7895.15|   No|\n",
      "|8191-XWSZG|Female|            0|     No|        No|    52|         Yes|              No|             No|No internet service|No internet service|No internet service|No internet service|No internet service|No internet service|      One year|              No|        Mailed check|         20.65|     1022.95|   No|\n",
      "|9959-WOFKT|  Male|            0|     No|       Yes|    71|         Yes|             Yes|    Fiber optic|                Yes|                 No|                Yes|                 No|                Yes|                Yes|      Two year|              No|Bank transfer (au...|         106.7|     7382.25|   No|\n",
      "|4190-MFLUW|Female|            0|    Yes|       Yes|    10|         Yes|              No|            DSL|                 No|                 No|                Yes|                Yes|                 No|                 No|Month-to-month|              No|Credit card (auto...|          55.2|      528.35|  Yes|\n",
      "|4183-MYFRB|Female|            0|     No|        No|    21|         Yes|              No|    Fiber optic|                 No|                Yes|                Yes|                 No|                 No|                Yes|Month-to-month|             Yes|    Electronic check|         90.05|      1862.9|   No|\n",
      "+----------+------+-------------+-------+----------+------+------------+----------------+---------------+-------------------+-------------------+-------------------+-------------------+-------------------+-------------------+--------------+----------------+--------------------+--------------+------------+-----+\n",
      "only showing top 20 rows\n",
      "\n"
     ]
    }
   ],
   "source": [
    "churn_df  = spark.read.csv(\"Telco-Customer-Churn.csv\",inferSchema=True,header=True)\n",
    "churn_df.show()"
   ]
  },
  {
   "cell_type": "code",
   "execution_count": 3,
   "id": "71e551ea",
   "metadata": {},
   "outputs": [
    {
     "name": "stdout",
     "output_type": "stream",
     "text": [
      "root\n",
      " |-- customerID: string (nullable = true)\n",
      " |-- gender: string (nullable = true)\n",
      " |-- SeniorCitizen: integer (nullable = true)\n",
      " |-- Partner: string (nullable = true)\n",
      " |-- Dependents: string (nullable = true)\n",
      " |-- tenure: integer (nullable = true)\n",
      " |-- PhoneService: string (nullable = true)\n",
      " |-- MultipleLines: string (nullable = true)\n",
      " |-- InternetService: string (nullable = true)\n",
      " |-- OnlineSecurity: string (nullable = true)\n",
      " |-- OnlineBackup: string (nullable = true)\n",
      " |-- DeviceProtection: string (nullable = true)\n",
      " |-- TechSupport: string (nullable = true)\n",
      " |-- StreamingTV: string (nullable = true)\n",
      " |-- StreamingMovies: string (nullable = true)\n",
      " |-- Contract: string (nullable = true)\n",
      " |-- PaperlessBilling: string (nullable = true)\n",
      " |-- PaymentMethod: string (nullable = true)\n",
      " |-- MonthlyCharges: double (nullable = true)\n",
      " |-- TotalCharges: string (nullable = true)\n",
      " |-- Churn: string (nullable = true)\n",
      "\n"
     ]
    }
   ],
   "source": [
    "churn_df.printSchema()"
   ]
  },
  {
   "cell_type": "code",
   "execution_count": 4,
   "id": "ad99c9d8",
   "metadata": {},
   "outputs": [],
   "source": [
    "churn_df = churn_df.drop(\"customerID\")"
   ]
  },
  {
   "cell_type": "code",
   "execution_count": 5,
   "id": "5b0f599b",
   "metadata": {},
   "outputs": [
    {
     "data": {
      "text/plain": [
       "['gender',\n",
       " 'Partner',\n",
       " 'Dependents',\n",
       " 'PhoneService',\n",
       " 'MultipleLines',\n",
       " 'InternetService',\n",
       " 'OnlineSecurity',\n",
       " 'OnlineBackup',\n",
       " 'DeviceProtection',\n",
       " 'TechSupport',\n",
       " 'StreamingTV',\n",
       " 'StreamingMovies',\n",
       " 'Contract',\n",
       " 'PaperlessBilling',\n",
       " 'PaymentMethod',\n",
       " 'TotalCharges',\n",
       " 'Churn']"
      ]
     },
     "execution_count": 5,
     "metadata": {},
     "output_type": "execute_result"
    }
   ],
   "source": [
    "from pyspark.sql.types import StringType\n",
    "\n",
    "문자변수 = [변수.name for 변수 in churn_df.schema.fields if isinstance(변수.dataType, StringType)]\n",
    "문자변수"
   ]
  },
  {
   "cell_type": "code",
   "execution_count": 6,
   "id": "9b44857d",
   "metadata": {},
   "outputs": [],
   "source": [
    "from pyspark.ml.feature import StringIndexer, OneHotEncoder"
   ]
  },
  {
   "cell_type": "code",
   "execution_count": 7,
   "id": "05164d3f",
   "metadata": {},
   "outputs": [
    {
     "name": "stdout",
     "output_type": "stream",
     "text": [
      "root\n",
      " |-- gender: string (nullable = true)\n",
      " |-- SeniorCitizen: integer (nullable = true)\n",
      " |-- Partner: string (nullable = true)\n",
      " |-- Dependents: string (nullable = true)\n",
      " |-- tenure: integer (nullable = true)\n",
      " |-- PhoneService: string (nullable = true)\n",
      " |-- MultipleLines: string (nullable = true)\n",
      " |-- InternetService: string (nullable = true)\n",
      " |-- OnlineSecurity: string (nullable = true)\n",
      " |-- OnlineBackup: string (nullable = true)\n",
      " |-- DeviceProtection: string (nullable = true)\n",
      " |-- TechSupport: string (nullable = true)\n",
      " |-- StreamingTV: string (nullable = true)\n",
      " |-- StreamingMovies: string (nullable = true)\n",
      " |-- Contract: string (nullable = true)\n",
      " |-- PaperlessBilling: string (nullable = true)\n",
      " |-- PaymentMethod: string (nullable = true)\n",
      " |-- MonthlyCharges: double (nullable = true)\n",
      " |-- TotalCharges: string (nullable = true)\n",
      " |-- Churn: string (nullable = true)\n",
      " |-- gender_SI: double (nullable = false)\n",
      " |-- Partner_SI: double (nullable = false)\n",
      " |-- Dependents_SI: double (nullable = false)\n",
      " |-- PhoneService_SI: double (nullable = false)\n",
      " |-- MultipleLines_SI: double (nullable = false)\n",
      " |-- InternetService_SI: double (nullable = false)\n",
      " |-- OnlineSecurity_SI: double (nullable = false)\n",
      " |-- OnlineBackup_SI: double (nullable = false)\n",
      " |-- DeviceProtection_SI: double (nullable = false)\n",
      " |-- TechSupport_SI: double (nullable = false)\n",
      " |-- StreamingTV_SI: double (nullable = false)\n",
      " |-- StreamingMovies_SI: double (nullable = false)\n",
      " |-- Contract_SI: double (nullable = false)\n",
      " |-- PaperlessBilling_SI: double (nullable = false)\n",
      " |-- PaymentMethod_SI: double (nullable = false)\n",
      " |-- TotalCharges_SI: double (nullable = false)\n",
      " |-- Churn_SI: double (nullable = false)\n",
      "\n"
     ]
    }
   ],
   "source": [
    "## StringIndexer\n",
    "indexer  = StringIndexer(inputCols=문자변수,\n",
    "                         outputCols=[\"{}_SI\".format(c) for c in 문자변수])\n",
    "encode_df  = indexer.fit(churn_df).transform(churn_df)\n",
    "encode_df.printSchema()"
   ]
  },
  {
   "cell_type": "code",
   "execution_count": 18,
   "id": "c7c22986",
   "metadata": {},
   "outputs": [
    {
     "data": {
      "text/plain": [
       "['SeniorCitizen',\n",
       " 'tenure',\n",
       " 'MonthlyCharges',\n",
       " 'gender_SI',\n",
       " 'Partner_SI',\n",
       " 'Dependents_SI',\n",
       " 'PhoneService_SI',\n",
       " 'MultipleLines_SI',\n",
       " 'InternetService_SI',\n",
       " 'OnlineSecurity_SI',\n",
       " 'OnlineBackup_SI',\n",
       " 'DeviceProtection_SI',\n",
       " 'TechSupport_SI',\n",
       " 'StreamingTV_SI',\n",
       " 'StreamingMovies_SI',\n",
       " 'Contract_SI',\n",
       " 'PaperlessBilling_SI',\n",
       " 'PaymentMethod_SI',\n",
       " 'TotalCharges_SI',\n",
       " 'Churn_SI']"
      ]
     },
     "execution_count": 18,
     "metadata": {},
     "output_type": "execute_result"
    }
   ],
   "source": [
    "설명변수 = [\"SeniorCitizen\", \"tenure\", \"MonthlyCharges\"]+[\"{}_SI\".format(c) for c in 문자변수]\n",
    "설명변수"
   ]
  },
  {
   "cell_type": "code",
   "execution_count": 8,
   "id": "66b1d404",
   "metadata": {},
   "outputs": [
    {
     "data": {
      "text/plain": [
       "['SeniorCitizen',\n",
       " 'MonthlyCharges',\n",
       " 'gender_SI',\n",
       " 'Partner_SI',\n",
       " 'Dependents_SI',\n",
       " 'PhoneService_SI',\n",
       " 'MultipleLines_SI',\n",
       " 'InternetService_SI',\n",
       " 'OnlineSecurity_SI',\n",
       " 'OnlineBackup_SI',\n",
       " 'DeviceProtection_SI',\n",
       " 'TechSupport_SI',\n",
       " 'StreamingTV_SI',\n",
       " 'StreamingMovies_SI',\n",
       " 'Contract_SI',\n",
       " 'PaperlessBilling_SI',\n",
       " 'PaymentMethod_SI',\n",
       " 'TotalCharges_SI']"
      ]
     },
     "execution_count": 8,
     "metadata": {},
     "output_type": "execute_result"
    }
   ],
   "source": [
    "설명변수 = 설명변수[0:-1]\n",
    "설명변수"
   ]
  },
  {
   "cell_type": "code",
   "execution_count": 22,
   "id": "934bb229",
   "metadata": {},
   "outputs": [
    {
     "name": "stdout",
     "output_type": "stream",
     "text": [
      "+--------------------+--------+\n",
      "|            features|Churn_SI|\n",
      "+--------------------+--------+\n",
      "|(20,[1,2,3,4,6,7,...|     0.0|\n",
      "|(20,[1,2,8,9,11,1...|     0.0|\n",
      "|(20,[1,2,8,9,10,1...|     1.0|\n",
      "|(20,[1,2,6,7,8,9,...|     0.0|\n",
      "|(20,[1,2,3,18,19]...|     1.0|\n",
      "|(20,[1,2,3,7,11,1...|     1.0|\n",
      "|(20,[1,2,5,7,10,1...|     0.0|\n",
      "|(20,[1,2,3,6,7,8,...|     0.0|\n",
      "|(20,[1,2,3,4,7,11...|     1.0|\n",
      "|(20,[1,2,5,8,9,10...|     0.0|\n",
      "|(20,[1,2,4,5,8,9,...|     0.0|\n",
      "|[0.0,16.0,18.95,0...|     0.0|\n",
      "|(20,[1,2,4,7,11,1...|     0.0|\n",
      "|(20,[1,2,7,10,11,...|     1.0|\n",
      "|(20,[1,2,9,11,12,...|     0.0|\n",
      "|[0.0,69.0,113.25,...|     0.0|\n",
      "|[0.0,52.0,20.65,1...|     0.0|\n",
      "|(20,[1,2,5,7,9,11...|     0.0|\n",
      "|(20,[1,2,3,4,5,8,...|     1.0|\n",
      "|(20,[1,2,3,10,11,...|     0.0|\n",
      "+--------------------+--------+\n",
      "only showing top 20 rows\n",
      "\n"
     ]
    }
   ],
   "source": [
    "from pyspark.ml.feature import VectorAssembler\n",
    "\n",
    "변수묶음 = VectorAssembler(inputCols=설명변수,outputCol=\"features\")\n",
    "변환자료  = 변수묶음.transform(encode_df)\n",
    "변환자료.select(\"features\",\"Churn_SI\").show()"
   ]
  },
  {
   "cell_type": "code",
   "execution_count": 23,
   "id": "5bf9b678",
   "metadata": {},
   "outputs": [
    {
     "name": "stdout",
     "output_type": "stream",
     "text": [
      "+--------------------+--------+\n",
      "|            features|Churn_SI|\n",
      "+--------------------+--------+\n",
      "|(20,[1,2,3,4,6,7,...|     0.0|\n",
      "|(20,[1,2,8,9,11,1...|     0.0|\n",
      "|(20,[1,2,8,9,10,1...|     1.0|\n",
      "|(20,[1,2,6,7,8,9,...|     0.0|\n",
      "|(20,[1,2,3,18,19]...|     1.0|\n",
      "|(20,[1,2,3,7,11,1...|     1.0|\n",
      "|(20,[1,2,5,7,10,1...|     0.0|\n",
      "|(20,[1,2,3,6,7,8,...|     0.0|\n",
      "|(20,[1,2,3,4,7,11...|     1.0|\n",
      "|(20,[1,2,5,8,9,10...|     0.0|\n",
      "|(20,[1,2,4,5,8,9,...|     0.0|\n",
      "|[0.0,16.0,18.95,0...|     0.0|\n",
      "|(20,[1,2,4,7,11,1...|     0.0|\n",
      "|(20,[1,2,7,10,11,...|     1.0|\n",
      "|(20,[1,2,9,11,12,...|     0.0|\n",
      "|[0.0,69.0,113.25,...|     0.0|\n",
      "|[0.0,52.0,20.65,1...|     0.0|\n",
      "|(20,[1,2,5,7,9,11...|     0.0|\n",
      "|(20,[1,2,3,4,5,8,...|     1.0|\n",
      "|(20,[1,2,3,10,11,...|     0.0|\n",
      "+--------------------+--------+\n",
      "only showing top 20 rows\n",
      "\n"
     ]
    }
   ],
   "source": [
    "분류자료 = 변환자료.select([\"features\",\"Churn_SI\"])\n",
    "분류자료.show()"
   ]
  },
  {
   "cell_type": "code",
   "execution_count": 24,
   "id": "7600872f",
   "metadata": {},
   "outputs": [],
   "source": [
    "from pyspark.ml.classification import LogisticRegression\n",
    "\n",
    "train_data, test_data =분류자료.randomSplit([0.7, 0.3], 316)"
   ]
  },
  {
   "cell_type": "code",
   "execution_count": 25,
   "id": "49346f3d",
   "metadata": {},
   "outputs": [
    {
     "data": {
      "text/plain": [
       "<pyspark.ml.classification.BinaryLogisticRegressionTrainingSummary at 0x1d755c3cdf0>"
      ]
     },
     "execution_count": 25,
     "metadata": {},
     "output_type": "execute_result"
    }
   ],
   "source": [
    "분석모형 =  LogisticRegression(labelCol=\"Churn_SI\").fit(train_data)\n",
    "분석모형.summary\n",
    "\n"
   ]
  },
  {
   "cell_type": "code",
   "execution_count": 26,
   "id": "5b420835",
   "metadata": {},
   "outputs": [
    {
     "name": "stdout",
     "output_type": "stream",
     "text": [
      "+--------------------+--------+--------------------+--------------------+----------+\n",
      "|            features|Churn_SI|       rawPrediction|         probability|prediction|\n",
      "+--------------------+--------+--------------------+--------------------+----------+\n",
      "|(20,[0,1,2,3,4,5,...|     0.0|[19.3403516169458...|[0.99999999601349...|       0.0|\n",
      "|(20,[0,1,2,3,4,5,...|     0.0|[20.0279718703656...|[0.99999999799570...|       0.0|\n",
      "|(20,[0,1,2,3,4,5,...|     0.0|[19.8583148344511...|[0.99999999762511...|       0.0|\n",
      "|(20,[0,1,2,3,4,5,...|     0.0|[19.1711541456363...|[0.99999999527857...|       0.0|\n",
      "|(20,[0,1,2,3,4,5,...|     0.0|[19.2311451861710...|[0.99999999555348...|       0.0|\n",
      "|(20,[0,1,2,3,4,5,...|     0.0|[19.7596754198973...|[0.99999999737890...|       0.0|\n",
      "|(20,[0,1,2,3,4,5,...|     0.0|[19.3154920582169...|[0.99999999591315...|       0.0|\n",
      "|(20,[0,1,2,3,4,5,...|     1.0|[-19.369107281707...|[3.87350023347706...|       1.0|\n",
      "|(20,[0,1,2,3,4,5,...|     0.0|[18.8308566126647...|[0.99999999336466...|       0.0|\n",
      "|(20,[0,1,2,3,4,5,...|     0.0|[19.2156798424991...|[0.99999999548418...|       0.0|\n",
      "|(20,[0,1,2,3,4,5,...|     1.0|[-19.528359719366...|[3.30324762815106...|       1.0|\n",
      "|(20,[0,1,2,3,4,5,...|     0.0|[19.6286187101632...|[0.99999999701187...|       0.0|\n",
      "|(20,[0,1,2,3,4,5,...|     1.0|[-19.628159744773...|[2.98949982016577...|       1.0|\n",
      "|(20,[0,1,2,3,4,5,...|     0.0|[19.9185413095235...|[0.99999999776391...|       0.0|\n",
      "|(20,[0,1,2,3,4,5,...|     0.0|[19.2740069625434...|[0.99999999574004...|       0.0|\n",
      "|(20,[0,1,2,3,4,5,...|     1.0|[-19.510418375078...|[3.3630471689158E...|       1.0|\n",
      "|(20,[0,1,2,3,4,5,...|     0.0|[19.1789437268947...|[0.99999999531520...|       0.0|\n",
      "|(20,[0,1,2,3,4,5,...|     1.0|[-19.062897048294...|[5.26125074861365...|       1.0|\n",
      "|(20,[0,1,2,3,4,7,...|     0.0|[19.4527569370471...|[0.99999999643733...|       0.0|\n",
      "|(20,[0,1,2,3,4,7,...|     0.0|[19.8355480796068...|[0.99999999757042...|       0.0|\n",
      "+--------------------+--------+--------------------+--------------------+----------+\n",
      "only showing top 20 rows\n",
      "\n"
     ]
    }
   ],
   "source": [
    "분석모형.summary.predictions.show()"
   ]
  },
  {
   "cell_type": "code",
   "execution_count": 27,
   "id": "d3e739d8",
   "metadata": {},
   "outputs": [
    {
     "name": "stdout",
     "output_type": "stream",
     "text": [
      "+-------+-------------------+-------------------+\n",
      "|summary|           Churn_SI|         prediction|\n",
      "+-------+-------------------+-------------------+\n",
      "|  count|               4861|               4861|\n",
      "|   mean|0.27196050195433036|0.27196050195433036|\n",
      "| stddev| 0.4450154240671786| 0.4450154240671786|\n",
      "|    min|                0.0|                0.0|\n",
      "|    max|                1.0|                1.0|\n",
      "+-------+-------------------+-------------------+\n",
      "\n"
     ]
    }
   ],
   "source": [
    "분석모형.summary.predictions.describe().show()"
   ]
  },
  {
   "cell_type": "code",
   "execution_count": 28,
   "id": "550a3ada",
   "metadata": {},
   "outputs": [],
   "source": [
    "from pyspark.ml.evaluation import BinaryClassificationEvaluator"
   ]
  },
  {
   "cell_type": "code",
   "execution_count": 29,
   "id": "a395d44a",
   "metadata": {},
   "outputs": [
    {
     "name": "stdout",
     "output_type": "stream",
     "text": [
      "+--------------------+--------+--------------------+--------------------+----------+\n",
      "|            features|Churn_SI|       rawPrediction|         probability|prediction|\n",
      "+--------------------+--------+--------------------+--------------------+----------+\n",
      "|(20,[0,1,2,3,4,5,...|     0.0|[19.2646612333412...|[0.99999999570004...|       0.0|\n",
      "|(20,[0,1,2,3,4,5,...|     1.0|[-19.383891550606...|[3.81665461056438...|       1.0|\n",
      "|(20,[0,1,2,3,4,5,...|     1.0|[-19.921920326882...|[2.22853742670308...|       1.0|\n",
      "|(20,[0,1,2,3,4,6,...|     0.0|[19.1453914182629...|[0.99999999515535...|       0.0|\n",
      "|(20,[0,1,2,3,4,6,...|     1.0|[-19.543793422330...|[3.25265768488868...|       1.0|\n",
      "|(20,[0,1,2,3,4,6,...|     0.0|[18.8254039921970...|[0.99999999332838...|       0.0|\n",
      "|(20,[0,1,2,3,4,6,...|     0.0|[18.9956233663884...|[0.99999999437262...|       0.0|\n",
      "|(20,[0,1,2,3,4,6,...|     1.0|[-20.022207902330...|[2.01588424942380...|       1.0|\n",
      "|(20,[0,1,2,3,4,7,...|     0.0|[19.8736439839356...|[0.99999999766123...|       0.0|\n",
      "|(20,[0,1,2,3,4,7,...|     0.0|[19.5232195813817...|[0.99999999667972...|       0.0|\n",
      "|(20,[0,1,2,3,4,7,...|     0.0|[20.0028486355706...|[0.99999999794470...|       0.0|\n",
      "|(20,[0,1,2,3,4,7,...|     0.0|[19.4743204870873...|[0.99999999651333...|       0.0|\n",
      "|(20,[0,1,2,3,4,7,...|     1.0|[-19.215805709260...|[4.51524804421459...|       1.0|\n",
      "|(20,[0,1,2,3,4,7,...|     0.0|[19.7254179802524...|[0.99999999728756...|       0.0|\n",
      "|(20,[0,1,2,3,4,7,...|     0.0|[19.6287359967061...|[0.99999999701222...|       0.0|\n",
      "|(20,[0,1,2,3,4,7,...|     1.0|[-19.229714644676...|[4.45288048966227...|       1.0|\n",
      "|(20,[0,1,2,3,4,7,...|     0.0|[19.3420093286621...|[0.99999999602010...|       0.0|\n",
      "|(20,[0,1,2,3,4,7,...|     1.0|[-19.389850031996...|[3.79398076311349...|       1.0|\n",
      "|(20,[0,1,2,3,4,7,...|     0.0|[19.6282791625411...|[0.99999999701085...|       0.0|\n",
      "|(20,[0,1,2,3,4,7,...|     1.0|[-19.860173862918...|[2.37047882749420...|       1.0|\n",
      "+--------------------+--------+--------------------+--------------------+----------+\n",
      "only showing top 20 rows\n",
      "\n"
     ]
    }
   ],
   "source": [
    "예측 = 분석모형.evaluate(test_data)\n",
    "예측.predictions.show()"
   ]
  },
  {
   "cell_type": "code",
   "execution_count": 30,
   "id": "5afd7625",
   "metadata": {},
   "outputs": [
    {
     "data": {
      "text/plain": [
       "1.0"
      ]
     },
     "execution_count": 30,
     "metadata": {},
     "output_type": "execute_result"
    }
   ],
   "source": [
    "평가 = BinaryClassificationEvaluator(rawPredictionCol=\"prediction\",labelCol=\"Churn_SI\")\n",
    "auc = 평가.evaluate(예측.predictions)\n",
    "auc"
   ]
  },
  {
   "cell_type": "code",
   "execution_count": null,
   "id": "a9325762",
   "metadata": {},
   "outputs": [],
   "source": []
  },
  {
   "cell_type": "code",
   "execution_count": null,
   "id": "19e3c686",
   "metadata": {},
   "outputs": [],
   "source": []
  }
 ],
 "metadata": {
  "kernelspec": {
   "display_name": "Python 3 (ipykernel)",
   "language": "python",
   "name": "python3"
  },
  "language_info": {
   "codemirror_mode": {
    "name": "ipython",
    "version": 3
   },
   "file_extension": ".py",
   "mimetype": "text/x-python",
   "name": "python",
   "nbconvert_exporter": "python",
   "pygments_lexer": "ipython3",
   "version": "3.9.13"
  }
 },
 "nbformat": 4,
 "nbformat_minor": 5
}
