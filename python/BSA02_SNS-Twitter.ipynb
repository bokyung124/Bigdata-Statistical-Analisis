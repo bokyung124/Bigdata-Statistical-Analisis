{
 "cells": [
  {
   "cell_type": "markdown",
   "id": "0cba9935",
   "metadata": {},
   "source": [
    "## SNS 데이터 가져오기\n",
    "\n",
    "- package: snscrape\n",
    "    - a scraper for social networking services (SNS)\n",
    "    - Facebook, Instagram, Mastodon, Reddit, Telegram, Twitter, VKontakte, Weibo\n",
    "https://github.com/JustAnotherArchivist/snscrape"
   ]
  },
  {
   "cell_type": "code",
   "execution_count": 1,
   "id": "25b55b6b",
   "metadata": {},
   "outputs": [
    {
     "name": "stdout",
     "output_type": "stream",
     "text": [
      "Collecting snscrape\n",
      "  Downloading snscrape-0.6.1.20230314-py3-none-any.whl (71 kB)\n",
      "     ---------------------------------------- 0.0/71.6 kB ? eta -:--:--\n",
      "     ---------------------------------------- 71.6/71.6 kB 3.8 MB/s eta 0:00:00\n",
      "Collecting lxml\n",
      "  Downloading lxml-4.9.2-cp39-cp39-win_amd64.whl (3.9 MB)\n",
      "     ---------------------------------------- 0.0/3.9 MB ? eta -:--:--\n",
      "     -- ------------------------------------- 0.2/3.9 MB 6.9 MB/s eta 0:00:01\n",
      "     ------ --------------------------------- 0.7/3.9 MB 8.3 MB/s eta 0:00:01\n",
      "     --------- ------------------------------ 1.0/3.9 MB 7.7 MB/s eta 0:00:01\n",
      "     ------------ --------------------------- 1.2/3.9 MB 7.0 MB/s eta 0:00:01\n",
      "     -------------- ------------------------- 1.4/3.9 MB 6.5 MB/s eta 0:00:01\n",
      "     --------------- ------------------------ 1.6/3.9 MB 5.8 MB/s eta 0:00:01\n",
      "     ----------------- ---------------------- 1.7/3.9 MB 5.5 MB/s eta 0:00:01\n",
      "     ------------------- -------------------- 1.9/3.9 MB 5.3 MB/s eta 0:00:01\n",
      "     ---------------------- ----------------- 2.2/3.9 MB 5.4 MB/s eta 0:00:01\n",
      "     ------------------------- -------------- 2.5/3.9 MB 5.4 MB/s eta 0:00:01\n",
      "     ---------------------------- ----------- 2.8/3.9 MB 5.6 MB/s eta 0:00:01\n",
      "     ------------------------------- -------- 3.1/3.9 MB 5.7 MB/s eta 0:00:01\n",
      "     ----------------------------------- ---- 3.4/3.9 MB 5.8 MB/s eta 0:00:01\n",
      "     -------------------------------------- - 3.8/3.9 MB 5.9 MB/s eta 0:00:01\n",
      "     ---------------------------------------- 3.9/3.9 MB 5.7 MB/s eta 0:00:00\n",
      "Requirement already satisfied: beautifulsoup4 in c:\\users\\sm-pc\\appdata\\local\\programs\\python\\python39\\lib\\site-packages (from snscrape) (4.11.2)\n",
      "Collecting requests[socks]\n",
      "  Downloading requests-2.28.2-py3-none-any.whl (62 kB)\n",
      "     ---------------------------------------- 0.0/62.8 kB ? eta -:--:--\n",
      "     ---------------------------------------- 62.8/62.8 kB 3.5 MB/s eta 0:00:00\n",
      "Collecting filelock\n",
      "  Downloading filelock-3.9.1-py3-none-any.whl (9.7 kB)\n",
      "Requirement already satisfied: soupsieve>1.2 in c:\\users\\sm-pc\\appdata\\local\\programs\\python\\python39\\lib\\site-packages (from beautifulsoup4->snscrape) (2.4)\n",
      "Requirement already satisfied: idna<4,>=2.5 in c:\\users\\sm-pc\\appdata\\local\\programs\\python\\python39\\lib\\site-packages (from requests[socks]->snscrape) (3.4)\n",
      "Collecting certifi>=2017.4.17\n",
      "  Downloading certifi-2022.12.7-py3-none-any.whl (155 kB)\n",
      "     ---------------------------------------- 0.0/155.3 kB ? eta -:--:--\n",
      "     -------------------------------------- 155.3/155.3 kB 4.7 MB/s eta 0:00:00\n",
      "Collecting urllib3<1.27,>=1.21.1\n",
      "  Downloading urllib3-1.26.15-py2.py3-none-any.whl (140 kB)\n",
      "     ---------------------------------------- 0.0/140.9 kB ? eta -:--:--\n",
      "     -------------------------------------- 140.9/140.9 kB 4.1 MB/s eta 0:00:00\n",
      "Collecting charset-normalizer<4,>=2\n",
      "  Downloading charset_normalizer-3.1.0-cp39-cp39-win_amd64.whl (97 kB)\n",
      "     ---------------------------------------- 0.0/97.1 kB ? eta -:--:--\n",
      "     ---------------------------------------- 97.1/97.1 kB 2.7 MB/s eta 0:00:00\n",
      "Collecting PySocks!=1.5.7,>=1.5.6\n",
      "  Downloading PySocks-1.7.1-py3-none-any.whl (16 kB)\n",
      "Installing collected packages: urllib3, PySocks, lxml, filelock, charset-normalizer, certifi, requests, snscrape\n",
      "Successfully installed PySocks-1.7.1 certifi-2022.12.7 charset-normalizer-3.1.0 filelock-3.9.1 lxml-4.9.2 requests-2.28.2 snscrape-0.6.1.20230314 urllib3-1.26.15\n"
     ]
    }
   ],
   "source": [
    "!pip install snscrape"
   ]
  },
  {
   "cell_type": "markdown",
   "id": "6ae9cde1",
   "metadata": {},
   "source": [
    "### Twitter 데이터 가져오기"
   ]
  },
  {
   "cell_type": "code",
   "execution_count": 4,
   "id": "af18b0cf",
   "metadata": {},
   "outputs": [],
   "source": [
    "import pandas as pd\n",
    "import snscrape.modules.twitter as sntwitter"
   ]
  },
  {
   "cell_type": "code",
   "execution_count": 5,
   "id": "5fc7d75b",
   "metadata": {},
   "outputs": [],
   "source": [
    "스크레이퍼 = sntwitter.TwitterSearchScraper(\"#python\")"
   ]
  },
  {
   "cell_type": "code",
   "execution_count": 6,
   "id": "f3cf3579",
   "metadata": {},
   "outputs": [
    {
     "data": {
      "text/plain": [
       "<snscrape.modules.twitter.TwitterSearchScraper at 0x20c3b190d00>"
      ]
     },
     "execution_count": 6,
     "metadata": {},
     "output_type": "execute_result"
    }
   ],
   "source": [
    "스크레이퍼"
   ]
  },
  {
   "cell_type": "code",
   "execution_count": 7,
   "id": "96155046",
   "metadata": {},
   "outputs": [],
   "source": [
    "for 트위 in 스크레이퍼.get_items():\n",
    "    break"
   ]
  },
  {
   "cell_type": "code",
   "execution_count": 8,
   "id": "4ccbae29",
   "metadata": {},
   "outputs": [
    {
     "data": {
      "text/plain": [
       "Tweet(url='https://twitter.com/kimse_vin/status/1635889533169303552', date=datetime.datetime(2023, 3, 15, 6, 23, 52, tzinfo=datetime.timezone.utc), rawContent='#Python,#kibe,Pope Francis,Super Petrol,#Champions League,EPRA,20th Of March,Sonko,Hot Air,Haaland', renderedContent='#Python,#kibe,Pope Francis,Super Petrol,#Champions League,EPRA,20th Of March,Sonko,Hot Air,Haaland', id=1635889533169303552, user=User(username='kimse_vin', id=1451481583408517133, displayname=\"El'nuski\", rawDescription='Online Influencer', renderedDescription='Online Influencer', descriptionLinks=None, verified=False, created=datetime.datetime(2021, 10, 22, 9, 32, 47, tzinfo=datetime.timezone.utc), followersCount=4882, friendsCount=3811, statusesCount=687, favouritesCount=3442, listedCount=0, mediaCount=60, location='Mombasa, Kenya ', protected=False, link=None, profileImageUrl='https://pbs.twimg.com/profile_images/1635130866111328256/wa0LyLT5_normal.jpg', profileBannerUrl=None, label=None), replyCount=0, retweetCount=0, likeCount=0, quoteCount=0, conversationId=1635889533169303552, lang='en', source='<a href=\"http://twitter.com/download/android\" rel=\"nofollow\">Twitter for Android</a>', sourceUrl='http://twitter.com/download/android', sourceLabel='Twitter for Android', links=None, media=None, retweetedTweet=None, quotedTweet=Tweet(url='https://twitter.com/kimse_vin/status/1635883413503631361', date=datetime.datetime(2023, 3, 15, 5, 59, 33, tzinfo=datetime.timezone.utc), rawContent='Women need to take up more space in Tech inorder to  to close the gender pay gap,to close talent shortage,to generate impact and more revenue,to generate innovation among others. \\nwatch out and take advantage of the all female ALX Cohort via the link: https://t.co/wdtpXHV3Ko https://t.co/op7xa6747F', renderedContent='Women need to take up more space in Tech inorder to  to close the gender pay gap,to close talent shortage,to generate impact and more revenue,to generate innovation among others. \\nwatch out and take advantage of the all female ALX Cohort via the link: aif.la/3Sk9TIw https://t.co/op7xa6747F', id=1635883413503631361, user=User(username='kimse_vin', id=1451481583408517133, displayname=\"El'nuski\", rawDescription='Online Influencer', renderedDescription='Online Influencer', descriptionLinks=None, verified=False, created=datetime.datetime(2021, 10, 22, 9, 32, 47, tzinfo=datetime.timezone.utc), followersCount=4882, friendsCount=3811, statusesCount=687, favouritesCount=3442, listedCount=0, mediaCount=60, location='Mombasa, Kenya ', protected=False, link=None, profileImageUrl='https://pbs.twimg.com/profile_images/1635130866111328256/wa0LyLT5_normal.jpg', profileBannerUrl=None, label=None), replyCount=0, retweetCount=2, likeCount=2, quoteCount=2, conversationId=1635883413503631361, lang='en', source='<a href=\"http://twitter.com/download/android\" rel=\"nofollow\">Twitter for Android</a>', sourceUrl='http://twitter.com/download/android', sourceLabel='Twitter for Android', links=[TextLink(text='aif.la/3Sk9TIw', url='http://aif.la/3Sk9TIw', tcourl='https://t.co/wdtpXHV3Ko', indices=(252, 275))], media=[Photo(previewUrl='https://pbs.twimg.com/media/FrPTSm0WIAcHyJS?format=jpg&name=small', fullUrl='https://pbs.twimg.com/media/FrPTSm0WIAcHyJS?format=jpg&name=orig', altText=None)], retweetedTweet=None, quotedTweet=None, inReplyToTweetId=None, inReplyToUser=None, mentionedUsers=None, coordinates=None, place=None, hashtags=None, cashtags=None, card=None, viewCount=30, vibe=None), inReplyToTweetId=None, inReplyToUser=None, mentionedUsers=None, coordinates=None, place=None, hashtags=['Python', 'kibe', 'Champions'], cashtags=None, card=None, viewCount=3, vibe=None)"
      ]
     },
     "execution_count": 8,
     "metadata": {},
     "output_type": "execute_result"
    }
   ],
   "source": [
    "트위"
   ]
  },
  {
   "cell_type": "code",
   "execution_count": 9,
   "id": "9e96682f",
   "metadata": {},
   "outputs": [
    {
     "name": "stdout",
     "output_type": "stream",
     "text": [
      "[datetime.datetime(2023, 3, 15, 6, 23, 52, tzinfo=datetime.timezone.utc), 1635889533169303552, '#Python,#kibe,Pope Francis,Super Petrol,#Champions League,EPRA,20th Of March,Sonko,Hot Air,Haaland', 'kimse_vin', 0, 0]\n"
     ]
    }
   ],
   "source": [
    "트위자료 = [트위.date, 트위.id, 트위.rawContent, 트위.user.username, 트위.likeCount, 트위.retweetCount]\n",
    "print(트위자료)"
   ]
  },
  {
   "cell_type": "code",
   "execution_count": 10,
   "id": "a17b36c5",
   "metadata": {},
   "outputs": [],
   "source": [
    "스크레이퍼 = sntwitter.TwitterSearchScraper(\"#python\")\n",
    "트윗묶음 = []\n",
    "# enumerate : 인덱스와 원소를 차례대로 접근하게 해주는 반복자(iterator) 객체를 반환\n",
    "for i, 트윗 in enumerate(스크레이퍼.get_items()):\n",
    "    트윗자료 = [트윗.date, 트윗.id, 트윗.rawContent, 트윗.user.username, 트윗.likeCount, 트윗.retweetCount]\n",
    "    트윗묶음.append(트윗자료)\n",
    "    if i > 50: break"
   ]
  },
  {
   "cell_type": "code",
   "execution_count": 11,
   "id": "db34595b",
   "metadata": {},
   "outputs": [
    {
     "data": {
      "text/plain": [
       "52"
      ]
     },
     "execution_count": 11,
     "metadata": {},
     "output_type": "execute_result"
    }
   ],
   "source": [
    "len(트윗묶음)"
   ]
  },
  {
   "cell_type": "code",
   "execution_count": 12,
   "id": "6d294416",
   "metadata": {},
   "outputs": [
    {
     "data": {
      "text/html": [
       "<div>\n",
       "<style scoped>\n",
       "    .dataframe tbody tr th:only-of-type {\n",
       "        vertical-align: middle;\n",
       "    }\n",
       "\n",
       "    .dataframe tbody tr th {\n",
       "        vertical-align: top;\n",
       "    }\n",
       "\n",
       "    .dataframe thead th {\n",
       "        text-align: right;\n",
       "    }\n",
       "</style>\n",
       "<table border=\"1\" class=\"dataframe\">\n",
       "  <thead>\n",
       "    <tr style=\"text-align: right;\">\n",
       "      <th></th>\n",
       "      <th>date</th>\n",
       "      <th>id</th>\n",
       "      <th>content</th>\n",
       "      <th>username</th>\n",
       "      <th>likeCount</th>\n",
       "      <th>retweetCount</th>\n",
       "    </tr>\n",
       "  </thead>\n",
       "  <tbody>\n",
       "    <tr>\n",
       "      <th>0</th>\n",
       "      <td>2023-03-15 06:27:55+00:00</td>\n",
       "      <td>1635890550430736385</td>\n",
       "      <td>#Python,#kibe,Pope Francis,Super Petrol,#Champ...</td>\n",
       "      <td>kimse_vin</td>\n",
       "      <td>0</td>\n",
       "      <td>0</td>\n",
       "    </tr>\n",
       "    <tr>\n",
       "      <th>1</th>\n",
       "      <td>2023-03-15 06:27:26+00:00</td>\n",
       "      <td>1635890431325085696</td>\n",
       "      <td>いつおんチャンネルで新しい動画を公開しました。\\n【Automatic Compositio...</td>\n",
       "      <td>itsuon120n</td>\n",
       "      <td>0</td>\n",
       "      <td>0</td>\n",
       "    </tr>\n",
       "    <tr>\n",
       "      <th>2</th>\n",
       "      <td>2023-03-15 06:27:17+00:00</td>\n",
       "      <td>1635890393467310086</td>\n",
       "      <td>#Python,#kibe,Pope Francis,Super Petrol,#Champ...</td>\n",
       "      <td>erlng_haaland</td>\n",
       "      <td>0</td>\n",
       "      <td>0</td>\n",
       "    </tr>\n",
       "    <tr>\n",
       "      <th>3</th>\n",
       "      <td>2023-03-15 06:27:11+00:00</td>\n",
       "      <td>1635890367538286592</td>\n",
       "      <td>#openai announces new AI model 'GPT-4' that ac...</td>\n",
       "      <td>bamitav</td>\n",
       "      <td>1</td>\n",
       "      <td>0</td>\n",
       "    </tr>\n",
       "    <tr>\n",
       "      <th>4</th>\n",
       "      <td>2023-03-15 06:27:04+00:00</td>\n",
       "      <td>1635890337473232897</td>\n",
       "      <td>#Python,#kibe,Pope Francis,Super Petrol,#Champ...</td>\n",
       "      <td>erlng_haaland</td>\n",
       "      <td>0</td>\n",
       "      <td>0</td>\n",
       "    </tr>\n",
       "  </tbody>\n",
       "</table>\n",
       "</div>"
      ],
      "text/plain": [
       "                       date                   id  \\\n",
       "0 2023-03-15 06:27:55+00:00  1635890550430736385   \n",
       "1 2023-03-15 06:27:26+00:00  1635890431325085696   \n",
       "2 2023-03-15 06:27:17+00:00  1635890393467310086   \n",
       "3 2023-03-15 06:27:11+00:00  1635890367538286592   \n",
       "4 2023-03-15 06:27:04+00:00  1635890337473232897   \n",
       "\n",
       "                                             content       username  \\\n",
       "0  #Python,#kibe,Pope Francis,Super Petrol,#Champ...      kimse_vin   \n",
       "1  いつおんチャンネルで新しい動画を公開しました。\\n【Automatic Compositio...     itsuon120n   \n",
       "2  #Python,#kibe,Pope Francis,Super Petrol,#Champ...  erlng_haaland   \n",
       "3  #openai announces new AI model 'GPT-4' that ac...        bamitav   \n",
       "4  #Python,#kibe,Pope Francis,Super Petrol,#Champ...  erlng_haaland   \n",
       "\n",
       "   likeCount  retweetCount  \n",
       "0          0             0  \n",
       "1          0             0  \n",
       "2          0             0  \n",
       "3          1             0  \n",
       "4          0             0  "
      ]
     },
     "execution_count": 12,
     "metadata": {},
     "output_type": "execute_result"
    }
   ],
   "source": [
    "트윗_df  = pd.DataFrame(트윗묶음,columns=[\"date\",\"id\",\"content\",\"username\",\"likeCount\",\"retweetCount\"])\n",
    "트윗_df.head()"
   ]
  },
  {
   "cell_type": "markdown",
   "id": "76dec9fe",
   "metadata": {},
   "source": [
    "### 진행바(Progress Bar) 추가"
   ]
  },
  {
   "cell_type": "code",
   "execution_count": 13,
   "id": "031c0243",
   "metadata": {},
   "outputs": [
    {
     "name": "stdout",
     "output_type": "stream",
     "text": [
      "Collecting tqdm\n",
      "  Downloading tqdm-4.65.0-py3-none-any.whl (77 kB)\n",
      "     ---------------------------------------- 0.0/77.1 kB ? eta -:--:--\n",
      "     ---------------------------------------- 77.1/77.1 kB 4.2 MB/s eta 0:00:00\n",
      "Requirement already satisfied: colorama in c:\\users\\sm-pc\\appdata\\local\\programs\\python\\python39\\lib\\site-packages (from tqdm) (0.4.6)\n",
      "Installing collected packages: tqdm\n",
      "Successfully installed tqdm-4.65.0\n"
     ]
    }
   ],
   "source": [
    "!pip install tqdm"
   ]
  },
  {
   "cell_type": "code",
   "execution_count": 14,
   "id": "e10147a3",
   "metadata": {},
   "outputs": [],
   "source": [
    "from tqdm.notebook import tqdm"
   ]
  },
  {
   "cell_type": "code",
   "execution_count": 15,
   "id": "74c6ed3b",
   "metadata": {},
   "outputs": [
    {
     "data": {
      "application/vnd.jupyter.widget-view+json": {
       "model_id": "4e438cf4efef482cbb7fa0996a188ee5",
       "version_major": 2,
       "version_minor": 0
      },
      "text/plain": [
       "진행률:   0%|          | 0/1000 [00:00<?, ?it/s]"
      ]
     },
     "metadata": {},
     "output_type": "display_data"
    },
    {
     "data": {
      "text/html": [
       "<div>\n",
       "<style scoped>\n",
       "    .dataframe tbody tr th:only-of-type {\n",
       "        vertical-align: middle;\n",
       "    }\n",
       "\n",
       "    .dataframe tbody tr th {\n",
       "        vertical-align: top;\n",
       "    }\n",
       "\n",
       "    .dataframe thead th {\n",
       "        text-align: right;\n",
       "    }\n",
       "</style>\n",
       "<table border=\"1\" class=\"dataframe\">\n",
       "  <thead>\n",
       "    <tr style=\"text-align: right;\">\n",
       "      <th></th>\n",
       "      <th>date</th>\n",
       "      <th>id</th>\n",
       "      <th>content</th>\n",
       "      <th>username</th>\n",
       "      <th>likeCount</th>\n",
       "      <th>retweetCount</th>\n",
       "    </tr>\n",
       "  </thead>\n",
       "  <tbody>\n",
       "    <tr>\n",
       "      <th>0</th>\n",
       "      <td>2023-03-15 06:35:05+00:00</td>\n",
       "      <td>1635892353155190788</td>\n",
       "      <td>Excavation for a home wastewater recycling sys...</td>\n",
       "      <td>immazoct</td>\n",
       "      <td>0</td>\n",
       "      <td>0</td>\n",
       "    </tr>\n",
       "    <tr>\n",
       "      <th>1</th>\n",
       "      <td>2023-03-15 06:35:00+00:00</td>\n",
       "      <td>1635892332342964225</td>\n",
       "      <td>Can businesses build #trustworthy and #accurat...</td>\n",
       "      <td>VeilleCyber3</td>\n",
       "      <td>0</td>\n",
       "      <td>1</td>\n",
       "    </tr>\n",
       "    <tr>\n",
       "      <th>2</th>\n",
       "      <td>2023-03-15 06:33:59+00:00</td>\n",
       "      <td>1635892076221980672</td>\n",
       "      <td>@realpython #python #tweet @savetonotion</td>\n",
       "      <td>mohdatif1987</td>\n",
       "      <td>0</td>\n",
       "      <td>0</td>\n",
       "    </tr>\n",
       "    <tr>\n",
       "      <th>3</th>\n",
       "      <td>2023-03-15 06:33:58+00:00</td>\n",
       "      <td>1635892075609686016</td>\n",
       "      <td>@realpython #python #tweet @savetonotion</td>\n",
       "      <td>mohdatif1987</td>\n",
       "      <td>0</td>\n",
       "      <td>0</td>\n",
       "    </tr>\n",
       "    <tr>\n",
       "      <th>4</th>\n",
       "      <td>2023-03-15 06:33:58+00:00</td>\n",
       "      <td>1635892075018289154</td>\n",
       "      <td>@realpython #python #tweet @savetonotion</td>\n",
       "      <td>mohdatif1987</td>\n",
       "      <td>0</td>\n",
       "      <td>0</td>\n",
       "    </tr>\n",
       "  </tbody>\n",
       "</table>\n",
       "</div>"
      ],
      "text/plain": [
       "                       date                   id  \\\n",
       "0 2023-03-15 06:35:05+00:00  1635892353155190788   \n",
       "1 2023-03-15 06:35:00+00:00  1635892332342964225   \n",
       "2 2023-03-15 06:33:59+00:00  1635892076221980672   \n",
       "3 2023-03-15 06:33:58+00:00  1635892075609686016   \n",
       "4 2023-03-15 06:33:58+00:00  1635892075018289154   \n",
       "\n",
       "                                             content      username  likeCount  \\\n",
       "0  Excavation for a home wastewater recycling sys...      immazoct          0   \n",
       "1  Can businesses build #trustworthy and #accurat...  VeilleCyber3          0   \n",
       "2           @realpython #python #tweet @savetonotion  mohdatif1987          0   \n",
       "3           @realpython #python #tweet @savetonotion  mohdatif1987          0   \n",
       "4           @realpython #python #tweet @savetonotion  mohdatif1987          0   \n",
       "\n",
       "   retweetCount  \n",
       "0             0  \n",
       "1             1  \n",
       "2             0  \n",
       "3             0  \n",
       "4             0  "
      ]
     },
     "execution_count": 15,
     "metadata": {},
     "output_type": "execute_result"
    }
   ],
   "source": [
    "스크레이퍼 = sntwitter.TwitterSearchScraper(\"#python\")\n",
    "트윗묶음 = []\n",
    "n_트윗묶음 = 1_000 # 1_000 == 1,000\n",
    "for i, 트윗 in tqdm(enumerate(스크레이퍼.get_items()),desc=\"진행률\",total=n_트윗묶음):\n",
    "    트윗자료 = [트윗.date, 트윗.id, 트윗.rawContent, 트윗.user.username, 트윗.likeCount, 트윗.retweetCount]\n",
    "    트윗묶음.append(트윗자료)\n",
    "    if i > n_트윗묶음: break\n",
    "\n",
    "\n",
    "트윗_df  = pd.DataFrame(트윗묶음,columns=[\"date\",\"id\",\"content\",\"username\",\"likeCount\",\"retweetCount\"])\n",
    "트윗_df.head()\n",
    "        "
   ]
  },
  {
   "cell_type": "code",
   "execution_count": null,
   "id": "7f292ab8",
   "metadata": {},
   "outputs": [],
   "source": []
  }
 ],
 "metadata": {
  "kernelspec": {
   "display_name": "Python 3 (ipykernel)",
   "language": "python",
   "name": "python3"
  },
  "language_info": {
   "codemirror_mode": {
    "name": "ipython",
    "version": 3
   },
   "file_extension": ".py",
   "mimetype": "text/x-python",
   "name": "python",
   "nbconvert_exporter": "python",
   "pygments_lexer": "ipython3",
   "version": "3.9.13"
  }
 },
 "nbformat": 4,
 "nbformat_minor": 5
}
