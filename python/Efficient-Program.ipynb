{
 "cells": [
  {
   "cell_type": "markdown",
   "metadata": {
    "id": "BFPDqcB75Mg6"
   },
   "source": [
    "## 효율적인 메모리 관리와 프로그램 작성"
   ]
  },
  {
   "cell_type": "markdown",
   "metadata": {
    "id": "AJQnerCq5P88"
   },
   "source": [
    "### 빅데이터 분석에서의 메모리 관리\n",
    "- 문자열보다는 범주형\n",
    "- 범위가 제한적인 정수형\n",
    "- 최소한의 실수형\n",
    "- 이진(binary)인 경우 Boolean(T/F)"
   ]
  },
  {
   "cell_type": "code",
   "execution_count": 1,
   "metadata": {
    "id": "xT67lHki5Hnq"
   },
   "outputs": [],
   "source": [
    "import pandas as pd\n",
    "import numpy as np"
   ]
  },
  {
   "cell_type": "code",
   "execution_count": 2,
   "metadata": {
    "id": "JPSjkCBp5aD0"
   },
   "outputs": [],
   "source": [
    "def 데이터프레임생성(size):\n",
    "    df = pd.DataFrame()\n",
    "    df['나이'] = np.random.choice(100, size)\n",
    "    df['수행평가1'] = np.random.choice(['A', 'B', 'C', 'D', 'F'], size)\n",
    "    df['수행평가2'] = np.random.choice(['상', '중', '하'], size)\n",
    "    df['학점'] = np.random.choice(['[0,3)', '[3,3.5)', '[3.5,4)', '[4,4.3]'], size)\n",
    "    df['합격확률'] = np.random.uniform(0, 1, size)\n",
    "    df['결과'] = np.random.choice(['합격', '불합격'], size)\n",
    "    return df"
   ]
  },
  {
   "cell_type": "code",
   "execution_count": 3,
   "metadata": {},
   "outputs": [],
   "source": [
    "df = 데이터프레임생성(1000000)"
   ]
  },
  {
   "cell_type": "code",
   "execution_count": 5,
   "metadata": {},
   "outputs": [
    {
     "name": "stdout",
     "output_type": "stream",
     "text": [
      "<class 'pandas.core.frame.DataFrame'>\n",
      "RangeIndex: 1000000 entries, 0 to 999999\n",
      "Data columns (total 6 columns):\n",
      " #   Column  Non-Null Count    Dtype  \n",
      "---  ------  --------------    -----  \n",
      " 0   나이      1000000 non-null  int32  \n",
      " 1   수행평가1   1000000 non-null  object \n",
      " 2   수행평가2   1000000 non-null  object \n",
      " 3   학점      1000000 non-null  object \n",
      " 4   합격확률    1000000 non-null  float64\n",
      " 5   결과      1000000 non-null  object \n",
      "dtypes: float64(1), int32(1), object(4)\n",
      "memory usage: 42.0+ MB\n"
     ]
    }
   ],
   "source": [
    "df.info()"
   ]
  },
  {
   "cell_type": "code",
   "execution_count": 6,
   "metadata": {
    "id": "MAWQl5cw6HAa"
   },
   "outputs": [
    {
     "name": "stdout",
     "output_type": "stream",
     "text": [
      "<class 'pandas.core.frame.DataFrame'>\n",
      "RangeIndex: 1000000 entries, 0 to 999999\n",
      "Data columns (total 6 columns):\n",
      " #   Column  Non-Null Count    Dtype  \n",
      "---  ------  --------------    -----  \n",
      " 0   나이      1000000 non-null  int32  \n",
      " 1   수행평가1   1000000 non-null  object \n",
      " 2   수행평가2   1000000 non-null  object \n",
      " 3   학점      1000000 non-null  object \n",
      " 4   합격확률    1000000 non-null  float64\n",
      " 5   결과      1000000 non-null  object \n",
      "dtypes: float64(1), int32(1), object(4)\n",
      "memory usage: 42.0+ MB\n"
     ]
    }
   ],
   "source": [
    "df1 = df.copy()\n",
    "df2 = df.copy()\n",
    "df1.info()"
   ]
  },
  {
   "cell_type": "markdown",
   "metadata": {},
   "source": [
    "### 수행작업\n",
    "- 수행평가1, 학점에 따라 데이터 나누고 그 안에서 나이의 순위\n",
    "- 수행평가1, 학점에 따라 데이터 나누고 그 안에서 합격확률의 순위\n",
    "- 수행평가1, 학점에 따라 데이터 나누고 그 안에서 합격확률의 순위\n",
    "- 수행시간 계산\n",
    "    - %timeit : 반복작업을 하며 해당 프로그램을 수행하는데 걸린 시간의 평균과 표준편차 제고"
   ]
  },
  {
   "cell_type": "code",
   "execution_count": 7,
   "metadata": {
    "id": "NXZvB2Gh6Nz-"
   },
   "outputs": [
    {
     "name": "stdout",
     "output_type": "stream",
     "text": [
      "299 ms ± 7.94 ms per loop (mean ± std. dev. of 7 runs, 1 loop each)\n",
      "381 ms ± 5.65 ms per loop (mean ± std. dev. of 7 runs, 1 loop each)\n",
      "447 ms ± 4.27 ms per loop (mean ± std. dev. of 7 runs, 1 loop each)\n"
     ]
    }
   ],
   "source": [
    "%timeit df1['순위1'] = df1.groupby(['수행평가1', '학점'])['나이'].rank()\n",
    "%timeit df1['순위2'] = df1.groupby(['수행평가1', '학점'])['합격확률'].rank()\n",
    "%timeit df1['순위3'] = df1.groupby(['수행평가1', '학점', '결과'])['합격확률'].rank()"
   ]
  },
  {
   "cell_type": "markdown",
   "metadata": {
    "id": "cRf1Gh_T6Ze-"
   },
   "source": [
    "## string -> 범주형"
   ]
  },
  {
   "cell_type": "code",
   "execution_count": 8,
   "metadata": {
    "id": "9_nxPsTx6bNq"
   },
   "outputs": [
    {
     "name": "stdout",
     "output_type": "stream",
     "text": [
      "<class 'pandas.core.frame.DataFrame'>\n",
      "RangeIndex: 1000000 entries, 0 to 999999\n",
      "Data columns (total 6 columns):\n",
      " #   Column  Non-Null Count    Dtype   \n",
      "---  ------  --------------    -----   \n",
      " 0   나이      1000000 non-null  int32   \n",
      " 1   수행평가1   1000000 non-null  category\n",
      " 2   수행평가2   1000000 non-null  category\n",
      " 3   학점      1000000 non-null  category\n",
      " 4   합격확률    1000000 non-null  float64 \n",
      " 5   결과      1000000 non-null  object  \n",
      "dtypes: category(3), float64(1), int32(1), object(1)\n",
      "memory usage: 21.9+ MB\n"
     ]
    }
   ],
   "source": [
    "df2['수행평가1'] = df2['수행평가1'].astype('category')\n",
    "df2['수행평가2'] = df2['수행평가2'].astype('category')\n",
    "df2['학점'] = df2['학점'].astype('category')\n",
    "df2.info()"
   ]
  },
  {
   "cell_type": "markdown",
   "metadata": {
    "id": "-obr0lYu6uFq"
   },
   "source": [
    "## Downcasting\n",
    "\n",
    "- int8 : -128 ~ 127\n",
    "    - uint8 : 0 ~ 255 (unsigned : 음수 없음)\n",
    "- int16 : -32768 ~ 32767\n",
    "    - uint16 : 0 ~ 65535\n",
    "- int32 : -2147483648 ~ 2147483647\n",
    "    - uint32 : 0 ~ 42..\n",
    "- int64 : -9223372036854775808 ~ 9223372036854775807"
   ]
  },
  {
   "cell_type": "code",
   "execution_count": 9,
   "metadata": {
    "id": "pGHz-2cJ6vet"
   },
   "outputs": [
    {
     "name": "stdout",
     "output_type": "stream",
     "text": [
      "<class 'pandas.core.frame.DataFrame'>\n",
      "RangeIndex: 1000000 entries, 0 to 999999\n",
      "Data columns (total 6 columns):\n",
      " #   Column  Non-Null Count    Dtype   \n",
      "---  ------  --------------    -----   \n",
      " 0   나이      1000000 non-null  int8    \n",
      " 1   수행평가1   1000000 non-null  category\n",
      " 2   수행평가2   1000000 non-null  category\n",
      " 3   학점      1000000 non-null  category\n",
      " 4   합격확률    1000000 non-null  float64 \n",
      " 5   결과      1000000 non-null  object  \n",
      "dtypes: category(3), float64(1), int8(1), object(1)\n",
      "memory usage: 19.1+ MB\n"
     ]
    }
   ],
   "source": [
    "df2['나이'] = df2['나이'].astype('int8')\n",
    "df2.info()"
   ]
  },
  {
   "cell_type": "code",
   "execution_count": 10,
   "metadata": {
    "id": "yM8kjNQG7C23"
   },
   "outputs": [
    {
     "name": "stdout",
     "output_type": "stream",
     "text": [
      "<class 'pandas.core.frame.DataFrame'>\n",
      "RangeIndex: 1000000 entries, 0 to 999999\n",
      "Data columns (total 6 columns):\n",
      " #   Column  Non-Null Count    Dtype   \n",
      "---  ------  --------------    -----   \n",
      " 0   나이      1000000 non-null  int8    \n",
      " 1   수행평가1   1000000 non-null  category\n",
      " 2   수행평가2   1000000 non-null  category\n",
      " 3   학점      1000000 non-null  category\n",
      " 4   합격확률    1000000 non-null  float32 \n",
      " 5   결과      1000000 non-null  object  \n",
      "dtypes: category(3), float32(1), int8(1), object(1)\n",
      "memory usage: 15.3+ MB\n"
     ]
    }
   ],
   "source": [
    "df2['합격확률'] = df2['합격확률'].astype('float32')\n",
    "df2.info()"
   ]
  },
  {
   "cell_type": "code",
   "execution_count": 11,
   "metadata": {
    "id": "6O0ue9up7Ge9"
   },
   "outputs": [
    {
     "name": "stdout",
     "output_type": "stream",
     "text": [
      "<class 'pandas.core.frame.DataFrame'>\n",
      "RangeIndex: 1000000 entries, 0 to 999999\n",
      "Data columns (total 6 columns):\n",
      " #   Column  Non-Null Count    Dtype   \n",
      "---  ------  --------------    -----   \n",
      " 0   나이      1000000 non-null  int8    \n",
      " 1   수행평가1   1000000 non-null  category\n",
      " 2   수행평가2   1000000 non-null  category\n",
      " 3   학점      1000000 non-null  category\n",
      " 4   합격확률    1000000 non-null  float32 \n",
      " 5   결과      1000000 non-null  bool    \n",
      "dtypes: bool(1), category(3), float32(1), int8(1)\n",
      "memory usage: 8.6 MB\n"
     ]
    }
   ],
   "source": [
    "df2['결과'] = df2['결과'].map({'합격':True, '불합격':False})\n",
    "df2.info()"
   ]
  },
  {
   "cell_type": "code",
   "execution_count": 20,
   "metadata": {
    "id": "h2RV85tG7NbO"
   },
   "outputs": [
    {
     "name": "stdout",
     "output_type": "stream",
     "text": [
      "161 ms ± 1.49 ms per loop (mean ± std. dev. of 7 runs, 10 loops each)\n",
      "290 ms ± 2.44 ms per loop (mean ± std. dev. of 7 runs, 1 loop each)\n",
      "310 ms ± 2.86 ms per loop (mean ± std. dev. of 7 runs, 1 loop each)\n"
     ]
    }
   ],
   "source": [
    "%timeit df2['순위1'] = df2.groupby(['수행평가1', '학점'])['나이'].rank()\n",
    "%timeit df2['순위2'] = df2.groupby(['수행평가1', '학점'])['합격확률'].rank()\n",
    "%timeit df2['순위3'] = df2.groupby(['수행평가1', '학점', '결과'])['합격확률'].rank()"
   ]
  },
  {
   "cell_type": "code",
   "execution_count": 21,
   "metadata": {},
   "outputs": [
    {
     "name": "stdout",
     "output_type": "stream",
     "text": [
      "<class 'pandas.core.frame.DataFrame'>\n",
      "RangeIndex: 1000000 entries, 0 to 999999\n",
      "Data columns (total 9 columns):\n",
      " #   Column  Non-Null Count    Dtype   \n",
      "---  ------  --------------    -----   \n",
      " 0   나이      1000000 non-null  int8    \n",
      " 1   수행평가1   1000000 non-null  category\n",
      " 2   수행평가2   1000000 non-null  category\n",
      " 3   학점      1000000 non-null  category\n",
      " 4   합격확률    1000000 non-null  float32 \n",
      " 5   결과      1000000 non-null  bool    \n",
      " 6   순위1     1000000 non-null  float64 \n",
      " 7   순위2     1000000 non-null  float64 \n",
      " 8   순위3     1000000 non-null  float64 \n",
      "dtypes: bool(1), category(3), float32(1), float64(3), int8(1)\n",
      "memory usage: 31.5 MB\n"
     ]
    }
   ],
   "source": [
    "df2.info()"
   ]
  },
  {
   "cell_type": "code",
   "execution_count": 22,
   "metadata": {
    "id": "JOD_bn-e7Va-"
   },
   "outputs": [],
   "source": [
    "# 파일 저장\n",
    "변수 = ['나이', '수행평가1', '수행평가2', '학점', '합격확률', '결과']\n",
    "df2 = df2[변수]\n",
    "df1.to_csv('BSA03_df1.csv', index = False)\n",
    "df2.to_csv('BSA03_df2.csv', index = False)\n",
    "df1csv = pd.read_csv('BSA03_df1.csv')\n",
    "df2csv = pd.read_csv('BSA03_df2.csv')"
   ]
  },
  {
   "cell_type": "code",
   "execution_count": 23,
   "metadata": {
    "id": "MhvhXZRO7qUu"
   },
   "outputs": [
    {
     "name": "stdout",
     "output_type": "stream",
     "text": [
      "<class 'pandas.core.frame.DataFrame'>\n",
      "RangeIndex: 1000000 entries, 0 to 999999\n",
      "Data columns (total 9 columns):\n",
      " #   Column  Non-Null Count    Dtype  \n",
      "---  ------  --------------    -----  \n",
      " 0   나이      1000000 non-null  int64  \n",
      " 1   수행평가1   1000000 non-null  object \n",
      " 2   수행평가2   1000000 non-null  object \n",
      " 3   학점      1000000 non-null  object \n",
      " 4   합격확률    1000000 non-null  float64\n",
      " 5   결과      1000000 non-null  object \n",
      " 6   순위1     1000000 non-null  float64\n",
      " 7   순위2     1000000 non-null  float64\n",
      " 8   순위3     1000000 non-null  float64\n",
      "dtypes: float64(4), int64(1), object(4)\n",
      "memory usage: 68.7+ MB\n"
     ]
    }
   ],
   "source": [
    "df1csv.info()"
   ]
  },
  {
   "cell_type": "code",
   "execution_count": 24,
   "metadata": {
    "id": "mVQ5OENK7re7"
   },
   "outputs": [
    {
     "name": "stdout",
     "output_type": "stream",
     "text": [
      "<class 'pandas.core.frame.DataFrame'>\n",
      "RangeIndex: 1000000 entries, 0 to 999999\n",
      "Data columns (total 6 columns):\n",
      " #   Column  Non-Null Count    Dtype  \n",
      "---  ------  --------------    -----  \n",
      " 0   나이      1000000 non-null  int64  \n",
      " 1   수행평가1   1000000 non-null  object \n",
      " 2   수행평가2   1000000 non-null  object \n",
      " 3   학점      1000000 non-null  object \n",
      " 4   합격확률    1000000 non-null  float64\n",
      " 5   결과      1000000 non-null  bool   \n",
      "dtypes: bool(1), float64(1), int64(1), object(3)\n",
      "memory usage: 39.1+ MB\n"
     ]
    }
   ],
   "source": [
    "df2csv.info()"
   ]
  },
  {
   "cell_type": "code",
   "execution_count": 25,
   "metadata": {},
   "outputs": [
    {
     "data": {
      "text/html": [
       "<div>\n",
       "<style scoped>\n",
       "    .dataframe tbody tr th:only-of-type {\n",
       "        vertical-align: middle;\n",
       "    }\n",
       "\n",
       "    .dataframe tbody tr th {\n",
       "        vertical-align: top;\n",
       "    }\n",
       "\n",
       "    .dataframe thead th {\n",
       "        text-align: right;\n",
       "    }\n",
       "</style>\n",
       "<table border=\"1\" class=\"dataframe\">\n",
       "  <thead>\n",
       "    <tr style=\"text-align: right;\">\n",
       "      <th></th>\n",
       "      <th>나이</th>\n",
       "      <th>수행평가1</th>\n",
       "      <th>수행평가2</th>\n",
       "      <th>학점</th>\n",
       "      <th>합격확률</th>\n",
       "      <th>결과</th>\n",
       "    </tr>\n",
       "  </thead>\n",
       "  <tbody>\n",
       "    <tr>\n",
       "      <th>0</th>\n",
       "      <td>32</td>\n",
       "      <td>B</td>\n",
       "      <td>상</td>\n",
       "      <td>[3,3.5)</td>\n",
       "      <td>0.843094</td>\n",
       "      <td>False</td>\n",
       "    </tr>\n",
       "    <tr>\n",
       "      <th>1</th>\n",
       "      <td>13</td>\n",
       "      <td>C</td>\n",
       "      <td>상</td>\n",
       "      <td>[4,4.3]</td>\n",
       "      <td>0.048789</td>\n",
       "      <td>False</td>\n",
       "    </tr>\n",
       "    <tr>\n",
       "      <th>2</th>\n",
       "      <td>30</td>\n",
       "      <td>A</td>\n",
       "      <td>중</td>\n",
       "      <td>[3,3.5)</td>\n",
       "      <td>0.116601</td>\n",
       "      <td>True</td>\n",
       "    </tr>\n",
       "    <tr>\n",
       "      <th>3</th>\n",
       "      <td>64</td>\n",
       "      <td>A</td>\n",
       "      <td>상</td>\n",
       "      <td>[3,3.5)</td>\n",
       "      <td>0.944771</td>\n",
       "      <td>True</td>\n",
       "    </tr>\n",
       "    <tr>\n",
       "      <th>4</th>\n",
       "      <td>60</td>\n",
       "      <td>D</td>\n",
       "      <td>상</td>\n",
       "      <td>[3.5,4)</td>\n",
       "      <td>0.336185</td>\n",
       "      <td>True</td>\n",
       "    </tr>\n",
       "  </tbody>\n",
       "</table>\n",
       "</div>"
      ],
      "text/plain": [
       "   나이 수행평가1 수행평가2       학점      합격확률     결과\n",
       "0  32     B     상  [3,3.5)  0.843094  False\n",
       "1  13     C     상  [4,4.3]  0.048789  False\n",
       "2  30     A     중  [3,3.5)  0.116601   True\n",
       "3  64     A     상  [3,3.5)  0.944771   True\n",
       "4  60     D     상  [3.5,4)  0.336185   True"
      ]
     },
     "execution_count": 25,
     "metadata": {},
     "output_type": "execute_result"
    }
   ],
   "source": [
    "df2csv.head()"
   ]
  },
  {
   "cell_type": "code",
   "execution_count": 26,
   "metadata": {},
   "outputs": [
    {
     "name": "stdout",
     "output_type": "stream",
     "text": [
      "Collecting pyarrow\n",
      "  Downloading pyarrow-11.0.0-cp39-cp39-win_amd64.whl (20.6 MB)\n",
      "     ---------------------------------------- 0.0/20.6 MB ? eta -:--:--\n",
      "      --------------------------------------- 0.3/20.6 MB 9.6 MB/s eta 0:00:03\n",
      "     - -------------------------------------- 0.7/20.6 MB 7.5 MB/s eta 0:00:03\n",
      "     -- ------------------------------------- 1.2/20.6 MB 9.2 MB/s eta 0:00:03\n",
      "     --- ------------------------------------ 1.6/20.6 MB 8.5 MB/s eta 0:00:03\n",
      "     --- ------------------------------------ 2.0/20.6 MB 9.1 MB/s eta 0:00:03\n",
      "     ---- ----------------------------------- 2.5/20.6 MB 9.4 MB/s eta 0:00:02\n",
      "     ----- ---------------------------------- 2.9/20.6 MB 9.2 MB/s eta 0:00:02\n",
      "     ------ --------------------------------- 3.3/20.6 MB 9.3 MB/s eta 0:00:02\n",
      "     ------- -------------------------------- 3.8/20.6 MB 9.3 MB/s eta 0:00:02\n",
      "     -------- ------------------------------- 4.2/20.6 MB 9.4 MB/s eta 0:00:02\n",
      "     --------- ------------------------------ 4.7/20.6 MB 9.4 MB/s eta 0:00:02\n",
      "     ---------- ----------------------------- 5.2/20.6 MB 9.1 MB/s eta 0:00:02\n",
      "     ---------- ----------------------------- 5.6/20.6 MB 9.4 MB/s eta 0:00:02\n",
      "     ----------- ---------------------------- 6.1/20.6 MB 9.4 MB/s eta 0:00:02\n",
      "     ------------ --------------------------- 6.5/20.6 MB 9.5 MB/s eta 0:00:02\n",
      "     ------------- -------------------------- 7.0/20.6 MB 9.5 MB/s eta 0:00:02\n",
      "     -------------- ------------------------- 7.4/20.6 MB 9.5 MB/s eta 0:00:02\n",
      "     --------------- ------------------------ 7.9/20.6 MB 9.5 MB/s eta 0:00:02\n",
      "     ---------------- ----------------------- 8.3/20.6 MB 9.5 MB/s eta 0:00:02\n",
      "     ----------------- ---------------------- 8.8/20.6 MB 9.4 MB/s eta 0:00:02\n",
      "     ----------------- ---------------------- 9.2/20.6 MB 9.5 MB/s eta 0:00:02\n",
      "     ------------------ --------------------- 9.7/20.6 MB 9.5 MB/s eta 0:00:02\n",
      "     ------------------- -------------------- 10.1/20.6 MB 9.5 MB/s eta 0:00:02\n",
      "     -------------------- ------------------- 10.6/20.6 MB 9.6 MB/s eta 0:00:02\n",
      "     --------------------- ------------------ 11.0/20.6 MB 9.6 MB/s eta 0:00:01\n",
      "     ---------------------- ----------------- 11.5/20.6 MB 9.6 MB/s eta 0:00:01\n",
      "     ----------------------- ---------------- 11.9/20.6 MB 9.5 MB/s eta 0:00:01\n",
      "     ------------------------ --------------- 12.4/20.6 MB 9.6 MB/s eta 0:00:01\n",
      "     ------------------------ --------------- 12.8/20.6 MB 9.6 MB/s eta 0:00:01\n",
      "     ------------------------- -------------- 13.3/20.6 MB 9.6 MB/s eta 0:00:01\n",
      "     -------------------------- ------------- 13.7/20.6 MB 9.8 MB/s eta 0:00:01\n",
      "     --------------------------- ------------ 14.2/20.6 MB 9.6 MB/s eta 0:00:01\n",
      "     ---------------------------- ----------- 14.6/20.6 MB 9.8 MB/s eta 0:00:01\n",
      "     ----------------------------- ---------- 15.1/20.6 MB 9.8 MB/s eta 0:00:01\n",
      "     ------------------------------ --------- 15.5/20.6 MB 9.8 MB/s eta 0:00:01\n",
      "     ------------------------------- -------- 16.0/20.6 MB 9.8 MB/s eta 0:00:01\n",
      "     ------------------------------- -------- 16.5/20.6 MB 9.6 MB/s eta 0:00:01\n",
      "     -------------------------------- ------- 16.9/20.6 MB 9.8 MB/s eta 0:00:01\n",
      "     --------------------------------- ------ 17.3/20.6 MB 9.6 MB/s eta 0:00:01\n",
      "     ---------------------------------- ----- 17.8/20.6 MB 9.5 MB/s eta 0:00:01\n",
      "     ----------------------------------- ---- 18.3/20.6 MB 9.8 MB/s eta 0:00:01\n",
      "     ------------------------------------ --- 18.7/20.6 MB 9.6 MB/s eta 0:00:01\n",
      "     ------------------------------------- -- 19.2/20.6 MB 9.8 MB/s eta 0:00:01\n",
      "     -------------------------------------- - 19.6/20.6 MB 9.8 MB/s eta 0:00:01\n",
      "     -------------------------------------- - 20.1/20.6 MB 9.8 MB/s eta 0:00:01\n",
      "     ---------------------------------------  20.5/20.6 MB 9.8 MB/s eta 0:00:01\n",
      "     ---------------------------------------  20.6/20.6 MB 9.6 MB/s eta 0:00:01\n",
      "     ---------------------------------------  20.6/20.6 MB 9.6 MB/s eta 0:00:01\n",
      "     ---------------------------------------- 20.6/20.6 MB 8.8 MB/s eta 0:00:00\n",
      "Requirement already satisfied: numpy>=1.16.6 in c:\\users\\sm-pc\\appdata\\local\\programs\\python\\python39\\lib\\site-packages (from pyarrow) (1.24.2)\n",
      "Installing collected packages: pyarrow\n",
      "Successfully installed pyarrow-11.0.0\n"
     ]
    }
   ],
   "source": [
    "!pip install pyarrow"
   ]
  },
  {
   "cell_type": "code",
   "execution_count": 27,
   "metadata": {
    "id": "pLbzQX5o7tar"
   },
   "outputs": [
    {
     "name": "stdout",
     "output_type": "stream",
     "text": [
      "<class 'pandas.core.frame.DataFrame'>\n",
      "RangeIndex: 1000000 entries, 0 to 999999\n",
      "Data columns (total 6 columns):\n",
      " #   Column  Non-Null Count    Dtype   \n",
      "---  ------  --------------    -----   \n",
      " 0   나이      1000000 non-null  int8    \n",
      " 1   수행평가1   1000000 non-null  category\n",
      " 2   수행평가2   1000000 non-null  category\n",
      " 3   학점      1000000 non-null  category\n",
      " 4   합격확률    1000000 non-null  float32 \n",
      " 5   결과      1000000 non-null  bool    \n",
      "dtypes: bool(1), category(3), float32(1), int8(1)\n",
      "memory usage: 8.6 MB\n"
     ]
    }
   ],
   "source": [
    "df2.to_parquet('BSA03_df2.parquet')\n",
    "df2pqt = pd.read_parquet('BSA03_df2.parquet')\n",
    "df2pqt.info()"
   ]
  },
  {
   "cell_type": "markdown",
   "metadata": {
    "id": "-coohWRa7-j3"
   },
   "source": [
    "## 효율적인 프로그램"
   ]
  },
  {
   "cell_type": "markdown",
   "metadata": {
    "id": "WsfH6kB48Ad4"
   },
   "source": [
    "### 수행작업\n",
    "\"평가\"라는 새로운 변수에   \n",
    "- \"나이\"가 65세 미만이거나 \"합격확률\"이 0.6 이상이고 \"학점\"이 [4,4.3]이면 \"수행평가1\"을\n",
    "- 위 조건이 아니면 \"수행평가2\"를 대입"
   ]
  },
  {
   "cell_type": "code",
   "execution_count": 28,
   "metadata": {
    "id": "BqtmUR3R7_7o"
   },
   "outputs": [],
   "source": [
    "def 변수추가(행자료):\n",
    "    if 행자료['나이'] < 65:\n",
    "        return 행자료['수행평가1']\n",
    "    if (행자료['합격확률'] >= 0.6) & (행자료['학점'] == '[4,4.3]'):\n",
    "        return 행자료['수행평가1']\n",
    "    return(행자료['수행평가2'])"
   ]
  },
  {
   "cell_type": "markdown",
   "metadata": {
    "id": "htIvLw-T8dbT"
   },
   "source": [
    "## Loop를 이용한 프로그램"
   ]
  },
  {
   "cell_type": "code",
   "execution_count": 29,
   "metadata": {
    "id": "_h4TqgnR8fDy"
   },
   "outputs": [],
   "source": [
    "df = 데이터프레임생성(100_000)\n",
    "df1 = df.copy()\n",
    "df2 = df.copy()\n",
    "df3 = df.copy()"
   ]
  },
  {
   "cell_type": "code",
   "execution_count": 30,
   "metadata": {
    "id": "mD-_BhCQ8lCS"
   },
   "outputs": [
    {
     "name": "stdout",
     "output_type": "stream",
     "text": [
      "42.8 s ± 440 ms per loop (mean ± std. dev. of 7 runs, 1 loop each)\n"
     ]
    }
   ],
   "source": [
    "%%timeit\n",
    "for index, row in df1.iterrows():\n",
    "    df1.loc[index, '평가'] = 변수추가(row)"
   ]
  },
  {
   "cell_type": "markdown",
   "metadata": {
    "id": "Bf6y--Gh8rnH"
   },
   "source": [
    "## Apply를 이용한 프로그램"
   ]
  },
  {
   "cell_type": "code",
   "execution_count": 31,
   "metadata": {
    "id": "Z9qijluv8tGn"
   },
   "outputs": [
    {
     "name": "stdout",
     "output_type": "stream",
     "text": [
      "816 ms ± 6.97 ms per loop (mean ± std. dev. of 7 runs, 1 loop each)\n"
     ]
    }
   ],
   "source": [
    "%%timeit\n",
    "df2['평가'] = df2.apply(변수추가, axis = 1)"
   ]
  },
  {
   "cell_type": "markdown",
   "metadata": {
    "id": "4jgOyWpx8z0-"
   },
   "source": [
    "## Vectorized를 이용한 프로그램"
   ]
  },
  {
   "cell_type": "code",
   "execution_count": 37,
   "metadata": {
    "id": "JmFnFsz7814C"
   },
   "outputs": [
    {
     "data": {
      "text/plain": [
       "0         True\n",
       "1         True\n",
       "2         True\n",
       "3         True\n",
       "4         True\n",
       "         ...  \n",
       "99995     True\n",
       "99996     True\n",
       "99997    False\n",
       "99998     True\n",
       "99999     True\n",
       "Length: 100000, dtype: bool"
      ]
     },
     "execution_count": 37,
     "metadata": {},
     "output_type": "execute_result"
    }
   ],
   "source": [
    "(df3['나이'] < 65) | ((df3['합격확률'] >= 0.6) & (df3['학점'] == '[4,4.3]'))"
   ]
  },
  {
   "cell_type": "code",
   "execution_count": 38,
   "metadata": {
    "id": "mt4HFJ-t8_Ed"
   },
   "outputs": [
    {
     "name": "stdout",
     "output_type": "stream",
     "text": [
      "12.2 ms ± 95.3 µs per loop (mean ± std. dev. of 7 runs, 100 loops each)\n"
     ]
    }
   ],
   "source": [
    "%%timeit\n",
    "df3['평가'] = df3['수행평가2']\n",
    "조건 = (df3['나이'] < 65) | ((df3['합격확률'] >= 0.6) & (df3['학점'] == '[4,4.3]'))\n",
    "df3.loc[조건, '평가'] = df['수행평가1']"
   ]
  }
 ],
 "metadata": {
  "colab": {
   "authorship_tag": "ABX9TyPCh1g35XvtbLM5NDMIxXy9",
   "provenance": []
  },
  "kernelspec": {
   "display_name": "Python 3 (ipykernel)",
   "language": "python",
   "name": "python3"
  },
  "language_info": {
   "codemirror_mode": {
    "name": "ipython",
    "version": 3
   },
   "file_extension": ".py",
   "mimetype": "text/x-python",
   "name": "python",
   "nbconvert_exporter": "python",
   "pygments_lexer": "ipython3",
   "version": "3.11.2"
  }
 },
 "nbformat": 4,
 "nbformat_minor": 1
}
