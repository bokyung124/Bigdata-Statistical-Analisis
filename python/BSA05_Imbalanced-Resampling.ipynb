{
 "cells": [
  {
   "cell_type": "markdown",
   "id": "484548b7",
   "metadata": {},
   "source": [
    "## 불균형자료 (Imbalanced Data)\n",
    "어떤 클래스(minority class)에 속한 개체의 수가 다른 클래스(majority class)에 속한 개체의 수보다 현저히 적은 데이터   \n",
    "오차를 최소화하는 전통적 기법을 적용하면 majority class로 분류하는 경향이 있음\n",
    "\n",
    "<br>\n",
    "\n",
    "### 불균형자료를 처리하는 방법\n",
    "- Resampling techniques: over-sampling, under-sampling\n",
    "- Cost-sensitive learning\n",
    "- Ensemble methods: bagging or boosting\n",
    "- Thresholding\n",
    "- Generative adversarial networks (GANs)\n",
    "\n",
    "<br>\n",
    "\n",
    "### 재표집 기법에 의한 불균형자료 처리: imblearn\n",
    "https://imbalanced-learn.org/stable/introduction.html"
   ]
  },
  {
   "cell_type": "code",
   "execution_count": 1,
   "id": "e4b6a72d",
   "metadata": {
    "scrolled": true
   },
   "outputs": [
    {
     "name": "stdout",
     "output_type": "stream",
     "text": [
      "Collecting imblearn\n",
      "  Downloading imblearn-0.0-py2.py3-none-any.whl (1.9 kB)\n",
      "Collecting imbalanced-learn\n",
      "  Downloading imbalanced_learn-0.10.1-py3-none-any.whl (226 kB)\n",
      "     ---------------------------------------- 0.0/226.0 kB ? eta -:--:--\n",
      "     -------------------------------------- 226.0/226.0 kB 6.7 MB/s eta 0:00:00\n",
      "Requirement already satisfied: threadpoolctl>=2.0.0 in c:\\users\\sm-pc\\appdata\\local\\programs\\python\\python39\\lib\\site-packages (from imbalanced-learn->imblearn) (3.1.0)\n",
      "Requirement already satisfied: numpy>=1.17.3 in c:\\users\\sm-pc\\appdata\\local\\programs\\python\\python39\\lib\\site-packages (from imbalanced-learn->imblearn) (1.23.5)\n",
      "Requirement already satisfied: scipy>=1.3.2 in c:\\users\\sm-pc\\appdata\\local\\programs\\python\\python39\\lib\\site-packages (from imbalanced-learn->imblearn) (1.10.1)\n",
      "Requirement already satisfied: joblib>=1.1.1 in c:\\users\\sm-pc\\appdata\\local\\programs\\python\\python39\\lib\\site-packages (from imbalanced-learn->imblearn) (1.2.0)\n",
      "Requirement already satisfied: scikit-learn>=1.0.2 in c:\\users\\sm-pc\\appdata\\local\\programs\\python\\python39\\lib\\site-packages (from imbalanced-learn->imblearn) (1.2.2)\n",
      "Installing collected packages: imbalanced-learn, imblearn\n",
      "Successfully installed imbalanced-learn-0.10.1 imblearn-0.0\n"
     ]
    },
    {
     "name": "stderr",
     "output_type": "stream",
     "text": [
      "\n",
      "[notice] A new release of pip is available: 23.0.1 -> 23.1\n",
      "[notice] To update, run: python.exe -m pip install --upgrade pip\n"
     ]
    }
   ],
   "source": [
    "!pip install imblearn"
   ]
  },
  {
   "cell_type": "markdown",
   "id": "324fba39",
   "metadata": {},
   "source": [
    "## Over-sampling\n",
    "\n",
    "```python\n",
    "from imblearn.over_sampling import XXX\n",
    "XX, yy = XXX(options).fit_resample(X, y)\n",
    "```\n",
    "\n",
    "<br>\n",
    "\n",
    "- X: 2차원 데이터\n",
    "    - 2-D list\n",
    "    - 2-D numpy.ndarray\n",
    "    - pandas.DataFrame\n",
    "- y: 1차원 데이터\n",
    "    - 1-D numpy.ndarray\n",
    "    - pandas.Series"
   ]
  },
  {
   "cell_type": "markdown",
   "id": "c28267d0",
   "metadata": {},
   "source": [
    "## Combination of over-and under-sampling\n",
    "```python\n",
    "from imblearn.combine import XXX\n",
    "XX, yy = XXX(options).fit_resample(X, y)\n",
    "```\n",
    "\n",
    "<br>\n",
    "\n",
    "### 방법\n",
    "- SMOTEENN\n",
    "- SMOTETomek"
   ]
  },
  {
   "cell_type": "markdown",
   "id": "1904f8a7",
   "metadata": {},
   "source": [
    "## Credit Card Fraud Detection\n",
    "https://www.kaggle.com/datasets/mlg-ulb/creditcardfraud\n",
    "\n",
    "- transactions made by credit cards in September 2013 by European cardholders.\n",
    "- 492 frauds out of 284,807 transactions\n",
    "- features V1, V2, ..., V28: the result of a PCA transformation\n",
    "    - cannot provide the original features and more background information due to confidentiality issues\n",
    "- Time, Amount: original data\n",
    "    - Time: the seconds elapsed between each transactionand the first transaction in the dataset\n",
    "    - Amount: the transaction Amount, this feature can be used for example-dependant cost-sensitive learning\n",
    "- Class: the response variable and it takes value 1 in case of fraud and 0 otherwise"
   ]
  },
  {
   "cell_type": "code",
   "execution_count": 23,
   "id": "28b4bbcc",
   "metadata": {},
   "outputs": [
    {
     "name": "stdout",
     "output_type": "stream",
     "text": [
      "<class 'pandas.core.frame.DataFrame'>\n",
      "RangeIndex: 284807 entries, 0 to 284806\n",
      "Data columns (total 31 columns):\n",
      " #   Column  Non-Null Count   Dtype  \n",
      "---  ------  --------------   -----  \n",
      " 0   Time    284807 non-null  float64\n",
      " 1   V1      284807 non-null  float64\n",
      " 2   V2      284807 non-null  float64\n",
      " 3   V3      284807 non-null  float64\n",
      " 4   V4      284807 non-null  float64\n",
      " 5   V5      284807 non-null  float64\n",
      " 6   V6      284807 non-null  float64\n",
      " 7   V7      284807 non-null  float64\n",
      " 8   V8      284807 non-null  float64\n",
      " 9   V9      284807 non-null  float64\n",
      " 10  V10     284807 non-null  float64\n",
      " 11  V11     284807 non-null  float64\n",
      " 12  V12     284807 non-null  float64\n",
      " 13  V13     284807 non-null  float64\n",
      " 14  V14     284807 non-null  float64\n",
      " 15  V15     284807 non-null  float64\n",
      " 16  V16     284807 non-null  float64\n",
      " 17  V17     284807 non-null  float64\n",
      " 18  V18     284807 non-null  float64\n",
      " 19  V19     284807 non-null  float64\n",
      " 20  V20     284807 non-null  float64\n",
      " 21  V21     284807 non-null  float64\n",
      " 22  V22     284807 non-null  float64\n",
      " 23  V23     284807 non-null  float64\n",
      " 24  V24     284807 non-null  float64\n",
      " 25  V25     284807 non-null  float64\n",
      " 26  V26     284807 non-null  float64\n",
      " 27  V27     284807 non-null  float64\n",
      " 28  V28     284807 non-null  float64\n",
      " 29  Amount  284807 non-null  float64\n",
      " 30  Class   284807 non-null  int64  \n",
      "dtypes: float64(30), int64(1)\n",
      "memory usage: 67.4 MB\n"
     ]
    }
   ],
   "source": [
    "import pandas as pd\n",
    "\n",
    "카드자료 = pd.read_csv('creditcard.csv')\n",
    "카드자료.info()"
   ]
  },
  {
   "cell_type": "code",
   "execution_count": 24,
   "id": "619b60e7",
   "metadata": {},
   "outputs": [
    {
     "name": "stdout",
     "output_type": "stream",
     "text": [
      "<class 'pandas.core.frame.DataFrame'>\n",
      "RangeIndex: 284807 entries, 0 to 284806\n",
      "Data columns (total 31 columns):\n",
      " #   Column  Non-Null Count   Dtype   \n",
      "---  ------  --------------   -----   \n",
      " 0   Time    284807 non-null  float32 \n",
      " 1   V1      284807 non-null  float32 \n",
      " 2   V2      284807 non-null  float32 \n",
      " 3   V3      284807 non-null  float32 \n",
      " 4   V4      284807 non-null  float32 \n",
      " 5   V5      284807 non-null  float32 \n",
      " 6   V6      284807 non-null  float32 \n",
      " 7   V7      284807 non-null  float32 \n",
      " 8   V8      284807 non-null  float32 \n",
      " 9   V9      284807 non-null  float32 \n",
      " 10  V10     284807 non-null  float32 \n",
      " 11  V11     284807 non-null  float32 \n",
      " 12  V12     284807 non-null  float32 \n",
      " 13  V13     284807 non-null  float32 \n",
      " 14  V14     284807 non-null  float32 \n",
      " 15  V15     284807 non-null  float32 \n",
      " 16  V16     284807 non-null  float32 \n",
      " 17  V17     284807 non-null  float32 \n",
      " 18  V18     284807 non-null  float32 \n",
      " 19  V19     284807 non-null  float32 \n",
      " 20  V20     284807 non-null  float32 \n",
      " 21  V21     284807 non-null  float32 \n",
      " 22  V22     284807 non-null  float32 \n",
      " 23  V23     284807 non-null  float32 \n",
      " 24  V24     284807 non-null  float32 \n",
      " 25  V25     284807 non-null  float32 \n",
      " 26  V26     284807 non-null  float32 \n",
      " 27  V27     284807 non-null  float32 \n",
      " 28  V28     284807 non-null  float32 \n",
      " 29  Amount  284807 non-null  float32 \n",
      " 30  Class   284807 non-null  category\n",
      "dtypes: category(1), float32(30)\n",
      "memory usage: 32.9 MB\n"
     ]
    }
   ],
   "source": [
    "카드자료['Class'] = 카드자료['Class'].astype('category')\n",
    "for 변수명 in list(카드자료.columns[:-1]):\n",
    "    카드자료[변수명] = 카드자료[변수명].astype('float32')\n",
    "카드자료.info()"
   ]
  },
  {
   "cell_type": "code",
   "execution_count": 25,
   "id": "adefcf26",
   "metadata": {},
   "outputs": [],
   "source": [
    "카드자료.to_parquet('creditcard.parquet')"
   ]
  },
  {
   "cell_type": "code",
   "execution_count": 26,
   "id": "97adf292",
   "metadata": {},
   "outputs": [
    {
     "data": {
      "text/plain": [
       "0    284315\n",
       "1       492\n",
       "Name: Class, dtype: int64"
      ]
     },
     "execution_count": 26,
     "metadata": {},
     "output_type": "execute_result"
    }
   ],
   "source": [
    "# Classa별 빈도\n",
    "카드자료['Class'].value_counts()"
   ]
  },
  {
   "cell_type": "code",
   "execution_count": 27,
   "id": "c609253a",
   "metadata": {},
   "outputs": [
    {
     "name": "stdout",
     "output_type": "stream",
     "text": [
      "<class 'pandas.core.frame.DataFrame'>\n",
      "RangeIndex: 284807 entries, 0 to 284806\n",
      "Data columns (total 30 columns):\n",
      " #   Column  Non-Null Count   Dtype  \n",
      "---  ------  --------------   -----  \n",
      " 0   Time    284807 non-null  float32\n",
      " 1   V1      284807 non-null  float32\n",
      " 2   V2      284807 non-null  float32\n",
      " 3   V3      284807 non-null  float32\n",
      " 4   V4      284807 non-null  float32\n",
      " 5   V5      284807 non-null  float32\n",
      " 6   V6      284807 non-null  float32\n",
      " 7   V7      284807 non-null  float32\n",
      " 8   V8      284807 non-null  float32\n",
      " 9   V9      284807 non-null  float32\n",
      " 10  V10     284807 non-null  float32\n",
      " 11  V11     284807 non-null  float32\n",
      " 12  V12     284807 non-null  float32\n",
      " 13  V13     284807 non-null  float32\n",
      " 14  V14     284807 non-null  float32\n",
      " 15  V15     284807 non-null  float32\n",
      " 16  V16     284807 non-null  float32\n",
      " 17  V17     284807 non-null  float32\n",
      " 18  V18     284807 non-null  float32\n",
      " 19  V19     284807 non-null  float32\n",
      " 20  V20     284807 non-null  float32\n",
      " 21  V21     284807 non-null  float32\n",
      " 22  V22     284807 non-null  float32\n",
      " 23  V23     284807 non-null  float32\n",
      " 24  V24     284807 non-null  float32\n",
      " 25  V25     284807 non-null  float32\n",
      " 26  V26     284807 non-null  float32\n",
      " 27  V27     284807 non-null  float32\n",
      " 28  V28     284807 non-null  float32\n",
      " 29  Amount  284807 non-null  float32\n",
      "dtypes: float32(30)\n",
      "memory usage: 32.6 MB\n"
     ]
    }
   ],
   "source": [
    "X = 카드자료.iloc[:, 0:-1]\n",
    "X.info()"
   ]
  },
  {
   "cell_type": "code",
   "execution_count": 28,
   "id": "8330c992",
   "metadata": {},
   "outputs": [
    {
     "name": "stdout",
     "output_type": "stream",
     "text": [
      "<class 'pandas.core.series.Series'>\n",
      "RangeIndex: 284807 entries, 0 to 284806\n",
      "Series name: Class\n",
      "Non-Null Count   Dtype   \n",
      "--------------   -----   \n",
      "284807 non-null  category\n",
      "dtypes: category(1)\n",
      "memory usage: 278.4 KB\n"
     ]
    }
   ],
   "source": [
    "y = 카드자료['Class']\n",
    "y.info()"
   ]
  },
  {
   "cell_type": "code",
   "execution_count": 29,
   "id": "23628390",
   "metadata": {},
   "outputs": [],
   "source": [
    "from imblearn.over_sampling import SMOTE\n",
    "X_o, y_o = SMOTE(random_state=316, sampling_strategy=0.5).fit_resample(X, y)"
   ]
  },
  {
   "cell_type": "code",
   "execution_count": 30,
   "id": "b27cb994",
   "metadata": {},
   "outputs": [
    {
     "data": {
      "text/plain": [
       "0    284315\n",
       "1    142157\n",
       "Name: Class, dtype: int64"
      ]
     },
     "execution_count": 30,
     "metadata": {},
     "output_type": "execute_result"
    }
   ],
   "source": [
    "y_o.value_counts()"
   ]
  },
  {
   "cell_type": "code",
   "execution_count": 32,
   "id": "25e76b60",
   "metadata": {},
   "outputs": [],
   "source": [
    "# Series+Series, DataFrame+Series, DataFrame+DataFrame\n",
    "카드오버 = pd.concat([X_o, y_o], axis=1)"
   ]
  },
  {
   "cell_type": "code",
   "execution_count": 33,
   "id": "24d60f69",
   "metadata": {},
   "outputs": [
    {
     "data": {
      "text/plain": [
       "0    284315\n",
       "1    142157\n",
       "Name: Class, dtype: int64"
      ]
     },
     "execution_count": 33,
     "metadata": {},
     "output_type": "execute_result"
    }
   ],
   "source": [
    "카드오버['Class'].value_counts()"
   ]
  },
  {
   "cell_type": "code",
   "execution_count": 34,
   "id": "13510d2d",
   "metadata": {},
   "outputs": [],
   "source": [
    "from imblearn.under_sampling import NearMiss\n",
    "X_u, y_u = NearMiss(version=1).fit_resample(X, y)"
   ]
  },
  {
   "cell_type": "code",
   "execution_count": 35,
   "id": "7d73de20",
   "metadata": {},
   "outputs": [
    {
     "data": {
      "text/plain": [
       "0    492\n",
       "1    492\n",
       "Name: Class, dtype: int64"
      ]
     },
     "execution_count": 35,
     "metadata": {},
     "output_type": "execute_result"
    }
   ],
   "source": [
    "카드언더 = pd.concat([X_u, y_u], axis=1)\n",
    "카드언더['Class'].value_counts()"
   ]
  },
  {
   "cell_type": "code",
   "execution_count": 36,
   "id": "7bb7fa10",
   "metadata": {},
   "outputs": [],
   "source": [
    "from imblearn.under_sampling import RandomUnderSampler\n",
    "X_u, y_u = RandomUnderSampler(random_state=316, sampling_strategy=0.5).fit_resample(X, y)"
   ]
  },
  {
   "cell_type": "code",
   "execution_count": 37,
   "id": "d285a74a",
   "metadata": {},
   "outputs": [
    {
     "data": {
      "text/plain": [
       "0    984\n",
       "1    492\n",
       "Name: Class, dtype: int64"
      ]
     },
     "execution_count": 37,
     "metadata": {},
     "output_type": "execute_result"
    }
   ],
   "source": [
    "카드언더 = pd.concat([X_u, y_u], axis = 1)\n",
    "카드언더['Class'].value_counts()"
   ]
  },
  {
   "cell_type": "code",
   "execution_count": null,
   "id": "2960a588",
   "metadata": {},
   "outputs": [],
   "source": []
  }
 ],
 "metadata": {
  "kernelspec": {
   "display_name": "Python 3 (ipykernel)",
   "language": "python",
   "name": "python3"
  },
  "language_info": {
   "codemirror_mode": {
    "name": "ipython",
    "version": 3
   },
   "file_extension": ".py",
   "mimetype": "text/x-python",
   "name": "python",
   "nbconvert_exporter": "python",
   "pygments_lexer": "ipython3",
   "version": "3.9.13"
  }
 },
 "nbformat": 4,
 "nbformat_minor": 5
}
