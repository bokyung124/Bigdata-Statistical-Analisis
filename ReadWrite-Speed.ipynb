{
 "cells": [
  {
   "cell_type": "code",
   "execution_count": 1,
   "id": "96ccc69d",
   "metadata": {},
   "outputs": [],
   "source": [
    "import pandas as pd\n",
    "import numpy as np\n",
    "\n",
    "pd.options.display.float_format = '{:,.4f}'.format"
   ]
  },
  {
   "cell_type": "code",
   "execution_count": 2,
   "id": "a8af5584",
   "metadata": {},
   "outputs": [
    {
     "data": {
      "text/html": [
       "<div>\n",
       "<style scoped>\n",
       "    .dataframe tbody tr th:only-of-type {\n",
       "        vertical-align: middle;\n",
       "    }\n",
       "\n",
       "    .dataframe tbody tr th {\n",
       "        vertical-align: top;\n",
       "    }\n",
       "\n",
       "    .dataframe thead th {\n",
       "        text-align: right;\n",
       "    }\n",
       "</style>\n",
       "<table border=\"1\" class=\"dataframe\">\n",
       "  <thead>\n",
       "    <tr style=\"text-align: right;\">\n",
       "      <th></th>\n",
       "      <th>0</th>\n",
       "      <th>1</th>\n",
       "      <th>2</th>\n",
       "      <th>3</th>\n",
       "      <th>4</th>\n",
       "      <th>5</th>\n",
       "      <th>6</th>\n",
       "      <th>7</th>\n",
       "      <th>8</th>\n",
       "      <th>9</th>\n",
       "    </tr>\n",
       "  </thead>\n",
       "  <tbody>\n",
       "    <tr>\n",
       "      <th>0</th>\n",
       "      <td>0.5382</td>\n",
       "      <td>0.6947</td>\n",
       "      <td>0.1898</td>\n",
       "      <td>0.6173</td>\n",
       "      <td>0.8298</td>\n",
       "      <td>0.8424</td>\n",
       "      <td>0.3576</td>\n",
       "      <td>0.7894</td>\n",
       "      <td>0.4898</td>\n",
       "      <td>0.4602</td>\n",
       "    </tr>\n",
       "    <tr>\n",
       "      <th>1</th>\n",
       "      <td>0.8578</td>\n",
       "      <td>0.5751</td>\n",
       "      <td>0.0909</td>\n",
       "      <td>0.6133</td>\n",
       "      <td>0.6285</td>\n",
       "      <td>0.9817</td>\n",
       "      <td>0.8788</td>\n",
       "      <td>0.2398</td>\n",
       "      <td>0.6190</td>\n",
       "      <td>0.3643</td>\n",
       "    </tr>\n",
       "    <tr>\n",
       "      <th>2</th>\n",
       "      <td>0.8134</td>\n",
       "      <td>0.6333</td>\n",
       "      <td>0.4856</td>\n",
       "      <td>0.7573</td>\n",
       "      <td>0.5707</td>\n",
       "      <td>0.2500</td>\n",
       "      <td>0.9234</td>\n",
       "      <td>0.8299</td>\n",
       "      <td>0.2861</td>\n",
       "      <td>0.5930</td>\n",
       "    </tr>\n",
       "    <tr>\n",
       "      <th>3</th>\n",
       "      <td>0.9596</td>\n",
       "      <td>0.3322</td>\n",
       "      <td>0.6423</td>\n",
       "      <td>0.2492</td>\n",
       "      <td>0.4790</td>\n",
       "      <td>0.6574</td>\n",
       "      <td>0.8453</td>\n",
       "      <td>0.0820</td>\n",
       "      <td>0.5854</td>\n",
       "      <td>0.9296</td>\n",
       "    </tr>\n",
       "    <tr>\n",
       "      <th>4</th>\n",
       "      <td>0.1205</td>\n",
       "      <td>0.1734</td>\n",
       "      <td>0.4900</td>\n",
       "      <td>0.7618</td>\n",
       "      <td>0.6900</td>\n",
       "      <td>0.9107</td>\n",
       "      <td>0.1633</td>\n",
       "      <td>0.8376</td>\n",
       "      <td>0.1287</td>\n",
       "      <td>0.6238</td>\n",
       "    </tr>\n",
       "    <tr>\n",
       "      <th>...</th>\n",
       "      <td>...</td>\n",
       "      <td>...</td>\n",
       "      <td>...</td>\n",
       "      <td>...</td>\n",
       "      <td>...</td>\n",
       "      <td>...</td>\n",
       "      <td>...</td>\n",
       "      <td>...</td>\n",
       "      <td>...</td>\n",
       "      <td>...</td>\n",
       "    </tr>\n",
       "    <tr>\n",
       "      <th>99995</th>\n",
       "      <td>0.7393</td>\n",
       "      <td>0.3090</td>\n",
       "      <td>0.1881</td>\n",
       "      <td>0.2612</td>\n",
       "      <td>0.2944</td>\n",
       "      <td>0.2271</td>\n",
       "      <td>0.3275</td>\n",
       "      <td>0.5851</td>\n",
       "      <td>0.7850</td>\n",
       "      <td>0.2216</td>\n",
       "    </tr>\n",
       "    <tr>\n",
       "      <th>99996</th>\n",
       "      <td>0.8826</td>\n",
       "      <td>0.8177</td>\n",
       "      <td>0.4182</td>\n",
       "      <td>0.8612</td>\n",
       "      <td>0.3745</td>\n",
       "      <td>0.8384</td>\n",
       "      <td>0.3970</td>\n",
       "      <td>0.9727</td>\n",
       "      <td>0.5361</td>\n",
       "      <td>0.7753</td>\n",
       "    </tr>\n",
       "    <tr>\n",
       "      <th>99997</th>\n",
       "      <td>0.7509</td>\n",
       "      <td>0.0895</td>\n",
       "      <td>0.8906</td>\n",
       "      <td>0.2498</td>\n",
       "      <td>0.2731</td>\n",
       "      <td>0.0892</td>\n",
       "      <td>0.5515</td>\n",
       "      <td>0.9588</td>\n",
       "      <td>0.6833</td>\n",
       "      <td>0.3072</td>\n",
       "    </tr>\n",
       "    <tr>\n",
       "      <th>99998</th>\n",
       "      <td>0.5289</td>\n",
       "      <td>0.6179</td>\n",
       "      <td>0.1070</td>\n",
       "      <td>0.7573</td>\n",
       "      <td>0.4320</td>\n",
       "      <td>0.4944</td>\n",
       "      <td>0.3276</td>\n",
       "      <td>0.1900</td>\n",
       "      <td>0.4665</td>\n",
       "      <td>0.2001</td>\n",
       "    </tr>\n",
       "    <tr>\n",
       "      <th>99999</th>\n",
       "      <td>0.7014</td>\n",
       "      <td>0.4438</td>\n",
       "      <td>0.6758</td>\n",
       "      <td>0.5080</td>\n",
       "      <td>0.1332</td>\n",
       "      <td>0.9755</td>\n",
       "      <td>0.2133</td>\n",
       "      <td>0.3876</td>\n",
       "      <td>0.3281</td>\n",
       "      <td>0.4200</td>\n",
       "    </tr>\n",
       "  </tbody>\n",
       "</table>\n",
       "<p>100000 rows × 10 columns</p>\n",
       "</div>"
      ],
      "text/plain": [
       "           0      1      2      3      4      5      6      7      8      9\n",
       "0     0.5382 0.6947 0.1898 0.6173 0.8298 0.8424 0.3576 0.7894 0.4898 0.4602\n",
       "1     0.8578 0.5751 0.0909 0.6133 0.6285 0.9817 0.8788 0.2398 0.6190 0.3643\n",
       "2     0.8134 0.6333 0.4856 0.7573 0.5707 0.2500 0.9234 0.8299 0.2861 0.5930\n",
       "3     0.9596 0.3322 0.6423 0.2492 0.4790 0.6574 0.8453 0.0820 0.5854 0.9296\n",
       "4     0.1205 0.1734 0.4900 0.7618 0.6900 0.9107 0.1633 0.8376 0.1287 0.6238\n",
       "...      ...    ...    ...    ...    ...    ...    ...    ...    ...    ...\n",
       "99995 0.7393 0.3090 0.1881 0.2612 0.2944 0.2271 0.3275 0.5851 0.7850 0.2216\n",
       "99996 0.8826 0.8177 0.4182 0.8612 0.3745 0.8384 0.3970 0.9727 0.5361 0.7753\n",
       "99997 0.7509 0.0895 0.8906 0.2498 0.2731 0.0892 0.5515 0.9588 0.6833 0.3072\n",
       "99998 0.5289 0.6179 0.1070 0.7573 0.4320 0.4944 0.3276 0.1900 0.4665 0.2001\n",
       "99999 0.7014 0.4438 0.6758 0.5080 0.1332 0.9755 0.2133 0.3876 0.3281 0.4200\n",
       "\n",
       "[100000 rows x 10 columns]"
      ]
     },
     "execution_count": 2,
     "metadata": {},
     "output_type": "execute_result"
    }
   ],
   "source": [
    "난수개수 = 100000\n",
    "변수개수 = 10\n",
    "values = np.random.random((난수개수, 변수개수))  # 0~1 범위, index : 문자\n",
    "df = pd.DataFrame(values)\n",
    "df"
   ]
  },
  {
   "cell_type": "code",
   "execution_count": 3,
   "id": "048f004b",
   "metadata": {},
   "outputs": [
    {
     "name": "stdout",
     "output_type": "stream",
     "text": [
      "<class 'pandas.core.frame.DataFrame'>\n",
      "RangeIndex: 100000 entries, 0 to 99999\n",
      "Data columns (total 10 columns):\n",
      " #   Column  Non-Null Count   Dtype  \n",
      "---  ------  --------------   -----  \n",
      " 0   A       100000 non-null  float64\n",
      " 1   B       100000 non-null  float64\n",
      " 2   C       100000 non-null  float64\n",
      " 3   D       100000 non-null  float64\n",
      " 4   E       100000 non-null  float64\n",
      " 5   F       100000 non-null  float64\n",
      " 6   G       100000 non-null  float64\n",
      " 7   H       100000 non-null  float64\n",
      " 8   I       100000 non-null  float64\n",
      " 9   J       100000 non-null  float64\n",
      "dtypes: float64(10)\n",
      "memory usage: 7.6 MB\n"
     ]
    }
   ],
   "source": [
    "df.columns = ['A', 'B', 'C', 'D', 'E', 'F', 'G', 'H', 'I', 'J']\n",
    "df.info()"
   ]
  },
  {
   "cell_type": "code",
   "execution_count": 4,
   "id": "943ae566",
   "metadata": {},
   "outputs": [],
   "source": [
    "test = df.head(n = 10)"
   ]
  },
  {
   "cell_type": "code",
   "execution_count": 5,
   "id": "781d3f1a",
   "metadata": {},
   "outputs": [
    {
     "data": {
      "text/html": [
       "<div>\n",
       "<style scoped>\n",
       "    .dataframe tbody tr th:only-of-type {\n",
       "        vertical-align: middle;\n",
       "    }\n",
       "\n",
       "    .dataframe tbody tr th {\n",
       "        vertical-align: top;\n",
       "    }\n",
       "\n",
       "    .dataframe thead th {\n",
       "        text-align: right;\n",
       "    }\n",
       "</style>\n",
       "<table border=\"1\" class=\"dataframe\">\n",
       "  <thead>\n",
       "    <tr style=\"text-align: right;\">\n",
       "      <th></th>\n",
       "      <th>A</th>\n",
       "      <th>B</th>\n",
       "      <th>C</th>\n",
       "      <th>D</th>\n",
       "      <th>E</th>\n",
       "      <th>F</th>\n",
       "      <th>G</th>\n",
       "      <th>H</th>\n",
       "      <th>I</th>\n",
       "      <th>J</th>\n",
       "    </tr>\n",
       "  </thead>\n",
       "  <tbody>\n",
       "    <tr>\n",
       "      <th>0</th>\n",
       "      <td>0.5382</td>\n",
       "      <td>0.6947</td>\n",
       "      <td>0.1898</td>\n",
       "      <td>0.6173</td>\n",
       "      <td>0.8298</td>\n",
       "      <td>0.8424</td>\n",
       "      <td>0.3576</td>\n",
       "      <td>0.7894</td>\n",
       "      <td>0.4898</td>\n",
       "      <td>0.4602</td>\n",
       "    </tr>\n",
       "    <tr>\n",
       "      <th>1</th>\n",
       "      <td>0.8578</td>\n",
       "      <td>0.5751</td>\n",
       "      <td>0.0909</td>\n",
       "      <td>0.6133</td>\n",
       "      <td>0.6285</td>\n",
       "      <td>0.9817</td>\n",
       "      <td>0.8788</td>\n",
       "      <td>0.2398</td>\n",
       "      <td>0.6190</td>\n",
       "      <td>0.3643</td>\n",
       "    </tr>\n",
       "    <tr>\n",
       "      <th>2</th>\n",
       "      <td>0.8134</td>\n",
       "      <td>0.6333</td>\n",
       "      <td>0.4856</td>\n",
       "      <td>0.7573</td>\n",
       "      <td>0.5707</td>\n",
       "      <td>0.2500</td>\n",
       "      <td>0.9234</td>\n",
       "      <td>0.8299</td>\n",
       "      <td>0.2861</td>\n",
       "      <td>0.5930</td>\n",
       "    </tr>\n",
       "    <tr>\n",
       "      <th>3</th>\n",
       "      <td>0.9596</td>\n",
       "      <td>0.3322</td>\n",
       "      <td>0.6423</td>\n",
       "      <td>0.2492</td>\n",
       "      <td>0.4790</td>\n",
       "      <td>0.6574</td>\n",
       "      <td>0.8453</td>\n",
       "      <td>0.0820</td>\n",
       "      <td>0.5854</td>\n",
       "      <td>0.9296</td>\n",
       "    </tr>\n",
       "    <tr>\n",
       "      <th>4</th>\n",
       "      <td>0.1205</td>\n",
       "      <td>0.1734</td>\n",
       "      <td>0.4900</td>\n",
       "      <td>0.7618</td>\n",
       "      <td>0.6900</td>\n",
       "      <td>0.9107</td>\n",
       "      <td>0.1633</td>\n",
       "      <td>0.8376</td>\n",
       "      <td>0.1287</td>\n",
       "      <td>0.6238</td>\n",
       "    </tr>\n",
       "    <tr>\n",
       "      <th>5</th>\n",
       "      <td>0.7046</td>\n",
       "      <td>0.4912</td>\n",
       "      <td>0.5521</td>\n",
       "      <td>0.2102</td>\n",
       "      <td>0.3128</td>\n",
       "      <td>0.8583</td>\n",
       "      <td>0.4541</td>\n",
       "      <td>0.9832</td>\n",
       "      <td>0.4566</td>\n",
       "      <td>0.1106</td>\n",
       "    </tr>\n",
       "    <tr>\n",
       "      <th>6</th>\n",
       "      <td>0.0088</td>\n",
       "      <td>0.5588</td>\n",
       "      <td>0.8649</td>\n",
       "      <td>0.2575</td>\n",
       "      <td>0.3282</td>\n",
       "      <td>0.1406</td>\n",
       "      <td>0.1197</td>\n",
       "      <td>0.9447</td>\n",
       "      <td>0.4408</td>\n",
       "      <td>0.5417</td>\n",
       "    </tr>\n",
       "    <tr>\n",
       "      <th>7</th>\n",
       "      <td>0.6332</td>\n",
       "      <td>0.4989</td>\n",
       "      <td>0.2424</td>\n",
       "      <td>0.7609</td>\n",
       "      <td>0.0105</td>\n",
       "      <td>0.1355</td>\n",
       "      <td>0.7137</td>\n",
       "      <td>0.4420</td>\n",
       "      <td>0.0660</td>\n",
       "      <td>0.4706</td>\n",
       "    </tr>\n",
       "    <tr>\n",
       "      <th>8</th>\n",
       "      <td>0.1904</td>\n",
       "      <td>0.4579</td>\n",
       "      <td>0.1018</td>\n",
       "      <td>0.0985</td>\n",
       "      <td>0.3261</td>\n",
       "      <td>0.5426</td>\n",
       "      <td>0.3753</td>\n",
       "      <td>0.9638</td>\n",
       "      <td>0.6655</td>\n",
       "      <td>0.5477</td>\n",
       "    </tr>\n",
       "    <tr>\n",
       "      <th>9</th>\n",
       "      <td>0.6607</td>\n",
       "      <td>0.3543</td>\n",
       "      <td>0.4368</td>\n",
       "      <td>0.4015</td>\n",
       "      <td>0.6747</td>\n",
       "      <td>0.3003</td>\n",
       "      <td>0.6972</td>\n",
       "      <td>0.1671</td>\n",
       "      <td>0.3389</td>\n",
       "      <td>0.8709</td>\n",
       "    </tr>\n",
       "  </tbody>\n",
       "</table>\n",
       "</div>"
      ],
      "text/plain": [
       "       A      B      C      D      E      F      G      H      I      J\n",
       "0 0.5382 0.6947 0.1898 0.6173 0.8298 0.8424 0.3576 0.7894 0.4898 0.4602\n",
       "1 0.8578 0.5751 0.0909 0.6133 0.6285 0.9817 0.8788 0.2398 0.6190 0.3643\n",
       "2 0.8134 0.6333 0.4856 0.7573 0.5707 0.2500 0.9234 0.8299 0.2861 0.5930\n",
       "3 0.9596 0.3322 0.6423 0.2492 0.4790 0.6574 0.8453 0.0820 0.5854 0.9296\n",
       "4 0.1205 0.1734 0.4900 0.7618 0.6900 0.9107 0.1633 0.8376 0.1287 0.6238\n",
       "5 0.7046 0.4912 0.5521 0.2102 0.3128 0.8583 0.4541 0.9832 0.4566 0.1106\n",
       "6 0.0088 0.5588 0.8649 0.2575 0.3282 0.1406 0.1197 0.9447 0.4408 0.5417\n",
       "7 0.6332 0.4989 0.2424 0.7609 0.0105 0.1355 0.7137 0.4420 0.0660 0.4706\n",
       "8 0.1904 0.4579 0.1018 0.0985 0.3261 0.5426 0.3753 0.9638 0.6655 0.5477\n",
       "9 0.6607 0.3543 0.4368 0.4015 0.6747 0.3003 0.6972 0.1671 0.3389 0.8709"
      ]
     },
     "execution_count": 5,
     "metadata": {},
     "output_type": "execute_result"
    }
   ],
   "source": [
    "test"
   ]
  },
  {
   "cell_type": "markdown",
   "id": "3ba14e11",
   "metadata": {},
   "source": [
    "## 작업속도 비교"
   ]
  },
  {
   "cell_type": "code",
   "execution_count": 6,
   "id": "9bdeb949",
   "metadata": {},
   "outputs": [
    {
     "data": {
      "text/html": [
       "<div>\n",
       "<style scoped>\n",
       "    .dataframe tbody tr th:only-of-type {\n",
       "        vertical-align: middle;\n",
       "    }\n",
       "\n",
       "    .dataframe tbody tr th {\n",
       "        vertical-align: top;\n",
       "    }\n",
       "\n",
       "    .dataframe thead th {\n",
       "        text-align: right;\n",
       "    }\n",
       "</style>\n",
       "<table border=\"1\" class=\"dataframe\">\n",
       "  <thead>\n",
       "    <tr style=\"text-align: right;\">\n",
       "      <th></th>\n",
       "      <th>read</th>\n",
       "      <th>write</th>\n",
       "    </tr>\n",
       "  </thead>\n",
       "  <tbody>\n",
       "  </tbody>\n",
       "</table>\n",
       "</div>"
      ],
      "text/plain": [
       "Empty DataFrame\n",
       "Columns: [read, write]\n",
       "Index: []"
      ]
     },
     "execution_count": 6,
     "metadata": {},
     "output_type": "execute_result"
    }
   ],
   "source": [
    "df_result = pd.DataFrame(columns = ['read', 'write'])\n",
    "df_result.head()"
   ]
  },
  {
   "cell_type": "code",
   "execution_count": 1,
   "id": "c139c5c2",
   "metadata": {},
   "outputs": [
    {
     "name": "stdout",
     "output_type": "stream",
     "text": [
      "Collecting openpyxl\n",
      "  Downloading openpyxl-3.1.2-py2.py3-none-any.whl (249 kB)\n",
      "     ---------------------------------------- 0.0/250.0 kB ? eta -:--:--\n",
      "     -------------------------------------- 250.0/250.0 kB 7.5 MB/s eta 0:00:00\n",
      "Collecting et-xmlfile\n",
      "  Downloading et_xmlfile-1.1.0-py3-none-any.whl (4.7 kB)\n",
      "Installing collected packages: et-xmlfile, openpyxl\n",
      "Successfully installed et-xmlfile-1.1.0 openpyxl-3.1.2\n"
     ]
    }
   ],
   "source": [
    "!pip install openpyxl\n",
    "# import 할 필요 없음"
   ]
  },
  {
   "cell_type": "code",
   "execution_count": null,
   "id": "d91768fa",
   "metadata": {},
   "outputs": [],
   "source": [
    "# excel - 오래걸림!\n",
    "tm = %timeit -o df.to_excel('test_data.xlsx')\n",
    "df_result.loc['excel', 'write'] = tm.best\n",
    "tm = %timeit -o df = pd.read_excel('test_data.xlsx')\n",
    "df_result.loc['excel', 'read'] = tm.best"
   ]
  },
  {
   "cell_type": "code",
   "execution_count": 7,
   "id": "f3a06c1f",
   "metadata": {},
   "outputs": [
    {
     "name": "stdout",
     "output_type": "stream",
     "text": [
      "1.28 s ± 31.7 ms per loop (mean ± std. dev. of 7 runs, 1 loop each)\n",
      "183 ms ± 1.86 ms per loop (mean ± std. dev. of 7 runs, 10 loops each)\n"
     ]
    }
   ],
   "source": [
    "tm = %timeit -o df.to_csv('test_data.csv')    # 시간\n",
    "df_result.loc['csv', 'write'] = tm.best       # 가장 빠른 시간 저장\n",
    "tm = %timeit -o df = pd.read_csv('test_data.csv')\n",
    "df_result.loc['csv', 'read'] = tm.best"
   ]
  },
  {
   "cell_type": "code",
   "execution_count": 8,
   "id": "c66c9d65",
   "metadata": {},
   "outputs": [
    {
     "name": "stdout",
     "output_type": "stream",
     "text": [
      "2.67 ms ± 37.3 µs per loop (mean ± std. dev. of 7 runs, 100 loops each)\n",
      "3.83 ms ± 700 µs per loop (mean ± std. dev. of 7 runs, 100 loops each)\n"
     ]
    }
   ],
   "source": [
    "tm = %timeit -o df.to_pickle('test_data.pickle')\n",
    "df_result.loc['pickle', 'write'] = tm.best\n",
    "tm = %timeit -o df = pd.read_pickle('test_data.pickle')\n",
    "df_result.loc['pickle', 'read'] = tm.best"
   ]
  },
  {
   "cell_type": "code",
   "execution_count": 9,
   "id": "a14cda80",
   "metadata": {},
   "outputs": [
    {
     "name": "stdout",
     "output_type": "stream",
     "text": [
      "10.3 ms ± 2.29 ms per loop (mean ± std. dev. of 7 runs, 100 loops each)\n",
      "6.95 ms ± 75 µs per loop (mean ± std. dev. of 7 runs, 100 loops each)\n"
     ]
    }
   ],
   "source": [
    "tm = %timeit -o df.to_feather('test_data.ftr')\n",
    "df_result.loc['feather', 'write'] = tm.best\n",
    "tm = %timeit -o df = pd.read_feather('test_data.ftr')\n",
    "df_result.loc['feather', 'read'] = tm.best"
   ]
  },
  {
   "cell_type": "code",
   "execution_count": 10,
   "id": "71bd5a64",
   "metadata": {},
   "outputs": [
    {
     "name": "stdout",
     "output_type": "stream",
     "text": [
      "80.1 ms ± 2.03 ms per loop (mean ± std. dev. of 7 runs, 1 loop each)\n",
      "10.6 ms ± 97.9 µs per loop (mean ± std. dev. of 7 runs, 100 loops each)\n"
     ]
    }
   ],
   "source": [
    "tm = %timeit -o df.to_parquet('test_data.parquet')\n",
    "df_result.loc['parquet', 'write'] = tm.best\n",
    "tm = %timeit -o df = pd.read_parquet('test_data.parquet')\n",
    "df_result.loc['parquet', 'read'] = tm.best"
   ]
  },
  {
   "cell_type": "markdown",
   "id": "ff5b4e3f",
   "metadata": {},
   "source": [
    "## spark "
   ]
  },
  {
   "cell_type": "code",
   "execution_count": 11,
   "id": "41b40284",
   "metadata": {},
   "outputs": [
    {
     "data": {
      "text/html": [
       "<div>\n",
       "<style scoped>\n",
       "    .dataframe tbody tr th:only-of-type {\n",
       "        vertical-align: middle;\n",
       "    }\n",
       "\n",
       "    .dataframe tbody tr th {\n",
       "        vertical-align: top;\n",
       "    }\n",
       "\n",
       "    .dataframe thead th {\n",
       "        text-align: right;\n",
       "    }\n",
       "</style>\n",
       "<table border=\"1\" class=\"dataframe\">\n",
       "  <thead>\n",
       "    <tr style=\"text-align: right;\">\n",
       "      <th></th>\n",
       "      <th>read</th>\n",
       "      <th>write</th>\n",
       "    </tr>\n",
       "  </thead>\n",
       "  <tbody>\n",
       "    <tr>\n",
       "      <th>csv</th>\n",
       "      <td>0.1812</td>\n",
       "      <td>1.2357</td>\n",
       "    </tr>\n",
       "    <tr>\n",
       "      <th>pickle</th>\n",
       "      <td>0.0031</td>\n",
       "      <td>0.0026</td>\n",
       "    </tr>\n",
       "    <tr>\n",
       "      <th>feather</th>\n",
       "      <td>0.0068</td>\n",
       "      <td>0.0091</td>\n",
       "    </tr>\n",
       "    <tr>\n",
       "      <th>parquet</th>\n",
       "      <td>0.0105</td>\n",
       "      <td>0.0779</td>\n",
       "    </tr>\n",
       "  </tbody>\n",
       "</table>\n",
       "</div>"
      ],
      "text/plain": [
       "          read  write\n",
       "csv     0.1812 1.2357\n",
       "pickle  0.0031 0.0026\n",
       "feather 0.0068 0.0091\n",
       "parquet 0.0105 0.0779"
      ]
     },
     "execution_count": 11,
     "metadata": {},
     "output_type": "execute_result"
    }
   ],
   "source": [
    "df_result"
   ]
  },
  {
   "cell_type": "code",
   "execution_count": 12,
   "id": "0e73a041",
   "metadata": {},
   "outputs": [],
   "source": [
    "%matplotlib inline\n",
    "import matplotlib.pyplot as plt\n",
    "plt.rcParams['axes.grid'] = True\n",
    "plt.rcParams['figure.figsize'] = (10, 5)\n",
    "plt.rcParams['font.size'] = 20"
   ]
  },
  {
   "cell_type": "code",
   "execution_count": 13,
   "id": "9112b01c",
   "metadata": {},
   "outputs": [
    {
     "data": {
      "image/png": "[encoded data removed]",
      "text/plain": [
       "<Figure size 1000x500 with 1 Axes>"
      ]
     },
     "metadata": {},
     "output_type": "display_data"
    }
   ],
   "source": [
    "df_result\n",
    "df_result.plot(kind = 'bar')\n",
    "plt.show()"
   ]
  }
 ],
 "metadata": {
  "kernelspec": {
   "display_name": "Python 3 (ipykernel)",
   "language": "python",
   "name": "python3"
  },
  "language_info": {
   "codemirror_mode": {
    "name": "ipython",
    "version": 3
   },
   "file_extension": ".py",
   "mimetype": "text/x-python",
   "name": "python",
   "nbconvert_exporter": "python",
   "pygments_lexer": "ipython3",
   "version": "3.11.2"
  }
 },
 "nbformat": 4,
 "nbformat_minor": 5
}
